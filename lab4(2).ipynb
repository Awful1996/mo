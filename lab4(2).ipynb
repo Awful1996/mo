{
  "nbformat": 4,
  "nbformat_minor": 0,
  "metadata": {
    "colab": {
      "name": "lab4(2).ipynb",
      "provenance": [],
      "machine_shape": "hm"
    },
    "kernelspec": {
      "name": "python3",
      "display_name": "Python 3"
    },
    "accelerator": "GPU"
  },
  "cells": [
    {
      "cell_type": "markdown",
      "metadata": {
        "id": "p-CpMUli4S0L",
        "colab_type": "text"
      },
      "source": [
        "Создание сверточной сети и использование MobileNet для распознование номеров домов с количеством цифр в номере от 1-го до 6"
      ]
    },
    {
      "cell_type": "code",
      "metadata": {
        "id": "Ck7DMrBm0WIP",
        "colab_type": "code",
        "colab": {}
      },
      "source": [
        "import os\n",
        "try:\n",
        "  import wget\n",
        "except:\n",
        "  !pip install wget\n",
        "  import wget\n",
        "import tarfile\n",
        "\n",
        "\n",
        "out_dir = 'data/svhn'\n",
        "\n",
        "train_32_32 = ('http://ufldl.stanford.edu/housenumbers/train_32x32.mat', 'train_32x32.mat')\n",
        "test_32_32 = ('http://ufldl.stanford.edu/housenumbers/test_32x32.mat', 'test_32x32.mat')\n",
        "extra_32_32 = ('http://ufldl.stanford.edu/housenumbers/extra_32x32.mat', 'extra_32x32.mat')\n",
        "\n",
        "train_large = ('http://ufldl.stanford.edu/housenumbers/train.tar.gz', 'train.tar.gz')\n",
        "test_large = ('http://ufldl.stanford.edu/housenumbers/test.tar.gz', 'test.tar.gz')\n",
        "extra_large = ('http://ufldl.stanford.edu/housenumbers/extra.tar.gz', 'extra.tar.gz')"
      ],
      "execution_count": 0,
      "outputs": []
    },
    {
      "cell_type": "code",
      "metadata": {
        "id": "LnBBPi3aTdCt",
        "colab_type": "code",
        "outputId": "79358462-21cd-44ed-fa06-ed113b3bc861",
        "colab": {
          "base_uri": "https://localhost:8080/",
          "height": 34
        }
      },
      "source": [
        "import tensorflow as tf\n",
        "tf.test.gpu_device_name()"
      ],
      "execution_count": 0,
      "outputs": [
        {
          "output_type": "execute_result",
          "data": {
            "text/plain": [
              "'/device:GPU:0'"
            ]
          },
          "metadata": {
            "tags": []
          },
          "execution_count": 2
        }
      ]
    },
    {
      "cell_type": "code",
      "metadata": {
        "id": "ATuT7NPe1Cil",
        "colab_type": "code",
        "outputId": "9d1b89f6-4616-4c65-b09f-92abfb491e67",
        "colab": {
          "base_uri": "https://localhost:8080/",
          "height": 187
        }
      },
      "source": [
        "def download_data(url, filename, out_dir=out_dir):\n",
        "    filename = os.path.join(out_dir, filename)\n",
        "\n",
        "    if not os.path.exists(out_dir):\n",
        "        os.makedirs(out_dir)\n",
        "\n",
        "    if not os.path.exists(filename):\n",
        "        print(f\"Downloading {filename}.\")\n",
        "        wget.download(url, filename)\n",
        "        print()\n",
        "    else:\n",
        "        print(f\"Skipping {filename} download (already exists)\")\n",
        "\n",
        "\n",
        "def extract_data(filename, out_dir=out_dir):\n",
        "    filename = os.path.join(out_dir, filename)\n",
        "\n",
        "    print(f\"Extracting {filename}\")\n",
        "    with tarfile.open(filename) as tar:\n",
        "        tar.extractall(out_dir)\n",
        "\n",
        "download_data(*train_32_32)\n",
        "download_data(*test_32_32)\n",
        "download_data(*extra_32_32)\n",
        "\n",
        "download_data(*train_large)\n",
        "download_data(*test_large)\n",
        "download_data(*extra_large)\n",
        "\n",
        "extract_data(train_large[1])\n",
        "extract_data(test_large[1])\n",
        "extract_data(extra_large[1])\n"
      ],
      "execution_count": 0,
      "outputs": [
        {
          "output_type": "stream",
          "text": [
            "Skipping data/svhn/train_32x32.mat download (already exists)\n",
            "Skipping data/svhn/test_32x32.mat download (already exists)\n",
            "Skipping data/svhn/extra_32x32.mat download (already exists)\n",
            "Skipping data/svhn/train.tar.gz download (already exists)\n",
            "Skipping data/svhn/test.tar.gz download (already exists)\n",
            "Downloading data/svhn/extra.tar.gz.\n",
            "\n",
            "Extracting data/svhn/train.tar.gz\n",
            "Extracting data/svhn/test.tar.gz\n",
            "Extracting data/svhn/extra.tar.gz\n"
          ],
          "name": "stdout"
        }
      ]
    },
    {
      "cell_type": "code",
      "metadata": {
        "id": "7FMwSc2w3z4S",
        "colab_type": "code",
        "colab": {}
      },
      "source": [
        "# -*- coding: utf-8 -*-\n",
        "from tensorflow import keras\n",
        "import numpy as np\n",
        "from PIL import Image\n",
        "from pathlib import Path\n",
        "from scipy import io\n",
        "import h5py\n",
        "import json\n",
        "\n",
        "def to_one_hot(a, n):\n",
        "    result = np.zeros(shape=(a.shape[0], n))\n",
        "    result[np.arange(len(a)), a] = 1\n",
        "    return result\n",
        "\n",
        "def load_multiple_digits_data(dir='data/svhn', train=True, extra=False):\n",
        "\n",
        "    def parse_digit_struct(file):\n",
        "        print('file - ' + str(file))\n",
        "        if Path(f\"{file}.cache.json\").exists() and os.stat(f\"{file}.cache.json\").st_size != 0:\n",
        "            print('exist')\n",
        "            with open(f\"{file}.cache.json\", \"r\") as f:\n",
        "                images = json.load(f)\n",
        "                print(f'Loaded cached image attrs from {file}.cache.json')\n",
        "                return images\n",
        "\n",
        "        f = h5py.File(file, 'r')\n",
        "        print(f'Opened file {file}')\n",
        "\n",
        "        names = f['digitStruct']['name']\n",
        "        bbox = f['digitStruct']['bbox']\n",
        "\n",
        "        def extract_name(i):\n",
        "            return ''.join([chr(c[0]) for c in f[names[i][0]].value])\n",
        "\n",
        "        def extract_attr(i, attr):\n",
        "            attr = f[bbox[i].item()][attr]\n",
        "            if len(attr) > 1:\n",
        "                return [f[attr.value[j].item()].value[0][0] for j in range(len(attr))]\n",
        "            else:\n",
        "                return [attr.value[0][0]]\n",
        "\n",
        "        images = {}\n",
        "        print(f'Extracting image attrs from {file}: ', end='')\n",
        "        for i in range(len(names)):\n",
        "            name = extract_name(i)\n",
        "            images[name] = {\n",
        "                \"label\": extract_attr(i, 'label'),\n",
        "                \"top\": extract_attr(i, 'top'),\n",
        "                \"left\": extract_attr(i, 'left'),\n",
        "                \"height\": extract_attr(i, 'height'),\n",
        "                \"width\": extract_attr(i, 'width')\n",
        "            }\n",
        "            if i % 1000 == 0:\n",
        "                print('.', end='', flush=True)\n",
        "        print()\n",
        "\n",
        "        with open(f\"{file}.cache.json\", 'w+') as f:\n",
        "            json.dump(images, f)\n",
        "        return images\n",
        "\n",
        "    def process_images(dir):\n",
        "        cache_file = Path(dir) / 'cache.npz'\n",
        "        if cache_file.exists():\n",
        "            f = np.load(cache_file)\n",
        "            print(f'Loaded cached arrays for {dir}')\n",
        "            return [v for k, v in f.items()]\n",
        "\n",
        "        attrs = parse_digit_struct(Path(dir) / 'digitStruct.mat')\n",
        "\n",
        "        x, y = [], []\n",
        "        print(f'Processing images from {dir}: ', end='', flush=True)\n",
        "        for i, name in enumerate(os.listdir(dir)):\n",
        "            if name not in attrs:\n",
        "                print('s', end='', flush=True)\n",
        "                continue\n",
        "\n",
        "            img = Image.open(Path(dir) / name)\n",
        "\n",
        "            height = int(max(attrs[name]['height']))\n",
        "            width = int(max(attrs[name]['width']))\n",
        "            left = max(int(min(attrs[name]['left'])) - 0.5 * width, 0)\n",
        "            top = max(int(min(attrs[name]['top'])) - 0.5 * height, 0)\n",
        "            right = min(int(max(attrs[name]['left'])) + 1.5 * width, img.size[0])\n",
        "            bottom = min(int(max(attrs[name]['top'])) + 1.5 * height, img.size[1])\n",
        "\n",
        "            img = img.crop(box=(left, top, right, bottom))\n",
        "            img = img.resize((96, 96))\n",
        "\n",
        "            label = [d % 10 for d in attrs[name]['label']]\n",
        "            if len(label) > 6:\n",
        "                print('e', end='', flush=True)\n",
        "                continue\n",
        "\n",
        "            label += [10] * (6 - len(label))\n",
        "            label = to_one_hot(np.array(label, dtype=np.int), 11)\n",
        "\n",
        "            x.append(np.array(img))\n",
        "            y.append(np.array(label))\n",
        "\n",
        "            if i % 1000 == 0:\n",
        "                print('.', end='', flush=True)\n",
        "        print()\n",
        "\n",
        "        x = np.array(x, dtype=np.uint8)\n",
        "        y = np.array(y, dtype=np.uint8)\n",
        "        np.savez(Path(dir) / \"cache.npz\", x, y)\n",
        "        return x, y\n",
        "\n",
        "    x_test, y_test = process_images(Path(dir) / 'test/')\n",
        "\n",
        "    x_train, y_train = None, None\n",
        "    if train:\n",
        "        x_train, y_train = process_images(Path(dir) / 'train/')\n",
        "\n",
        "    x_extra, y_extra = None, None\n",
        "    if extra:\n",
        "        x_extra, y_extra = process_images(Path(dir) / 'extra/')\n",
        "\n",
        "    return (\n",
        "        x_train, y_train,\n",
        "        x_test, y_test,\n",
        "        x_extra, y_extra\n",
        "    )\n",
        "\n",
        "    x_test, y_test = process_images(Path(dir) / 'test/')\n",
        "\n",
        "    x_train, y_train = None, None\n",
        "    if train:\n",
        "        x_train, y_train = process_images(Path(dir) / 'train/')\n",
        "\n",
        "    x_extra, y_extra = None, None\n",
        "    if extra:\n",
        "        x_extra, y_extra = process_images(Path(dir) / 'extra/')\n",
        "\n",
        "    return (\n",
        "        x_train, y_train,\n",
        "        x_test, y_test,\n",
        "        x_extra, y_extra\n",
        "    )\n",
        "\n",
        "\n"
      ],
      "execution_count": 0,
      "outputs": []
    },
    {
      "cell_type": "code",
      "metadata": {
        "id": "F4mcTuvqV1S_",
        "colab_type": "code",
        "outputId": "757ae199-98f0-4b40-a19f-13086ddf3611",
        "colab": {
          "base_uri": "https://localhost:8080/",
          "height": 51
        }
      },
      "source": [
        "x_train, y_train, x_test, y_test, _, _ = load_multiple_digits_data()\n",
        "from sklearn.model_selection import train_test_split\n",
        "x_train, x_val, y_train, y_val = train_test_split(x_train, y_train, test_size=0.1)\n",
        "\n",
        "def to_y(a, n):\n",
        "    return [a[:,i,:] for i in range(n)]\n",
        "\n",
        "if y_train is not None and y_val is not None and y_test is not None:\n",
        "            y_train = to_y(y_train, 6)\n",
        "            y_val = to_y(y_val, 6)\n",
        "            y_test = to_y(y_test, 6)\n"
      ],
      "execution_count": 0,
      "outputs": [
        {
          "output_type": "stream",
          "text": [
            "Loaded cached arrays for data/svhn/test\n",
            "Loaded cached arrays for data/svhn/train\n"
          ],
          "name": "stdout"
        }
      ]
    },
    {
      "cell_type": "code",
      "metadata": {
        "id": "fGM21HOafq8T",
        "colab_type": "code",
        "outputId": "a42598d5-c8b1-4a8a-fb4e-08331c651765",
        "colab": {
          "base_uri": "https://localhost:8080/",
          "height": 34
        }
      },
      "source": [
        "y_train[1].shape"
      ],
      "execution_count": 0,
      "outputs": [
        {
          "output_type": "execute_result",
          "data": {
            "text/plain": [
              "(30061, 11)"
            ]
          },
          "metadata": {
            "tags": []
          },
          "execution_count": 49
        }
      ]
    },
    {
      "cell_type": "code",
      "metadata": {
        "id": "xGV_Zt0Z42xE",
        "colab_type": "code",
        "outputId": "2b428789-3bc0-460b-ada5-9a67ffb262cd",
        "colab": {
          "base_uri": "https://localhost:8080/",
          "height": 731
        }
      },
      "source": [
        "import tensorflow as tf\n",
        "\n",
        "from tensorflow import keras\n",
        "\n",
        "input = keras.layers.Input(shape=(96, 96, 3))\n",
        "\n",
        "x = keras.layers.Conv2D(16, 5, activation='relu', padding='same')(input)\n",
        "x = keras.layers.MaxPool2D(pool_size=(2, 2), padding = 'same')(x)\n",
        "x = keras.layers.Conv2D(32, 5, activation='relu', padding='same')(x)\n",
        "x = keras.layers.MaxPool2D(pool_size=(2, 2), padding='same')(x)\n",
        "x = keras.layers.Conv2D(64, 5, activation='relu', padding='same')(x)\n",
        "x = keras.layers.MaxPool2D(pool_size=(2, 2), padding='same')(x)\n",
        "x = keras.layers.Flatten()(x)\n",
        "x = keras.layers.Dropout(rate=0.1)(x)\n",
        "x = keras.layers.Dense(100, activation='relu')(x)\n",
        "x = keras.layers.Dropout(rate=0.1)(x)\n",
        "\n",
        "out1 = keras.layers.Dense(11,  activation='linear')(x)\n",
        "out2 = keras.layers.Dense(11,  activation='linear')(x)\n",
        "out3 = keras.layers.Dense(11,  activation='linear')(x)\n",
        "out4 = keras.layers.Dense(11,  activation='linear')(x)\n",
        "out5 = keras.layers.Dense(11,  activation='linear')(x)\n",
        "out6 = keras.layers.Dense(11,  activation='linear')(x)\n",
        "\n",
        "\n",
        "outputs = [\n",
        "   keras.layers.Dense(11, activation='softmax', name=f'out_{i}')(dropout)\n",
        "   for i in range(6)\n",
        "]\n",
        "\n",
        "model = keras.models.Model(\n",
        "   inputs=[input],\n",
        "   outputs=[out1,out2,out3,out4,out5,out6]\n",
        ")\n",
        "model.compile(\n",
        "   optimizer=keras.optimizers.Adam(lr=0.001),\n",
        "   loss='categorical_crossentropy',\n",
        "   metrics=['categorical_accuracy']#,\n",
        "   #loss_weights=[1, 1, 0.5, 0.3, 0.1, 0.05]\n",
        ")\n",
        "model.summary()"
      ],
      "execution_count": 0,
      "outputs": [
        {
          "output_type": "stream",
          "text": [
            "Model: \"model_12\"\n",
            "__________________________________________________________________________________________________\n",
            "Layer (type)                    Output Shape         Param #     Connected to                     \n",
            "==================================================================================================\n",
            "input_15 (InputLayer)           [(None, 96, 96, 3)]  0                                            \n",
            "__________________________________________________________________________________________________\n",
            "conv2d_21 (Conv2D)              (None, 96, 96, 16)   1216        input_15[0][0]                   \n",
            "__________________________________________________________________________________________________\n",
            "max_pooling2d_21 (MaxPooling2D) (None, 48, 48, 16)   0           conv2d_21[0][0]                  \n",
            "__________________________________________________________________________________________________\n",
            "conv2d_22 (Conv2D)              (None, 48, 48, 32)   12832       max_pooling2d_21[0][0]           \n",
            "__________________________________________________________________________________________________\n",
            "max_pooling2d_22 (MaxPooling2D) (None, 24, 24, 32)   0           conv2d_22[0][0]                  \n",
            "__________________________________________________________________________________________________\n",
            "conv2d_23 (Conv2D)              (None, 24, 24, 64)   51264       max_pooling2d_22[0][0]           \n",
            "__________________________________________________________________________________________________\n",
            "max_pooling2d_23 (MaxPooling2D) (None, 12, 12, 64)   0           conv2d_23[0][0]                  \n",
            "__________________________________________________________________________________________________\n",
            "flatten_6 (Flatten)             (None, 9216)         0           max_pooling2d_23[0][0]           \n",
            "__________________________________________________________________________________________________\n",
            "dropout_23 (Dropout)            (None, 9216)         0           flatten_6[0][0]                  \n",
            "__________________________________________________________________________________________________\n",
            "dense_26 (Dense)                (None, 100)          921700      dropout_23[0][0]                 \n",
            "__________________________________________________________________________________________________\n",
            "dropout_24 (Dropout)            (None, 100)          0           dense_26[0][0]                   \n",
            "__________________________________________________________________________________________________\n",
            "dense_27 (Dense)                (None, 11)           1111        dropout_24[0][0]                 \n",
            "__________________________________________________________________________________________________\n",
            "dense_28 (Dense)                (None, 11)           1111        dropout_24[0][0]                 \n",
            "__________________________________________________________________________________________________\n",
            "dense_29 (Dense)                (None, 11)           1111        dropout_24[0][0]                 \n",
            "__________________________________________________________________________________________________\n",
            "dense_30 (Dense)                (None, 11)           1111        dropout_24[0][0]                 \n",
            "__________________________________________________________________________________________________\n",
            "dense_31 (Dense)                (None, 11)           1111        dropout_24[0][0]                 \n",
            "__________________________________________________________________________________________________\n",
            "dense_32 (Dense)                (None, 11)           1111        dropout_24[0][0]                 \n",
            "==================================================================================================\n",
            "Total params: 993,678\n",
            "Trainable params: 993,678\n",
            "Non-trainable params: 0\n",
            "__________________________________________________________________________________________________\n"
          ],
          "name": "stdout"
        }
      ]
    },
    {
      "cell_type": "code",
      "metadata": {
        "id": "RbT3uIqx5PnZ",
        "colab_type": "code",
        "outputId": "2c5be392-1f37-457d-9187-dca46132b741",
        "colab": {
          "base_uri": "https://localhost:8080/",
          "height": 836
        }
      },
      "source": [
        "model.fit(\n",
        "                x_train,\n",
        "                y_train,\n",
        "                epochs=100,\n",
        "                batch_size=32,\n",
        "                verbose=2,\n",
        "                validation_split=0.1,\n",
        "                callbacks=[\n",
        "                    keras.callbacks.EarlyStopping(\n",
        "                        patience=10,\n",
        "                        restore_best_weights=True\n",
        "                    )\n",
        "                ]\n",
        "            )"
      ],
      "execution_count": 0,
      "outputs": [
        {
          "output_type": "stream",
          "text": [
            "Epoch 1/100\n",
            "846/846 - 12s - loss: 25.5872 - dense_20_loss: 7.9882 - dense_21_loss: 8.1141 - dense_22_loss: 8.4577 - dense_23_loss: 10.1549 - dense_24_loss: 14.8678 - dense_25_loss: 14.4557 - dense_20_categorical_accuracy: 0.1913 - dense_21_categorical_accuracy: 0.0883 - dense_22_categorical_accuracy: 0.2896 - dense_23_categorical_accuracy: 0.4940 - dense_24_categorical_accuracy: 0.0723 - dense_25_categorical_accuracy: 0.4803 - val_loss: 24.1255 - val_dense_20_loss: 9.1663 - val_dense_21_loss: 6.2873 - val_dense_22_loss: 3.0416 - val_dense_23_loss: 15.7778 - val_dense_24_loss: 16.1181 - val_dense_25_loss: 16.1181 - val_dense_20_categorical_accuracy: 0.2770 - val_dense_21_categorical_accuracy: 0.0861 - val_dense_22_categorical_accuracy: 0.0253 - val_dense_23_categorical_accuracy: 0.9611 - val_dense_24_categorical_accuracy: 0.0000e+00 - val_dense_25_categorical_accuracy: 0.0000e+00\n",
            "Epoch 2/100\n",
            "846/846 - 11s - loss: 25.4986 - dense_20_loss: 7.7880 - dense_21_loss: 7.9509 - dense_22_loss: 9.0528 - dense_23_loss: 9.5657 - dense_24_loss: 15.7580 - dense_25_loss: 15.7581 - dense_20_categorical_accuracy: 0.2370 - dense_21_categorical_accuracy: 0.0859 - dense_22_categorical_accuracy: 0.1555 - dense_23_categorical_accuracy: 0.8567 - dense_24_categorical_accuracy: 4.4356e-04 - dense_25_categorical_accuracy: 0.1673 - val_loss: 30.3189 - val_dense_20_loss: 6.9518 - val_dense_21_loss: 9.8308 - val_dense_22_loss: 12.7584 - val_dense_23_loss: 15.7981 - val_dense_24_loss: 16.1181 - val_dense_25_loss: 16.1181 - val_dense_20_categorical_accuracy: 0.2770 - val_dense_21_categorical_accuracy: 0.0861 - val_dense_22_categorical_accuracy: 0.0253 - val_dense_23_categorical_accuracy: 0.9611 - val_dense_24_categorical_accuracy: 0.0000e+00 - val_dense_25_categorical_accuracy: 0.0000e+00\n",
            "Epoch 3/100\n",
            "846/846 - 11s - loss: 24.8798 - dense_20_loss: 8.0329 - dense_21_loss: 8.3661 - dense_22_loss: 8.0816 - dense_23_loss: 6.8736 - dense_24_loss: 15.8366 - dense_25_loss: 15.8858 - dense_20_categorical_accuracy: 0.2460 - dense_21_categorical_accuracy: 0.0886 - dense_22_categorical_accuracy: 0.5788 - dense_23_categorical_accuracy: 0.7736 - dense_24_categorical_accuracy: 0.0312 - dense_25_categorical_accuracy: 0.3317 - val_loss: 29.0424 - val_dense_20_loss: 10.0135 - val_dense_21_loss: 10.2596 - val_dense_22_loss: 3.2861 - val_dense_23_loss: 15.6952 - val_dense_24_loss: 16.1181 - val_dense_25_loss: 16.1181 - val_dense_20_categorical_accuracy: 0.0027 - val_dense_21_categorical_accuracy: 0.0811 - val_dense_22_categorical_accuracy: 0.0346 - val_dense_23_categorical_accuracy: 0.0060 - val_dense_24_categorical_accuracy: 0.0000e+00 - val_dense_25_categorical_accuracy: 0.0000e+00\n",
            "Epoch 4/100\n",
            "846/846 - 11s - loss: 22.7401 - dense_20_loss: 7.3277 - dense_21_loss: 7.9836 - dense_22_loss: 5.6523 - dense_23_loss: 7.3667 - dense_24_loss: 16.1140 - dense_25_loss: 15.6255 - dense_20_categorical_accuracy: 0.1307 - dense_21_categorical_accuracy: 0.0983 - dense_22_categorical_accuracy: 0.0376 - dense_23_categorical_accuracy: 0.0050 - dense_24_categorical_accuracy: 7.3926e-05 - dense_25_categorical_accuracy: 0.0000e+00 - val_loss: 30.1743 - val_dense_20_loss: 6.1421 - val_dense_21_loss: 10.2596 - val_dense_22_loss: 13.2768 - val_dense_23_loss: 15.7216 - val_dense_24_loss: 16.1181 - val_dense_25_loss: 16.1181 - val_dense_20_categorical_accuracy: 0.1337 - val_dense_21_categorical_accuracy: 0.1061 - val_dense_22_categorical_accuracy: 0.0346 - val_dense_23_categorical_accuracy: 0.0060 - val_dense_24_categorical_accuracy: 0.0000e+00 - val_dense_25_categorical_accuracy: 0.0000e+00\n",
            "Epoch 5/100\n",
            "846/846 - 11s - loss: 26.9416 - dense_20_loss: 8.5300 - dense_21_loss: 8.8952 - dense_22_loss: 8.8231 - dense_23_loss: 8.9834 - dense_24_loss: 16.1145 - dense_25_loss: 15.9679 - dense_20_categorical_accuracy: 0.1342 - dense_21_categorical_accuracy: 0.0973 - dense_22_categorical_accuracy: 0.0369 - dense_23_categorical_accuracy: 0.0047 - dense_24_categorical_accuracy: 0.0000e+00 - dense_25_categorical_accuracy: 0.0000e+00 - val_loss: 24.4300 - val_dense_20_loss: 10.0135 - val_dense_21_loss: 5.8585 - val_dense_22_loss: 2.8253 - val_dense_23_loss: 15.7591 - val_dense_24_loss: 16.1181 - val_dense_25_loss: 16.1181 - val_dense_20_categorical_accuracy: 0.1337 - val_dense_21_categorical_accuracy: 0.1061 - val_dense_22_categorical_accuracy: 0.0346 - val_dense_23_categorical_accuracy: 0.0060 - val_dense_24_categorical_accuracy: 0.0000e+00 - val_dense_25_categorical_accuracy: 0.0000e+00\n",
            "Epoch 6/100\n",
            "846/846 - 11s - loss: 24.5093 - dense_20_loss: 8.6035 - dense_21_loss: 7.4870 - dense_22_loss: 6.2798 - dense_23_loss: 9.5385 - dense_24_loss: 16.1141 - dense_25_loss: 16.1171 - dense_20_categorical_accuracy: 0.1356 - dense_21_categorical_accuracy: 0.0977 - dense_22_categorical_accuracy: 0.0379 - dense_23_categorical_accuracy: 0.0050 - dense_24_categorical_accuracy: 3.6963e-05 - dense_25_categorical_accuracy: 3.6963e-05 - val_loss: 15.9011 - val_dense_20_loss: 6.1046 - val_dense_21_loss: 5.8585 - val_dense_22_loss: 2.8253 - val_dense_23_loss: 0.3590 - val_dense_24_loss: 16.1181 - val_dense_25_loss: 16.1181 - val_dense_20_categorical_accuracy: 0.1337 - val_dense_21_categorical_accuracy: 0.1061 - val_dense_22_categorical_accuracy: 0.0346 - val_dense_23_categorical_accuracy: 0.0060 - val_dense_24_categorical_accuracy: 0.0000e+00 - val_dense_25_categorical_accuracy: 0.0000e+00\n",
            "Epoch 7/100\n",
            "846/846 - 11s - loss: 23.8692 - dense_20_loss: 7.8035 - dense_21_loss: 7.5713 - dense_22_loss: 5.4336 - dense_23_loss: 11.2251 - dense_24_loss: 16.1123 - dense_25_loss: 15.9757 - dense_20_categorical_accuracy: 0.1330 - dense_21_categorical_accuracy: 0.0984 - dense_22_categorical_accuracy: 0.0379 - dense_23_categorical_accuracy: 0.0043 - dense_24_categorical_accuracy: 3.6963e-05 - dense_25_categorical_accuracy: 0.0030 - val_loss: 24.1496 - val_dense_20_loss: 6.9485 - val_dense_21_loss: 7.7566 - val_dense_22_loss: 13.8553 - val_dense_23_loss: 0.3308 - val_dense_24_loss: 16.1181 - val_dense_25_loss: 16.1181 - val_dense_20_categorical_accuracy: 0.1337 - val_dense_21_categorical_accuracy: 0.1061 - val_dense_22_categorical_accuracy: 0.0346 - val_dense_23_categorical_accuracy: 0.0040 - val_dense_24_categorical_accuracy: 0.0000e+00 - val_dense_25_categorical_accuracy: 0.0000e+00\n",
            "Epoch 8/100\n",
            "846/846 - 11s - loss: 27.4052 - dense_20_loss: 8.1056 - dense_21_loss: 8.2158 - dense_22_loss: 9.8477 - dense_23_loss: 12.5303 - dense_24_loss: 15.9513 - dense_25_loss: 16.1135 - dense_20_categorical_accuracy: 0.1003 - dense_21_categorical_accuracy: 0.0883 - dense_22_categorical_accuracy: 0.0851 - dense_23_categorical_accuracy: 0.0040 - dense_24_categorical_accuracy: 0.8565 - dense_25_categorical_accuracy: 0.0068 - val_loss: 30.4087 - val_dense_20_loss: 8.3949 - val_dense_21_loss: 8.2272 - val_dense_22_loss: 13.2662 - val_dense_23_loss: 15.7857 - val_dense_24_loss: 16.1181 - val_dense_25_loss: 16.1181 - val_dense_20_categorical_accuracy: 0.1337 - val_dense_21_categorical_accuracy: 0.0728 - val_dense_22_categorical_accuracy: 0.0303 - val_dense_23_categorical_accuracy: 0.0040 - val_dense_24_categorical_accuracy: 1.0000 - val_dense_25_categorical_accuracy: 0.0000e+00\n",
            "Epoch 9/100\n",
            "846/846 - 11s - loss: 26.9968 - dense_20_loss: 8.5868 - dense_21_loss: 8.2002 - dense_22_loss: 9.4175 - dense_23_loss: 10.3097 - dense_24_loss: 16.0224 - dense_25_loss: 16.1182 - dense_20_categorical_accuracy: 0.0757 - dense_21_categorical_accuracy: 0.0856 - dense_22_categorical_accuracy: 0.0802 - dense_23_categorical_accuracy: 0.0043 - dense_24_categorical_accuracy: 0.8866 - dense_25_categorical_accuracy: 0.0056 - val_loss: 29.8392 - val_dense_20_loss: 12.1883 - val_dense_21_loss: 8.1852 - val_dense_22_loss: 13.9094 - val_dense_23_loss: 0.3108 - val_dense_24_loss: 16.1181 - val_dense_25_loss: 16.1181 - val_dense_20_categorical_accuracy: 0.0027 - val_dense_21_categorical_accuracy: 0.0728 - val_dense_22_categorical_accuracy: 0.0303 - val_dense_23_categorical_accuracy: 0.0030 - val_dense_24_categorical_accuracy: 1.0000 - val_dense_25_categorical_accuracy: 0.0000e+00\n",
            "Epoch 10/100\n",
            "846/846 - 11s - loss: 27.9577 - dense_20_loss: 11.6004 - dense_21_loss: 7.9561 - dense_22_loss: 7.4754 - dense_23_loss: 7.5418 - dense_24_loss: 15.9508 - dense_25_loss: 16.1176 - dense_20_categorical_accuracy: 0.0143 - dense_21_categorical_accuracy: 0.0827 - dense_22_categorical_accuracy: 0.0592 - dense_23_categorical_accuracy: 0.0045 - dense_24_categorical_accuracy: 0.8423 - dense_25_categorical_accuracy: 0.0000e+00 - val_loss: 28.6641 - val_dense_20_loss: 12.1883 - val_dense_21_loss: 7.9329 - val_dense_22_loss: 2.7660 - val_dense_23_loss: 15.8073 - val_dense_24_loss: 16.1181 - val_dense_25_loss: 16.1181 - val_dense_20_categorical_accuracy: 0.0027 - val_dense_21_categorical_accuracy: 0.0728 - val_dense_22_categorical_accuracy: 0.0303 - val_dense_23_categorical_accuracy: 0.0027 - val_dense_24_categorical_accuracy: 1.0000 - val_dense_25_categorical_accuracy: 0.0000e+00\n",
            "Epoch 11/100\n",
            "846/846 - 11s - loss: 23.4535 - dense_20_loss: 6.9473 - dense_21_loss: 7.6929 - dense_22_loss: 7.3438 - dense_23_loss: 9.1375 - dense_24_loss: 15.9422 - dense_25_loss: 16.1176 - dense_20_categorical_accuracy: 0.0128 - dense_21_categorical_accuracy: 0.0811 - dense_22_categorical_accuracy: 0.0387 - dense_23_categorical_accuracy: 0.0044 - dense_24_categorical_accuracy: 0.9054 - dense_25_categorical_accuracy: 0.0000e+00 - val_loss: 25.6761 - val_dense_20_loss: 3.9298 - val_dense_21_loss: 7.9329 - val_dense_22_loss: 13.3521 - val_dense_23_loss: 15.7321 - val_dense_24_loss: 16.1181 - val_dense_25_loss: 16.1181 - val_dense_20_categorical_accuracy: 0.0027 - val_dense_21_categorical_accuracy: 0.0728 - val_dense_22_categorical_accuracy: 0.0303 - val_dense_23_categorical_accuracy: 0.0027 - val_dense_24_categorical_accuracy: 1.0000 - val_dense_25_categorical_accuracy: 0.0000e+00\n",
            "Epoch 12/100\n",
            "846/846 - 11s - loss: 24.2445 - dense_20_loss: 4.2911 - dense_21_loss: 7.7647 - dense_22_loss: 12.2129 - dense_23_loss: 12.2707 - dense_24_loss: 15.9526 - dense_25_loss: 16.1176 - dense_20_categorical_accuracy: 0.0117 - dense_21_categorical_accuracy: 0.0822 - dense_22_categorical_accuracy: 0.0383 - dense_23_categorical_accuracy: 0.0044 - dense_24_categorical_accuracy: 0.9051 - dense_25_categorical_accuracy: 0.0000e+00 - val_loss: 25.6761 - val_dense_20_loss: 3.9298 - val_dense_21_loss: 7.9329 - val_dense_22_loss: 13.3521 - val_dense_23_loss: 15.7321 - val_dense_24_loss: 16.1181 - val_dense_25_loss: 16.1181 - val_dense_20_categorical_accuracy: 0.0027 - val_dense_21_categorical_accuracy: 0.0728 - val_dense_22_categorical_accuracy: 0.0303 - val_dense_23_categorical_accuracy: 0.0027 - val_dense_24_categorical_accuracy: 1.0000 - val_dense_25_categorical_accuracy: 0.0000e+00\n",
            "Epoch 13/100\n",
            "846/846 - 11s - loss: 21.5637 - dense_20_loss: 4.2988 - dense_21_loss: 7.6929 - dense_22_loss: 11.4577 - dense_23_loss: 4.8096 - dense_24_loss: 15.9436 - dense_25_loss: 16.1176 - dense_20_categorical_accuracy: 0.0123 - dense_21_categorical_accuracy: 0.0825 - dense_22_categorical_accuracy: 0.0367 - dense_23_categorical_accuracy: 0.0046 - dense_24_categorical_accuracy: 0.8686 - dense_25_categorical_accuracy: 0.0000e+00 - val_loss: 15.7791 - val_dense_20_loss: 3.9298 - val_dense_21_loss: 7.9329 - val_dense_22_loss: 2.7660 - val_dense_23_loss: 0.3860 - val_dense_24_loss: 16.1181 - val_dense_25_loss: 16.1181 - val_dense_20_categorical_accuracy: 0.0027 - val_dense_21_categorical_accuracy: 0.0728 - val_dense_22_categorical_accuracy: 0.0303 - val_dense_23_categorical_accuracy: 0.0027 - val_dense_24_categorical_accuracy: 1.0000 - val_dense_25_categorical_accuracy: 0.0000e+00\n",
            "Epoch 14/100\n",
            "846/846 - 11s - loss: 16.3488 - dense_20_loss: 4.2700 - dense_21_loss: 7.6798 - dense_22_loss: 2.9043 - dense_23_loss: 1.8258 - dense_24_loss: 15.9324 - dense_25_loss: 16.1176 - dense_20_categorical_accuracy: 0.0126 - dense_21_categorical_accuracy: 0.0836 - dense_22_categorical_accuracy: 0.0379 - dense_23_categorical_accuracy: 0.0044 - dense_24_categorical_accuracy: 0.8351 - dense_25_categorical_accuracy: 0.0000e+00 - val_loss: 15.7791 - val_dense_20_loss: 3.9298 - val_dense_21_loss: 7.9329 - val_dense_22_loss: 2.7660 - val_dense_23_loss: 0.3860 - val_dense_24_loss: 16.1181 - val_dense_25_loss: 16.1181 - val_dense_20_categorical_accuracy: 0.0027 - val_dense_21_categorical_accuracy: 0.0728 - val_dense_22_categorical_accuracy: 0.0303 - val_dense_23_categorical_accuracy: 0.0027 - val_dense_24_categorical_accuracy: 1.0000 - val_dense_25_categorical_accuracy: 0.0000e+00\n",
            "Epoch 15/100\n",
            "846/846 - 12s - loss: 16.9035 - dense_20_loss: 4.2855 - dense_21_loss: 7.6874 - dense_22_loss: 3.0038 - dense_23_loss: 3.4270 - dense_24_loss: 15.9483 - dense_25_loss: 16.1176 - dense_20_categorical_accuracy: 0.0126 - dense_21_categorical_accuracy: 0.0831 - dense_22_categorical_accuracy: 0.0403 - dense_23_categorical_accuracy: 0.0045 - dense_24_categorical_accuracy: 0.8334 - dense_25_categorical_accuracy: 0.0000e+00 - val_loss: 21.0722 - val_dense_20_loss: 3.9298 - val_dense_21_loss: 7.9329 - val_dense_22_loss: 13.3521 - val_dense_23_loss: 0.3860 - val_dense_24_loss: 16.1181 - val_dense_25_loss: 16.1181 - val_dense_20_categorical_accuracy: 0.0027 - val_dense_21_categorical_accuracy: 0.0728 - val_dense_22_categorical_accuracy: 0.0303 - val_dense_23_categorical_accuracy: 0.0027 - val_dense_24_categorical_accuracy: 1.0000 - val_dense_25_categorical_accuracy: 0.0000e+00\n",
            "Epoch 16/100\n",
            "846/846 - 11s - loss: 20.2126 - dense_20_loss: 4.2990 - dense_21_loss: 7.6977 - dense_22_loss: 9.5748 - dense_23_loss: 3.4086 - dense_24_loss: 16.0002 - dense_25_loss: 16.1176 - dense_20_categorical_accuracy: 0.0121 - dense_21_categorical_accuracy: 0.0842 - dense_22_categorical_accuracy: 0.0846 - dense_23_categorical_accuracy: 0.0046 - dense_24_categorical_accuracy: 0.8361 - dense_25_categorical_accuracy: 0.0000e+00 - val_loss: 21.0722 - val_dense_20_loss: 3.9298 - val_dense_21_loss: 7.9329 - val_dense_22_loss: 13.3521 - val_dense_23_loss: 0.3860 - val_dense_24_loss: 16.1181 - val_dense_25_loss: 16.1181 - val_dense_20_categorical_accuracy: 0.0027 - val_dense_21_categorical_accuracy: 0.0728 - val_dense_22_categorical_accuracy: 0.0303 - val_dense_23_categorical_accuracy: 0.0027 - val_dense_24_categorical_accuracy: 1.0000 - val_dense_25_categorical_accuracy: 0.0000e+00\n",
            "Epoch 17/100\n",
            "846/846 - 12s - loss: 19.7913 - dense_20_loss: 4.2936 - dense_21_loss: 7.6547 - dense_22_loss: 10.6004 - dense_23_loss: 0.4187 - dense_24_loss: 16.1133 - dense_25_loss: 16.1176 - dense_20_categorical_accuracy: 0.0125 - dense_21_categorical_accuracy: 0.0831 - dense_22_categorical_accuracy: 0.0859 - dense_23_categorical_accuracy: 0.0048 - dense_24_categorical_accuracy: 0.8253 - dense_25_categorical_accuracy: 0.0667 - val_loss: 21.0722 - val_dense_20_loss: 3.9298 - val_dense_21_loss: 7.9329 - val_dense_22_loss: 13.3521 - val_dense_23_loss: 0.3860 - val_dense_24_loss: 16.1181 - val_dense_25_loss: 16.1181 - val_dense_20_categorical_accuracy: 0.0027 - val_dense_21_categorical_accuracy: 0.0728 - val_dense_22_categorical_accuracy: 0.0303 - val_dense_23_categorical_accuracy: 0.0027 - val_dense_24_categorical_accuracy: 1.0000 - val_dense_25_categorical_accuracy: 0.0000e+00\n",
            "Epoch 18/100\n",
            "846/846 - 11s - loss: 20.3894 - dense_20_loss: 4.9943 - dense_21_loss: 7.7964 - dense_22_loss: 9.5294 - dense_23_loss: 1.5419 - dense_24_loss: 15.6555 - dense_25_loss: 16.1176 - dense_20_categorical_accuracy: 0.0123 - dense_21_categorical_accuracy: 0.1069 - dense_22_categorical_accuracy: 0.0695 - dense_23_categorical_accuracy: 0.0049 - dense_24_categorical_accuracy: 0.5340 - dense_25_categorical_accuracy: 0.0490 - val_loss: 16.6426 - val_dense_20_loss: 4.7927 - val_dense_21_loss: 7.9329 - val_dense_22_loss: 2.7660 - val_dense_23_loss: 0.3879 - val_dense_24_loss: 16.1181 - val_dense_25_loss: 16.1181 - val_dense_20_categorical_accuracy: 0.0000e+00 - val_dense_21_categorical_accuracy: 0.1553 - val_dense_22_categorical_accuracy: 0.0306 - val_dense_23_categorical_accuracy: 0.0027 - val_dense_24_categorical_accuracy: 0.0000e+00 - val_dense_25_categorical_accuracy: 0.0000e+00\n",
            "Epoch 19/100\n",
            "846/846 - 11s - loss: 22.6355 - dense_20_loss: 5.1695 - dense_21_loss: 8.1439 - dense_22_loss: 13.1791 - dense_23_loss: 1.0821 - dense_24_loss: 16.0201 - dense_25_loss: 16.1176 - dense_20_categorical_accuracy: 0.0118 - dense_21_categorical_accuracy: 0.1411 - dense_22_categorical_accuracy: 0.0293 - dense_23_categorical_accuracy: 0.0048 - dense_24_categorical_accuracy: 0.0927 - dense_25_categorical_accuracy: 3.6963e-05 - val_loss: 21.9351 - val_dense_20_loss: 4.7927 - val_dense_21_loss: 7.9329 - val_dense_22_loss: 13.3521 - val_dense_23_loss: 0.3860 - val_dense_24_loss: 16.1181 - val_dense_25_loss: 16.1181 - val_dense_20_categorical_accuracy: 0.0000e+00 - val_dense_21_categorical_accuracy: 0.1553 - val_dense_22_categorical_accuracy: 0.0306 - val_dense_23_categorical_accuracy: 0.0027 - val_dense_24_categorical_accuracy: 0.0000e+00 - val_dense_25_categorical_accuracy: 0.0000e+00\n",
            "Epoch 20/100\n",
            "846/846 - 11s - loss: 22.5832 - dense_20_loss: 5.1632 - dense_21_loss: 8.1420 - dense_22_loss: 13.3382 - dense_23_loss: 0.6765 - dense_24_loss: 16.0004 - dense_25_loss: 16.1182 - dense_20_categorical_accuracy: 0.0117 - dense_21_categorical_accuracy: 0.1423 - dense_22_categorical_accuracy: 0.0287 - dense_23_categorical_accuracy: 0.0047 - dense_24_categorical_accuracy: 0.0944 - dense_25_categorical_accuracy: 0.0000e+00 - val_loss: 21.9351 - val_dense_20_loss: 4.7927 - val_dense_21_loss: 7.9329 - val_dense_22_loss: 13.3521 - val_dense_23_loss: 0.3860 - val_dense_24_loss: 16.1181 - val_dense_25_loss: 16.1181 - val_dense_20_categorical_accuracy: 0.0000e+00 - val_dense_21_categorical_accuracy: 0.1553 - val_dense_22_categorical_accuracy: 0.0306 - val_dense_23_categorical_accuracy: 0.0027 - val_dense_24_categorical_accuracy: 0.0000e+00 - val_dense_25_categorical_accuracy: 0.0000e+00\n",
            "Epoch 21/100\n",
            "846/846 - 11s - loss: 22.0678 - dense_20_loss: 5.2079 - dense_21_loss: 8.1287 - dense_22_loss: 13.3311 - dense_23_loss: 0.6907 - dense_24_loss: 10.5257 - dense_25_loss: 16.1176 - dense_20_categorical_accuracy: 0.0127 - dense_21_categorical_accuracy: 0.1410 - dense_22_categorical_accuracy: 0.0294 - dense_23_categorical_accuracy: 0.0047 - dense_24_categorical_accuracy: 0.0886 - dense_25_categorical_accuracy: 3.6963e-05 - val_loss: 20.3233 - val_dense_20_loss: 4.7927 - val_dense_21_loss: 7.9329 - val_dense_22_loss: 13.3521 - val_dense_23_loss: 0.3860 - val_dense_24_loss: 1.1921e-07 - val_dense_25_loss: 16.1181 - val_dense_20_categorical_accuracy: 0.0000e+00 - val_dense_21_categorical_accuracy: 0.1553 - val_dense_22_categorical_accuracy: 0.0306 - val_dense_23_categorical_accuracy: 0.0027 - val_dense_24_categorical_accuracy: 0.0000e+00 - val_dense_25_categorical_accuracy: 0.0000e+00\n",
            "Epoch 22/100\n",
            "846/846 - 11s - loss: 22.6441 - dense_20_loss: 5.1982 - dense_21_loss: 8.1474 - dense_22_loss: 13.3379 - dense_23_loss: 2.2566 - dense_24_loss: 11.5707 - dense_25_loss: 15.9092 - dense_20_categorical_accuracy: 0.0120 - dense_21_categorical_accuracy: 0.1390 - dense_22_categorical_accuracy: 0.0289 - dense_23_categorical_accuracy: 0.0048 - dense_24_categorical_accuracy: 0.0903 - dense_25_categorical_accuracy: 3.6963e-05 - val_loss: 21.9059 - val_dense_20_loss: 4.7927 - val_dense_21_loss: 7.9329 - val_dense_22_loss: 13.3521 - val_dense_23_loss: 0.3860 - val_dense_24_loss: 16.1181 - val_dense_25_loss: 15.5340 - val_dense_20_categorical_accuracy: 0.0000e+00 - val_dense_21_categorical_accuracy: 0.1553 - val_dense_22_categorical_accuracy: 0.0306 - val_dense_23_categorical_accuracy: 0.0027 - val_dense_24_categorical_accuracy: 0.0000e+00 - val_dense_25_categorical_accuracy: 0.0000e+00\n",
            "Epoch 23/100\n",
            "846/846 - 11s - loss: 23.9340 - dense_20_loss: 5.4061 - dense_21_loss: 8.1614 - dense_22_loss: 13.3302 - dense_23_loss: 4.6873 - dense_24_loss: 15.9895 - dense_25_loss: 13.9242 - dense_20_categorical_accuracy: 0.0122 - dense_21_categorical_accuracy: 0.1411 - dense_22_categorical_accuracy: 0.0290 - dense_23_categorical_accuracy: 0.0047 - dense_24_categorical_accuracy: 0.0924 - dense_25_categorical_accuracy: 3.6963e-05 - val_loss: 26.5389 - val_dense_20_loss: 4.7927 - val_dense_21_loss: 7.9329 - val_dense_22_loss: 13.3521 - val_dense_23_loss: 15.7321 - val_dense_24_loss: 16.1181 - val_dense_25_loss: 16.1181 - val_dense_20_categorical_accuracy: 0.0000e+00 - val_dense_21_categorical_accuracy: 0.1553 - val_dense_22_categorical_accuracy: 0.0306 - val_dense_23_categorical_accuracy: 0.0027 - val_dense_24_categorical_accuracy: 0.0000e+00 - val_dense_25_categorical_accuracy: 0.0000e+00\n"
          ],
          "name": "stdout"
        },
        {
          "output_type": "execute_result",
          "data": {
            "text/plain": [
              "<tensorflow.python.keras.callbacks.History at 0x7fa2093aecc0>"
            ]
          },
          "metadata": {
            "tags": []
          },
          "execution_count": 57
        }
      ]
    },
    {
      "cell_type": "code",
      "metadata": {
        "id": "AeId7y3M-Z8J",
        "colab_type": "code",
        "outputId": "93af519e-9104-48a7-9945-52e4a3f6d86a",
        "colab": {
          "base_uri": "https://localhost:8080/",
          "height": 136
        }
      },
      "source": [
        "y_pred = model.predict(x_test)\n",
        "\n",
        "total = np.array([True] * len(x_test))\n",
        "for i, (y1, y2) in enumerate(zip(y_test, y_pred)):\n",
        "  cur = np.argmax(y1, axis=1) == np.argmax(y2, axis=1)\n",
        "  total = np.logical_and(total, cur)\n",
        "\n",
        "  acc = np.mean(cur.astype(np.int))\n",
        "  #history[f'test_out_{i}_acc'] = acc\n",
        "  print(f'Accuracy of out_{i} = {acc:.5f}')\n",
        "\n",
        "acc = np.mean(total.astype(np.int))\n",
        "#history['test_acc'] = acc\n",
        "print(f'Accuracy = {acc:.5f}')"
      ],
      "execution_count": 0,
      "outputs": [
        {
          "output_type": "stream",
          "text": [
            "Accuracy of out_0 = 0.00145\n",
            "Accuracy of out_1 = 0.07048\n",
            "Accuracy of out_2 = 0.01852\n",
            "Accuracy of out_3 = 0.00122\n",
            "Accuracy of out_4 = 0.99985\n",
            "Accuracy of out_5 = 0.00000\n",
            "Accuracy = 0.00000\n"
          ],
          "name": "stdout"
        }
      ]
    },
    {
      "cell_type": "code",
      "metadata": {
        "id": "ZjnQkiBhp6eV",
        "colab_type": "code",
        "outputId": "3201e53e-7940-49f1-de16-14526b13c2ff",
        "colab": {
          "base_uri": "https://localhost:8080/",
          "height": 51
        }
      },
      "source": [
        "!ls data/svhn/"
      ],
      "execution_count": 0,
      "outputs": [
        {
          "output_type": "stream",
          "text": [
            "extra_32x32.mat  test_32x32.mat  train\t\t  train.tar.gz\n",
            "test\t\t test.tar.gz\t train_32x32.mat\n"
          ],
          "name": "stdout"
        }
      ]
    },
    {
      "cell_type": "code",
      "metadata": {
        "id": "RhYlAmXj-pks",
        "colab_type": "code",
        "outputId": "d3bbf008-8b67-45bf-c807-6b0b27aa394b",
        "colab": {
          "base_uri": "https://localhost:8080/",
          "height": 173
        }
      },
      "source": [
        "_, _, x_test, y_test, x_train, y_train = load_multiple_digits_data(extra=True, train=False)\n",
        "x_train, x_val, y_train, y_val = train_test_split(x_train, y_train, test_size=0.1)\n",
        "if y_train is not None and y_val is not None and y_test is not None:\n",
        "            y_train = to_y(y_train, 6)\n",
        "            y_val = to_y(y_val, 6)\n",
        "            y_test = to_y(y_test, 6)"
      ],
      "execution_count": 0,
      "outputs": [
        {
          "output_type": "stream",
          "text": [
            "Loaded cached arrays for data/svhn/test\n",
            "file - data/svhn/extra/digitStruct.mat\n",
            "Opened file data/svhn/extra/digitStruct.mat\n",
            "Extracting image attrs from data/svhn/extra/digitStruct.mat: ."
          ],
          "name": "stdout"
        },
        {
          "output_type": "stream",
          "text": [
            "/usr/local/lib/python3.6/dist-packages/ipykernel_launcher.py:32: H5pyDeprecationWarning: dataset.value has been deprecated. Use dataset[()] instead.\n",
            "/usr/local/lib/python3.6/dist-packages/ipykernel_launcher.py:37: H5pyDeprecationWarning: dataset.value has been deprecated. Use dataset[()] instead.\n",
            "/usr/local/lib/python3.6/dist-packages/ipykernel_launcher.py:39: H5pyDeprecationWarning: dataset.value has been deprecated. Use dataset[()] instead.\n"
          ],
          "name": "stderr"
        },
        {
          "output_type": "stream",
          "text": [
            "..........................................................................................................................................................................................................\n",
            "Processing images from data/svhn/extra: .................................................................................................................................................................s..................s...............s.........\n"
          ],
          "name": "stdout"
        }
      ]
    },
    {
      "cell_type": "code",
      "metadata": {
        "id": "9vbJcDqgrQXd",
        "colab_type": "code",
        "outputId": "6fb079df-9c2e-411a-e900-96f0b201b047",
        "colab": {
          "base_uri": "https://localhost:8080/",
          "height": 428
        }
      },
      "source": [
        "model.fit(\n",
        "                x_train,\n",
        "                y_train,\n",
        "                epochs=100,\n",
        "                batch_size=32,\n",
        "                verbose=2,\n",
        "                validation_split=0.1,\n",
        "                callbacks=[\n",
        "                    keras.callbacks.EarlyStopping(\n",
        "                        patience=10,\n",
        "                        restore_best_weights=True\n",
        "                    )\n",
        "                ]\n",
        "            )"
      ],
      "execution_count": 0,
      "outputs": [
        {
          "output_type": "stream",
          "text": [
            "Epoch 1/100\n",
            "5123/5123 - 67s - loss: 62.7917 - dense_27_loss: 8.3268 - dense_28_loss: 8.1887 - dense_29_loss: 6.6918 - dense_30_loss: 8.1945 - dense_31_loss: 15.7493 - dense_32_loss: 15.6392 - dense_27_categorical_accuracy: 0.0863 - dense_28_categorical_accuracy: 0.0862 - dense_29_categorical_accuracy: 0.2747 - dense_30_categorical_accuracy: 0.7645 - dense_31_categorical_accuracy: 0.0319 - dense_32_categorical_accuracy: 0.3363 - val_loss: 33.3063 - val_dense_27_loss: 8.0255 - val_dense_28_loss: 8.3321 - val_dense_29_loss: 1.1921e-07 - val_dense_30_loss: 0.8236 - val_dense_31_loss: 0.0071 - val_dense_32_loss: 16.1181 - val_dense_27_categorical_accuracy: 0.1416 - val_dense_28_categorical_accuracy: 0.0991 - val_dense_29_categorical_accuracy: 0.0885 - val_dense_30_categorical_accuracy: 0.9316 - val_dense_31_categorical_accuracy: 5.4909e-05 - val_dense_32_categorical_accuracy: 0.0000e+00\n",
            "Epoch 2/100\n",
            "5123/5123 - 66s - loss: 33.3925 - dense_27_loss: 8.0147 - dense_28_loss: 8.3876 - dense_29_loss: 1.1921e-07 - dense_30_loss: 0.8639 - dense_31_loss: 0.0079 - dense_32_loss: 16.1174 - dense_27_categorical_accuracy: 0.1354 - dense_28_categorical_accuracy: 0.0996 - dense_29_categorical_accuracy: 0.0865 - dense_30_categorical_accuracy: 0.9287 - dense_31_categorical_accuracy: 7.9314e-05 - dense_32_categorical_accuracy: 0.0000e+00 - val_loss: 33.3063 - val_dense_27_loss: 8.0255 - val_dense_28_loss: 8.3321 - val_dense_29_loss: 1.1921e-07 - val_dense_30_loss: 0.8236 - val_dense_31_loss: 0.0071 - val_dense_32_loss: 16.1181 - val_dense_27_categorical_accuracy: 0.1416 - val_dense_28_categorical_accuracy: 0.0991 - val_dense_29_categorical_accuracy: 0.0885 - val_dense_30_categorical_accuracy: 0.9316 - val_dense_31_categorical_accuracy: 5.4909e-05 - val_dense_32_categorical_accuracy: 0.0000e+00\n",
            "Epoch 3/100\n",
            "5123/5123 - 66s - loss: 33.3926 - dense_27_loss: 8.0147 - dense_28_loss: 8.3876 - dense_29_loss: 1.1921e-07 - dense_30_loss: 0.8639 - dense_31_loss: 0.0079 - dense_32_loss: 16.1174 - dense_27_categorical_accuracy: 0.1354 - dense_28_categorical_accuracy: 0.0996 - dense_29_categorical_accuracy: 0.0865 - dense_30_categorical_accuracy: 0.9287 - dense_31_categorical_accuracy: 7.9314e-05 - dense_32_categorical_accuracy: 0.0000e+00 - val_loss: 33.3063 - val_dense_27_loss: 8.0255 - val_dense_28_loss: 8.3321 - val_dense_29_loss: 1.1921e-07 - val_dense_30_loss: 0.8236 - val_dense_31_loss: 0.0071 - val_dense_32_loss: 16.1181 - val_dense_27_categorical_accuracy: 0.1416 - val_dense_28_categorical_accuracy: 0.0991 - val_dense_29_categorical_accuracy: 0.0885 - val_dense_30_categorical_accuracy: 0.9316 - val_dense_31_categorical_accuracy: 5.4909e-05 - val_dense_32_categorical_accuracy: 0.0000e+00\n",
            "Epoch 4/100\n",
            "5123/5123 - 65s - loss: 33.3956 - dense_27_loss: 8.0177 - dense_28_loss: 8.3876 - dense_29_loss: 1.1921e-07 - dense_30_loss: 0.8639 - dense_31_loss: 0.0079 - dense_32_loss: 16.1174 - dense_27_categorical_accuracy: 0.1354 - dense_28_categorical_accuracy: 0.0996 - dense_29_categorical_accuracy: 0.0865 - dense_30_categorical_accuracy: 0.9287 - dense_31_categorical_accuracy: 7.9314e-05 - dense_32_categorical_accuracy: 0.0000e+00 - val_loss: 33.3063 - val_dense_27_loss: 8.0255 - val_dense_28_loss: 8.3321 - val_dense_29_loss: 1.1921e-07 - val_dense_30_loss: 0.8236 - val_dense_31_loss: 0.0071 - val_dense_32_loss: 16.1181 - val_dense_27_categorical_accuracy: 0.1416 - val_dense_28_categorical_accuracy: 0.0991 - val_dense_29_categorical_accuracy: 0.0885 - val_dense_30_categorical_accuracy: 0.9316 - val_dense_31_categorical_accuracy: 5.4909e-05 - val_dense_32_categorical_accuracy: 0.0000e+00\n",
            "Epoch 5/100\n",
            "5123/5123 - 66s - loss: 33.3926 - dense_27_loss: 8.0147 - dense_28_loss: 8.3876 - dense_29_loss: 1.1921e-07 - dense_30_loss: 0.8639 - dense_31_loss: 0.0079 - dense_32_loss: 16.1174 - dense_27_categorical_accuracy: 0.1354 - dense_28_categorical_accuracy: 0.0996 - dense_29_categorical_accuracy: 0.0865 - dense_30_categorical_accuracy: 0.9287 - dense_31_categorical_accuracy: 7.9314e-05 - dense_32_categorical_accuracy: 0.0000e+00 - val_loss: 33.3063 - val_dense_27_loss: 8.0255 - val_dense_28_loss: 8.3321 - val_dense_29_loss: 1.1921e-07 - val_dense_30_loss: 0.8236 - val_dense_31_loss: 0.0071 - val_dense_32_loss: 16.1181 - val_dense_27_categorical_accuracy: 0.1416 - val_dense_28_categorical_accuracy: 0.0991 - val_dense_29_categorical_accuracy: 0.0885 - val_dense_30_categorical_accuracy: 0.9316 - val_dense_31_categorical_accuracy: 5.4909e-05 - val_dense_32_categorical_accuracy: 0.0000e+00\n",
            "Epoch 6/100\n",
            "5123/5123 - 65s - loss: 33.3895 - dense_27_loss: 8.0147 - dense_28_loss: 8.3846 - dense_29_loss: 1.1921e-07 - dense_30_loss: 0.8639 - dense_31_loss: 0.0079 - dense_32_loss: 16.1174 - dense_27_categorical_accuracy: 0.1354 - dense_28_categorical_accuracy: 0.0996 - dense_29_categorical_accuracy: 0.0865 - dense_30_categorical_accuracy: 0.9287 - dense_31_categorical_accuracy: 7.9314e-05 - dense_32_categorical_accuracy: 0.0000e+00 - val_loss: 33.3063 - val_dense_27_loss: 8.0255 - val_dense_28_loss: 8.3321 - val_dense_29_loss: 1.1921e-07 - val_dense_30_loss: 0.8236 - val_dense_31_loss: 0.0071 - val_dense_32_loss: 16.1181 - val_dense_27_categorical_accuracy: 0.1416 - val_dense_28_categorical_accuracy: 0.0991 - val_dense_29_categorical_accuracy: 0.0885 - val_dense_30_categorical_accuracy: 0.9316 - val_dense_31_categorical_accuracy: 5.4909e-05 - val_dense_32_categorical_accuracy: 0.0000e+00\n",
            "Epoch 7/100\n",
            "5123/5123 - 66s - loss: 33.3895 - dense_27_loss: 8.0147 - dense_28_loss: 8.3846 - dense_29_loss: 1.1921e-07 - dense_30_loss: 0.8639 - dense_31_loss: 0.0079 - dense_32_loss: 16.1174 - dense_27_categorical_accuracy: 0.1354 - dense_28_categorical_accuracy: 0.0996 - dense_29_categorical_accuracy: 0.0865 - dense_30_categorical_accuracy: 0.9287 - dense_31_categorical_accuracy: 7.9314e-05 - dense_32_categorical_accuracy: 0.0000e+00 - val_loss: 33.3063 - val_dense_27_loss: 8.0255 - val_dense_28_loss: 8.3321 - val_dense_29_loss: 1.1921e-07 - val_dense_30_loss: 0.8236 - val_dense_31_loss: 0.0071 - val_dense_32_loss: 16.1181 - val_dense_27_categorical_accuracy: 0.1416 - val_dense_28_categorical_accuracy: 0.0991 - val_dense_29_categorical_accuracy: 0.0885 - val_dense_30_categorical_accuracy: 0.9316 - val_dense_31_categorical_accuracy: 5.4909e-05 - val_dense_32_categorical_accuracy: 0.0000e+00\n",
            "Epoch 8/100\n",
            "5123/5123 - 66s - loss: 33.3925 - dense_27_loss: 8.0177 - dense_28_loss: 8.3846 - dense_29_loss: 1.1921e-07 - dense_30_loss: 0.8639 - dense_31_loss: 0.0079 - dense_32_loss: 16.1174 - dense_27_categorical_accuracy: 0.1354 - dense_28_categorical_accuracy: 0.0996 - dense_29_categorical_accuracy: 0.0865 - dense_30_categorical_accuracy: 0.9287 - dense_31_categorical_accuracy: 7.9314e-05 - dense_32_categorical_accuracy: 0.0000e+00 - val_loss: 33.3063 - val_dense_27_loss: 8.0255 - val_dense_28_loss: 8.3321 - val_dense_29_loss: 1.1921e-07 - val_dense_30_loss: 0.8236 - val_dense_31_loss: 0.0071 - val_dense_32_loss: 16.1181 - val_dense_27_categorical_accuracy: 0.1416 - val_dense_28_categorical_accuracy: 0.0991 - val_dense_29_categorical_accuracy: 0.0885 - val_dense_30_categorical_accuracy: 0.9316 - val_dense_31_categorical_accuracy: 5.4909e-05 - val_dense_32_categorical_accuracy: 0.0000e+00\n",
            "Epoch 9/100\n",
            "5123/5123 - 66s - loss: 33.3895 - dense_27_loss: 8.0147 - dense_28_loss: 8.3846 - dense_29_loss: 1.1921e-07 - dense_30_loss: 0.8639 - dense_31_loss: 0.0079 - dense_32_loss: 16.1174 - dense_27_categorical_accuracy: 0.1354 - dense_28_categorical_accuracy: 0.0996 - dense_29_categorical_accuracy: 0.0865 - dense_30_categorical_accuracy: 0.9287 - dense_31_categorical_accuracy: 7.9314e-05 - dense_32_categorical_accuracy: 0.0000e+00 - val_loss: 33.3063 - val_dense_27_loss: 8.0255 - val_dense_28_loss: 8.3321 - val_dense_29_loss: 1.1921e-07 - val_dense_30_loss: 0.8236 - val_dense_31_loss: 0.0071 - val_dense_32_loss: 16.1181 - val_dense_27_categorical_accuracy: 0.1416 - val_dense_28_categorical_accuracy: 0.0991 - val_dense_29_categorical_accuracy: 0.0885 - val_dense_30_categorical_accuracy: 0.9316 - val_dense_31_categorical_accuracy: 5.4909e-05 - val_dense_32_categorical_accuracy: 0.0000e+00\n",
            "Epoch 10/100\n",
            "5123/5123 - 65s - loss: 33.3956 - dense_27_loss: 8.0177 - dense_28_loss: 8.3876 - dense_29_loss: 1.1921e-07 - dense_30_loss: 0.8639 - dense_31_loss: 0.0079 - dense_32_loss: 16.1174 - dense_27_categorical_accuracy: 0.1354 - dense_28_categorical_accuracy: 0.0996 - dense_29_categorical_accuracy: 0.0865 - dense_30_categorical_accuracy: 0.9287 - dense_31_categorical_accuracy: 7.9314e-05 - dense_32_categorical_accuracy: 0.0000e+00 - val_loss: 33.3063 - val_dense_27_loss: 8.0255 - val_dense_28_loss: 8.3321 - val_dense_29_loss: 1.1921e-07 - val_dense_30_loss: 0.8236 - val_dense_31_loss: 0.0071 - val_dense_32_loss: 16.1181 - val_dense_27_categorical_accuracy: 0.1416 - val_dense_28_categorical_accuracy: 0.0991 - val_dense_29_categorical_accuracy: 0.0885 - val_dense_30_categorical_accuracy: 0.9316 - val_dense_31_categorical_accuracy: 5.4909e-05 - val_dense_32_categorical_accuracy: 0.0000e+00\n",
            "Epoch 11/100\n",
            "5123/5123 - 66s - loss: 33.3925 - dense_27_loss: 8.0177 - dense_28_loss: 8.3846 - dense_29_loss: 1.1921e-07 - dense_30_loss: 0.8639 - dense_31_loss: 0.0079 - dense_32_loss: 16.1174 - dense_27_categorical_accuracy: 0.1354 - dense_28_categorical_accuracy: 0.0996 - dense_29_categorical_accuracy: 0.0865 - dense_30_categorical_accuracy: 0.9287 - dense_31_categorical_accuracy: 7.9314e-05 - dense_32_categorical_accuracy: 0.0000e+00 - val_loss: 33.3063 - val_dense_27_loss: 8.0255 - val_dense_28_loss: 8.3321 - val_dense_29_loss: 1.1921e-07 - val_dense_30_loss: 0.8236 - val_dense_31_loss: 0.0071 - val_dense_32_loss: 16.1181 - val_dense_27_categorical_accuracy: 0.1416 - val_dense_28_categorical_accuracy: 0.0991 - val_dense_29_categorical_accuracy: 0.0885 - val_dense_30_categorical_accuracy: 0.9316 - val_dense_31_categorical_accuracy: 5.4909e-05 - val_dense_32_categorical_accuracy: 0.0000e+00\n"
          ],
          "name": "stdout"
        },
        {
          "output_type": "execute_result",
          "data": {
            "text/plain": [
              "<tensorflow.python.keras.callbacks.History at 0x7fa2093f77b8>"
            ]
          },
          "metadata": {
            "tags": []
          },
          "execution_count": 73
        }
      ]
    },
    {
      "cell_type": "code",
      "metadata": {
        "id": "tia7jPmhrVw9",
        "colab_type": "code",
        "outputId": "4e93c17c-6363-4e9b-8e0e-98c16cdbdaaf",
        "colab": {
          "base_uri": "https://localhost:8080/",
          "height": 136
        }
      },
      "source": [
        "y_pred = model.predict(x_test)\n",
        "\n",
        "total = np.array([True] * len(x_test))\n",
        "for i, (y1, y2) in enumerate(zip(y_test, y_pred)):\n",
        "  cur = np.argmax(y1, axis=1) == np.argmax(y2, axis=1)\n",
        "  total = np.logical_and(total, cur)\n",
        "\n",
        "  acc = np.mean(cur.astype(np.int))\n",
        "  #history[f'test_out_{i}_acc'] = acc\n",
        "  print(f'Accuracy of out_{i} = {acc:.5f}')\n",
        "\n",
        "acc = np.mean(total.astype(np.int))\n",
        "#history['test_acc'] = acc\n",
        "print(f'Accuracy = {acc:.5f}')"
      ],
      "execution_count": 0,
      "outputs": [
        {
          "output_type": "stream",
          "text": [
            "Accuracy of out_0 = 0.12435\n",
            "Accuracy of out_1 = 0.07859\n",
            "Accuracy of out_2 = 0.02265\n",
            "Accuracy of out_3 = 0.98867\n",
            "Accuracy of out_4 = 0.00000\n",
            "Accuracy of out_5 = 0.00000\n",
            "Accuracy = 0.00000\n"
          ],
          "name": "stdout"
        }
      ]
    },
    {
      "cell_type": "code",
      "metadata": {
        "id": "unqrIzT83FMd",
        "colab_type": "code",
        "colab": {}
      },
      "source": [
        "input = keras.layers.Input(shape=(96, 96, 3))\n",
        "\n",
        "mobile_net = keras.applications.mobilenet_v2.MobileNetV2(\n",
        "  include_top=False,\n",
        "  weights='imagenet',\n",
        "  input_shape=(96, 96, 3),\n",
        "  input_tensor=input,\n",
        "  pooling='avg'\n",
        ")\n",
        "\n",
        "dropout = keras.layers.Dropout(rate=0.1)(mobile_net.output)\n",
        "\n",
        "outputs = [\n",
        "  keras.layers.Dense(11, activation='softmax', name=f'out_{i}')(dropout)\n",
        "  for i in range(6)\n",
        "]\n",
        "\n",
        "model1 = keras.models.Model(\n",
        "  inputs=[input],\n",
        "  outputs=outputs\n",
        ")\n",
        "model1.compile(\n",
        "  optimizer=keras.optimizers.Adam(lr=0.001),\n",
        "  loss='categorical_crossentropy',\n",
        "  metrics=['categorical_accuracy'],\n",
        "  loss_weights=[1, 1, 0.5, 0.3, 0.1, 0.05]\n",
        ")"
      ],
      "execution_count": 0,
      "outputs": []
    },
    {
      "cell_type": "code",
      "metadata": {
        "id": "TZNNPauQ39MJ",
        "colab_type": "code",
        "outputId": "8673faab-ed0a-4f3e-b76a-dab5bfa4eaf2",
        "colab": {
          "base_uri": "https://localhost:8080/",
          "height": 428
        }
      },
      "source": [
        "model.fit(\n",
        "                x_train,\n",
        "                y_train,\n",
        "                epochs=100,\n",
        "                batch_size=32,\n",
        "                verbose=2,\n",
        "                validation_split=0.1,\n",
        "                callbacks=[\n",
        "                    keras.callbacks.EarlyStopping(\n",
        "                        patience=10,\n",
        "                        restore_best_weights=True\n",
        "                    )\n",
        "                ]\n",
        "            )"
      ],
      "execution_count": 0,
      "outputs": [
        {
          "output_type": "stream",
          "text": [
            "Epoch 1/100\n",
            "5123/5123 - 66s - loss: 33.3926 - dense_27_loss: 8.0177 - dense_28_loss: 8.3846 - dense_29_loss: 1.1921e-07 - dense_30_loss: 0.8639 - dense_31_loss: 0.0079 - dense_32_loss: 16.1174 - dense_27_categorical_accuracy: 0.1354 - dense_28_categorical_accuracy: 0.0996 - dense_29_categorical_accuracy: 0.0865 - dense_30_categorical_accuracy: 0.9287 - dense_31_categorical_accuracy: 7.9314e-05 - dense_32_categorical_accuracy: 0.0000e+00 - val_loss: 33.3063 - val_dense_27_loss: 8.0255 - val_dense_28_loss: 8.3321 - val_dense_29_loss: 1.1921e-07 - val_dense_30_loss: 0.8236 - val_dense_31_loss: 0.0071 - val_dense_32_loss: 16.1181 - val_dense_27_categorical_accuracy: 0.1416 - val_dense_28_categorical_accuracy: 0.0991 - val_dense_29_categorical_accuracy: 0.0885 - val_dense_30_categorical_accuracy: 0.9316 - val_dense_31_categorical_accuracy: 5.4909e-05 - val_dense_32_categorical_accuracy: 0.0000e+00\n",
            "Epoch 2/100\n",
            "5123/5123 - 66s - loss: 33.3925 - dense_27_loss: 8.0147 - dense_28_loss: 8.3876 - dense_29_loss: 1.1921e-07 - dense_30_loss: 0.8639 - dense_31_loss: 0.0079 - dense_32_loss: 16.1174 - dense_27_categorical_accuracy: 0.1354 - dense_28_categorical_accuracy: 0.0996 - dense_29_categorical_accuracy: 0.0865 - dense_30_categorical_accuracy: 0.9287 - dense_31_categorical_accuracy: 7.9314e-05 - dense_32_categorical_accuracy: 0.0000e+00 - val_loss: 33.3063 - val_dense_27_loss: 8.0255 - val_dense_28_loss: 8.3321 - val_dense_29_loss: 1.1921e-07 - val_dense_30_loss: 0.8236 - val_dense_31_loss: 0.0071 - val_dense_32_loss: 16.1181 - val_dense_27_categorical_accuracy: 0.1416 - val_dense_28_categorical_accuracy: 0.0991 - val_dense_29_categorical_accuracy: 0.0885 - val_dense_30_categorical_accuracy: 0.9316 - val_dense_31_categorical_accuracy: 5.4909e-05 - val_dense_32_categorical_accuracy: 0.0000e+00\n",
            "Epoch 3/100\n",
            "5123/5123 - 66s - loss: 33.3896 - dense_27_loss: 8.0147 - dense_28_loss: 8.3846 - dense_29_loss: 1.1921e-07 - dense_30_loss: 0.8639 - dense_31_loss: 0.0079 - dense_32_loss: 16.1174 - dense_27_categorical_accuracy: 0.1354 - dense_28_categorical_accuracy: 0.0996 - dense_29_categorical_accuracy: 0.0865 - dense_30_categorical_accuracy: 0.9287 - dense_31_categorical_accuracy: 7.9314e-05 - dense_32_categorical_accuracy: 0.0000e+00 - val_loss: 33.3063 - val_dense_27_loss: 8.0255 - val_dense_28_loss: 8.3321 - val_dense_29_loss: 1.1921e-07 - val_dense_30_loss: 0.8236 - val_dense_31_loss: 0.0071 - val_dense_32_loss: 16.1181 - val_dense_27_categorical_accuracy: 0.1416 - val_dense_28_categorical_accuracy: 0.0991 - val_dense_29_categorical_accuracy: 0.0885 - val_dense_30_categorical_accuracy: 0.9316 - val_dense_31_categorical_accuracy: 5.4909e-05 - val_dense_32_categorical_accuracy: 0.0000e+00\n",
            "Epoch 4/100\n",
            "5123/5123 - 66s - loss: 33.3895 - dense_27_loss: 8.0147 - dense_28_loss: 8.3846 - dense_29_loss: 1.1921e-07 - dense_30_loss: 0.8639 - dense_31_loss: 0.0079 - dense_32_loss: 16.1174 - dense_27_categorical_accuracy: 0.1354 - dense_28_categorical_accuracy: 0.0996 - dense_29_categorical_accuracy: 0.0865 - dense_30_categorical_accuracy: 0.9287 - dense_31_categorical_accuracy: 7.9314e-05 - dense_32_categorical_accuracy: 0.0000e+00 - val_loss: 33.3063 - val_dense_27_loss: 8.0255 - val_dense_28_loss: 8.3321 - val_dense_29_loss: 1.1921e-07 - val_dense_30_loss: 0.8236 - val_dense_31_loss: 0.0071 - val_dense_32_loss: 16.1181 - val_dense_27_categorical_accuracy: 0.1416 - val_dense_28_categorical_accuracy: 0.0991 - val_dense_29_categorical_accuracy: 0.0885 - val_dense_30_categorical_accuracy: 0.9316 - val_dense_31_categorical_accuracy: 5.4909e-05 - val_dense_32_categorical_accuracy: 0.0000e+00\n",
            "Epoch 5/100\n",
            "5123/5123 - 66s - loss: 33.3925 - dense_27_loss: 8.0177 - dense_28_loss: 8.3846 - dense_29_loss: 1.1921e-07 - dense_30_loss: 0.8639 - dense_31_loss: 0.0079 - dense_32_loss: 16.1174 - dense_27_categorical_accuracy: 0.1354 - dense_28_categorical_accuracy: 0.0996 - dense_29_categorical_accuracy: 0.0865 - dense_30_categorical_accuracy: 0.9287 - dense_31_categorical_accuracy: 7.9314e-05 - dense_32_categorical_accuracy: 0.0000e+00 - val_loss: 33.3063 - val_dense_27_loss: 8.0255 - val_dense_28_loss: 8.3321 - val_dense_29_loss: 1.1921e-07 - val_dense_30_loss: 0.8236 - val_dense_31_loss: 0.0071 - val_dense_32_loss: 16.1181 - val_dense_27_categorical_accuracy: 0.1416 - val_dense_28_categorical_accuracy: 0.0991 - val_dense_29_categorical_accuracy: 0.0885 - val_dense_30_categorical_accuracy: 0.9316 - val_dense_31_categorical_accuracy: 5.4909e-05 - val_dense_32_categorical_accuracy: 0.0000e+00\n",
            "Epoch 6/100\n",
            "5123/5123 - 66s - loss: 33.3956 - dense_27_loss: 8.0177 - dense_28_loss: 8.3876 - dense_29_loss: 1.1921e-07 - dense_30_loss: 0.8639 - dense_31_loss: 0.0079 - dense_32_loss: 16.1174 - dense_27_categorical_accuracy: 0.1354 - dense_28_categorical_accuracy: 0.0996 - dense_29_categorical_accuracy: 0.0865 - dense_30_categorical_accuracy: 0.9287 - dense_31_categorical_accuracy: 7.9314e-05 - dense_32_categorical_accuracy: 0.0000e+00 - val_loss: 33.3063 - val_dense_27_loss: 8.0255 - val_dense_28_loss: 8.3321 - val_dense_29_loss: 1.1921e-07 - val_dense_30_loss: 0.8236 - val_dense_31_loss: 0.0071 - val_dense_32_loss: 16.1181 - val_dense_27_categorical_accuracy: 0.1416 - val_dense_28_categorical_accuracy: 0.0991 - val_dense_29_categorical_accuracy: 0.0885 - val_dense_30_categorical_accuracy: 0.9316 - val_dense_31_categorical_accuracy: 5.4909e-05 - val_dense_32_categorical_accuracy: 0.0000e+00\n",
            "Epoch 7/100\n",
            "5123/5123 - 67s - loss: 33.3956 - dense_27_loss: 8.0177 - dense_28_loss: 8.3876 - dense_29_loss: 1.1921e-07 - dense_30_loss: 0.8639 - dense_31_loss: 0.0079 - dense_32_loss: 16.1174 - dense_27_categorical_accuracy: 0.1354 - dense_28_categorical_accuracy: 0.0996 - dense_29_categorical_accuracy: 0.0865 - dense_30_categorical_accuracy: 0.9287 - dense_31_categorical_accuracy: 7.9314e-05 - dense_32_categorical_accuracy: 0.0000e+00 - val_loss: 33.3063 - val_dense_27_loss: 8.0255 - val_dense_28_loss: 8.3321 - val_dense_29_loss: 1.1921e-07 - val_dense_30_loss: 0.8236 - val_dense_31_loss: 0.0071 - val_dense_32_loss: 16.1181 - val_dense_27_categorical_accuracy: 0.1416 - val_dense_28_categorical_accuracy: 0.0991 - val_dense_29_categorical_accuracy: 0.0885 - val_dense_30_categorical_accuracy: 0.9316 - val_dense_31_categorical_accuracy: 5.4909e-05 - val_dense_32_categorical_accuracy: 0.0000e+00\n",
            "Epoch 8/100\n",
            "5123/5123 - 66s - loss: 33.3925 - dense_27_loss: 8.0147 - dense_28_loss: 8.3876 - dense_29_loss: 1.1921e-07 - dense_30_loss: 0.8639 - dense_31_loss: 0.0079 - dense_32_loss: 16.1174 - dense_27_categorical_accuracy: 0.1354 - dense_28_categorical_accuracy: 0.0996 - dense_29_categorical_accuracy: 0.0865 - dense_30_categorical_accuracy: 0.9287 - dense_31_categorical_accuracy: 7.9314e-05 - dense_32_categorical_accuracy: 0.0000e+00 - val_loss: 33.3063 - val_dense_27_loss: 8.0255 - val_dense_28_loss: 8.3321 - val_dense_29_loss: 1.1921e-07 - val_dense_30_loss: 0.8236 - val_dense_31_loss: 0.0071 - val_dense_32_loss: 16.1181 - val_dense_27_categorical_accuracy: 0.1416 - val_dense_28_categorical_accuracy: 0.0991 - val_dense_29_categorical_accuracy: 0.0885 - val_dense_30_categorical_accuracy: 0.9316 - val_dense_31_categorical_accuracy: 5.4909e-05 - val_dense_32_categorical_accuracy: 0.0000e+00\n",
            "Epoch 9/100\n",
            "5123/5123 - 66s - loss: 33.3926 - dense_27_loss: 8.0177 - dense_28_loss: 8.3846 - dense_29_loss: 1.1921e-07 - dense_30_loss: 0.8639 - dense_31_loss: 0.0079 - dense_32_loss: 16.1174 - dense_27_categorical_accuracy: 0.1354 - dense_28_categorical_accuracy: 0.0996 - dense_29_categorical_accuracy: 0.0865 - dense_30_categorical_accuracy: 0.9287 - dense_31_categorical_accuracy: 7.9314e-05 - dense_32_categorical_accuracy: 0.0000e+00 - val_loss: 33.3063 - val_dense_27_loss: 8.0255 - val_dense_28_loss: 8.3321 - val_dense_29_loss: 1.1921e-07 - val_dense_30_loss: 0.8236 - val_dense_31_loss: 0.0071 - val_dense_32_loss: 16.1181 - val_dense_27_categorical_accuracy: 0.1416 - val_dense_28_categorical_accuracy: 0.0991 - val_dense_29_categorical_accuracy: 0.0885 - val_dense_30_categorical_accuracy: 0.9316 - val_dense_31_categorical_accuracy: 5.4909e-05 - val_dense_32_categorical_accuracy: 0.0000e+00\n",
            "Epoch 10/100\n",
            "5123/5123 - 66s - loss: 33.3926 - dense_27_loss: 8.0147 - dense_28_loss: 8.3876 - dense_29_loss: 1.1921e-07 - dense_30_loss: 0.8639 - dense_31_loss: 0.0079 - dense_32_loss: 16.1174 - dense_27_categorical_accuracy: 0.1354 - dense_28_categorical_accuracy: 0.0996 - dense_29_categorical_accuracy: 0.0865 - dense_30_categorical_accuracy: 0.9287 - dense_31_categorical_accuracy: 7.9314e-05 - dense_32_categorical_accuracy: 0.0000e+00 - val_loss: 33.3063 - val_dense_27_loss: 8.0255 - val_dense_28_loss: 8.3321 - val_dense_29_loss: 1.1921e-07 - val_dense_30_loss: 0.8236 - val_dense_31_loss: 0.0071 - val_dense_32_loss: 16.1181 - val_dense_27_categorical_accuracy: 0.1416 - val_dense_28_categorical_accuracy: 0.0991 - val_dense_29_categorical_accuracy: 0.0885 - val_dense_30_categorical_accuracy: 0.9316 - val_dense_31_categorical_accuracy: 5.4909e-05 - val_dense_32_categorical_accuracy: 0.0000e+00\n",
            "Epoch 11/100\n",
            "5123/5123 - 66s - loss: 33.3926 - dense_27_loss: 8.0147 - dense_28_loss: 8.3876 - dense_29_loss: 1.1921e-07 - dense_30_loss: 0.8639 - dense_31_loss: 0.0079 - dense_32_loss: 16.1174 - dense_27_categorical_accuracy: 0.1354 - dense_28_categorical_accuracy: 0.0996 - dense_29_categorical_accuracy: 0.0865 - dense_30_categorical_accuracy: 0.9287 - dense_31_categorical_accuracy: 7.9314e-05 - dense_32_categorical_accuracy: 0.0000e+00 - val_loss: 33.3063 - val_dense_27_loss: 8.0255 - val_dense_28_loss: 8.3321 - val_dense_29_loss: 1.1921e-07 - val_dense_30_loss: 0.8236 - val_dense_31_loss: 0.0071 - val_dense_32_loss: 16.1181 - val_dense_27_categorical_accuracy: 0.1416 - val_dense_28_categorical_accuracy: 0.0991 - val_dense_29_categorical_accuracy: 0.0885 - val_dense_30_categorical_accuracy: 0.9316 - val_dense_31_categorical_accuracy: 5.4909e-05 - val_dense_32_categorical_accuracy: 0.0000e+00\n"
          ],
          "name": "stdout"
        },
        {
          "output_type": "execute_result",
          "data": {
            "text/plain": [
              "<tensorflow.python.keras.callbacks.History at 0x7fa1fe1d9470>"
            ]
          },
          "metadata": {
            "tags": []
          },
          "execution_count": 78
        }
      ]
    },
    {
      "cell_type": "code",
      "metadata": {
        "id": "5WD3aklU4GNW",
        "colab_type": "code",
        "outputId": "5a55b3eb-7308-4c2c-ba71-6052581be822",
        "colab": {
          "base_uri": "https://localhost:8080/",
          "height": 136
        }
      },
      "source": [
        "y_pred = model1.predict(x_test)\n",
        "\n",
        "total = np.array([True] * len(x_test))\n",
        "for i, (y1, y2) in enumerate(zip(y_test, y_pred)):\n",
        "  cur = np.argmax(y1, axis=1) == np.argmax(y2, axis=1)\n",
        "  total = np.logical_and(total, cur)\n",
        "\n",
        "  acc = np.mean(cur.astype(np.int))\n",
        "  #history[f'test_out_{i}_acc'] = acc\n",
        "  print(f'Accuracy of out_{i} = {acc:.5f}')\n",
        "\n",
        "acc = np.mean(total.astype(np.int))\n",
        "#history['test_acc'] = acc\n",
        "print(f'Accuracy = {acc:.5f}')"
      ],
      "execution_count": 0,
      "outputs": [
        {
          "output_type": "stream",
          "text": [
            "Accuracy of out_0 = 0.04982\n",
            "Accuracy of out_1 = 0.08509\n",
            "Accuracy of out_2 = 0.82744\n",
            "Accuracy of out_3 = 0.00069\n",
            "Accuracy of out_4 = 0.00000\n",
            "Accuracy of out_5 = 0.85889\n",
            "Accuracy = 0.00000\n"
          ],
          "name": "stdout"
        }
      ]
    },
    {
      "cell_type": "code",
      "metadata": {
        "id": "DnVMIME6_9bj",
        "colab_type": "code",
        "colab": {}
      },
      "source": [
        "model.save_weights('models/svhn_multiple_mobile_net_extra/model')"
      ],
      "execution_count": 0,
      "outputs": []
    },
    {
      "cell_type": "code",
      "metadata": {
        "id": "S-4TLy61AI6y",
        "colab_type": "code",
        "outputId": "a4e2c386-b6bf-47e5-af0b-91b637faf17e",
        "colab": {
          "base_uri": "https://localhost:8080/",
          "height": 34
        }
      },
      "source": [
        "!ls models/svhn_multiple_mobile_net_extra/"
      ],
      "execution_count": 0,
      "outputs": [
        {
          "output_type": "stream",
          "text": [
            "checkpoint  model.data-00000-of-00002  model.data-00001-of-00002  model.index\n"
          ],
          "name": "stdout"
        }
      ]
    },
    {
      "cell_type": "code",
      "metadata": {
        "id": "1dzdly5gAX6v",
        "colab_type": "code",
        "colab": {}
      },
      "source": [
        "from google.colab import files\n",
        "\n",
        "files.download('models/svhn_multiple_mobile_net_extra/checkpoint')\n",
        "files.download('models/svhn_multiple_mobile_net_extra/model.data-00000-of-00002')\n",
        "files.download('models/svhn_multiple_mobile_net_extra/model.data-00001-of-00002')\n",
        "files.download('models/svhn_multiple_mobile_net_extra/model.index')"
      ],
      "execution_count": 0,
      "outputs": []
    }
  ]
}