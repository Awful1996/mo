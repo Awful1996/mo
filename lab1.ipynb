{
  "nbformat": 4,
  "nbformat_minor": 0,
  "metadata": {
    "colab": {
      "name": "lab1.ipynb",
      "provenance": [],
      "collapsed_sections": []
    },
    "kernelspec": {
      "name": "python3",
      "display_name": "Python 3"
    }
  },
  "cells": [
    {
      "cell_type": "markdown",
      "metadata": {
        "id": "3SoSJDQLnx2A",
        "colab_type": "text"
      },
      "source": [
        "**Лабораторная работа №1**. Логистическая регрессия в качестве нейронной сети"
      ]
    },
    {
      "cell_type": "code",
      "metadata": {
        "id": "HdBYbDpmg_0S",
        "colab_type": "code",
        "colab": {}
      },
      "source": [
        "import os\n",
        "try:\n",
        "  import wget\n",
        "except: \n",
        "  !pip install wget\n",
        "  import wget\n",
        "import tarfile\n",
        "\n",
        "\n",
        "out_dir = 'data/not_mnist'\n",
        "small_arhive = f'{out_dir}/notMNIST_small.tar.gz'\n",
        "large_arhive = f'{out_dir}/notMNIST_large.tar.gz'\n",
        "large_url = 'https://commondatastorage.googleapis.com/books1000/notMNIST_large.tar.gz'\n",
        "small_url = 'https://commondatastorage.googleapis.com/books1000/notMNIST_small.tar.gz'"
      ],
      "execution_count": 0,
      "outputs": []
    },
    {
      "cell_type": "code",
      "metadata": {
        "id": "CBSFpzB8hVbS",
        "colab_type": "code",
        "outputId": "c31a3983-ba2c-4268-9099-c6043524c82b",
        "colab": {
          "base_uri": "https://localhost:8080/",
          "height": 51
        }
      },
      "source": [
        "if not os.path.exists(out_dir):\n",
        "  os.makedirs(out_dir)\n",
        "\n",
        "if not os.path.exists(small_arhive):\n",
        "  print(f\"Downloading {small_arhive}.\")\n",
        "  wget.download(small_url, small_arhive)\n",
        "  print()\n",
        "else:\n",
        "  print(f\"Skipping {small_arhive} download (already exists)\")\n",
        "\n",
        "if not os.path.exists(large_arhive):\n",
        "  print(f\"Downloading {large_arhive}.\")\n",
        "  wget.download(large_url, large_arhive)\n",
        "  print()\n",
        "else:\n",
        "  print(f\"Skipping {large_arhive} download (already exists)\")"
      ],
      "execution_count": 15,
      "outputs": [
        {
          "output_type": "stream",
          "text": [
            "Skipping data/not_mnist/notMNIST_small.tar.gz download (already exists)\n",
            "Skipping data/not_mnist/notMNIST_large.tar.gz download (already exists)\n"
          ],
          "name": "stdout"
        }
      ]
    },
    {
      "cell_type": "code",
      "metadata": {
        "id": "RczTDleyhsFO",
        "colab_type": "code",
        "outputId": "a940d907-9087-49c0-d0a8-db568c75e773",
        "colab": {
          "base_uri": "https://localhost:8080/",
          "height": 51
        }
      },
      "source": [
        "print(f\"Extracting {small_arhive}\")\n",
        "with tarfile.open(small_arhive) as tar:\n",
        "  tar.extractall(out_dir)\n",
        "\n",
        "print(f\"Extracting {large_arhive}\")\n",
        "with tarfile.open(large_arhive) as tar:\n",
        "  tar.extractall(out_dir)"
      ],
      "execution_count": 16,
      "outputs": [
        {
          "output_type": "stream",
          "text": [
            "Extracting data/not_mnist/notMNIST_small.tar.gz\n",
            "Extracting data/not_mnist/notMNIST_large.tar.gz\n"
          ],
          "name": "stdout"
        }
      ]
    },
    {
      "cell_type": "code",
      "metadata": {
        "id": "ybTw8UfjiD-x",
        "colab_type": "code",
        "colab": {}
      },
      "source": [
        "import numpy as np\n",
        "from pathlib import Path\n",
        "from PIL import Image\n",
        "\n",
        "def remove_duplicates(img_train, labels_train, img_test):\n",
        "    img_new, labels_new = [], []\n",
        "    test_set = {e.tostring() for e in img_test}\n",
        "    for i, (x, y) in enumerate(zip(img_train, labels_train)):\n",
        "        if x.tostring() not in test_set:\n",
        "            img_new.append(x)\n",
        "            labels_new.append(y)\n",
        "\n",
        "    print(f'Removed {img_train.shape[0] - len(img_new)} duplicated images')\n",
        "    return np.array(img_new), np.array(labels_new)\n",
        "\n",
        "def load_images(path, n):\n",
        "    labels = ['I', 'G', 'A', 'F', 'H', 'J', 'C', 'D', 'E', 'B']\n",
        "\n",
        "    x, y = [], []\n",
        "    for i, l in enumerate(labels):\n",
        "        d = Path(path) / l\n",
        "        print(f'Loading {str(d)} ', end='')\n",
        "        for j, f in zip(range(n), d.iterdir()):\n",
        "            try:\n",
        "                with Image.open(f) as img:\n",
        "                    x.append(np.array(img))\n",
        "                    y.append(i)\n",
        "            except OSError:\n",
        "                pass\n",
        "            if j % 1000 == 0:\n",
        "                print('.', end='', flush=True)\n",
        "        print(flush=True)\n",
        "    return np.array(labels), np.array(x), np.array(y)\n",
        "\n",
        "def load_not_mnist_data(path='data/not_mnist/', use_cache=True):\n",
        "    train_folder = Path(path) / 'notMNIST_large'\n",
        "    test_folder = Path(path) / 'notMNIST_small'\n",
        "\n",
        "    train_cache_file = Path(path) / 'train.npz'\n",
        "    test_cache_file = Path(path) / 'test.npz'\n",
        "\n",
        "    if train_cache_file.exists() and test_cache_file.exists() and use_cache:\n",
        "        f = np.load(train_cache_file)\n",
        "        labels, img_train, labels_train = [v for k, v in f.items()]\n",
        "        f = np.load(test_cache_file)\n",
        "        labels, img_test, labels_test = [v for k, v in f.items()]\n",
        "        print('Loaded cached arrays')\n",
        "\n",
        "    else:\n",
        "        labels, img_train, labels_train = load_images(train_folder, 10000000)\n",
        "        labels, img_test, labels_test = load_images(test_folder, 10000000)\n",
        "        np.savez(train_cache_file, labels, img_train, labels_train)\n",
        "        np.savez(test_cache_file, labels, img_test, labels_test)\n",
        "\n",
        "    return labels, img_train, labels_train, img_test, labels_test"
      ],
      "execution_count": 0,
      "outputs": []
    },
    {
      "cell_type": "code",
      "metadata": {
        "id": "AQB3zsbRiqxr",
        "colab_type": "code",
        "outputId": "b33ed9ca-7540-48e2-cdaa-dce84cdd17b3",
        "colab": {
          "base_uri": "https://localhost:8080/",
          "height": 1751
        }
      },
      "source": [
        "load_not_mnist_data()"
      ],
      "execution_count": 18,
      "outputs": [
        {
          "output_type": "stream",
          "text": [
            "Loaded cached arrays\n"
          ],
          "name": "stdout"
        },
        {
          "output_type": "execute_result",
          "data": {
            "text/plain": [
              "(array(['I', 'G', 'A', 'F', 'H', 'J', 'C', 'D', 'E', 'B'], dtype='<U1'),\n",
              " array([[[180, 185, 214, ..., 217, 189, 184],\n",
              "         [ 56,  58,  70, ...,  76,  66,  64],\n",
              "         [  0,   0,   0, ...,   0,   0,   0],\n",
              "         ...,\n",
              "         [  0,   0,   0, ...,   0,   0,   0],\n",
              "         [ 58,  60,  70, ...,  73,  64,  62],\n",
              "         [177, 182, 211, ..., 209, 180, 174]],\n",
              " \n",
              "        [[255, 255, 255, ...,  54,  48,  48],\n",
              "         [255, 255, 255, ...,  54,  48,  48],\n",
              "         [255, 255, 255, ...,  54,  48,  48],\n",
              "         ...,\n",
              "         [255, 255, 255, ...,  54,  48,  48],\n",
              "         [255, 255, 255, ...,  54,  48,  48],\n",
              "         [255, 255, 255, ...,  54,  48,  48]],\n",
              " \n",
              "        [[  0,   0,   0, ...,   0,   0,   0],\n",
              "         [  0,   0,   0, ...,   0,   0,   0],\n",
              "         [  0,   0,   0, ...,   0,   0,   0],\n",
              "         ...,\n",
              "         [  0,   0,   0, ...,   0,   1,   0],\n",
              "         [  0,   0,   0, ...,   0,   0,   0],\n",
              "         [  0,   0,   0, ...,   0,   0,   0]],\n",
              " \n",
              "        ...,\n",
              " \n",
              "        [[  0,   0,   0, ...,   1,   0,   0],\n",
              "         [  0,   0,   0, ...,   0,   1,   0],\n",
              "         [  0,   0,   0, ...,   0,   3,   0],\n",
              "         ...,\n",
              "         [  0,   0,   0, ...,   0,   0,   0],\n",
              "         [  0,   0,   0, ...,   0,   0,   0],\n",
              "         [  0,   0,   0, ...,   0,   0,   0]],\n",
              " \n",
              "        [[164, 175, 185, ...,   0,   0,   0],\n",
              "         [255, 255, 255, ...,   0,   0,   0],\n",
              "         [243, 253, 252, ...,   0,   0,   0],\n",
              "         ...,\n",
              "         [241, 255, 254, ...,   2,   1,   0],\n",
              "         [241, 255, 254, ...,   1,   0,   0],\n",
              "         [239, 250, 245, ...,   0,   0,   0]],\n",
              " \n",
              "        [[  0,   0,   0, ...,  27,   0,   2],\n",
              "         [  0,   0,   0, ..., 234,  68,   0],\n",
              "         [  0,   0,   0, ..., 255, 232,  31],\n",
              "         ...,\n",
              "         [ 30,  91,  89, ...,   2,   0,   0],\n",
              "         [128, 255, 253, ...,   0,   0,   0],\n",
              "         [176, 255, 249, ...,   0,   0,   0]]], dtype=uint8),\n",
              " array([0, 0, 0, ..., 9, 9, 9]),\n",
              " array([[[ 81,  96, 138, ..., 124,  60,  37],\n",
              "         [131, 153, 215, ..., 191,  94,  59],\n",
              "         [122, 145, 210, ..., 188,  90,  55],\n",
              "         ...,\n",
              "         [124, 147, 212, ..., 190,  92,  56],\n",
              "         [125, 148, 213, ..., 190,  92,  56],\n",
              "         [120, 143, 206, ..., 184,  89,  54]],\n",
              " \n",
              "        [[  0,   0,   0, ..., 134, 150, 110],\n",
              "         [  0,   0,   0, ..., 255, 145,  40],\n",
              "         [  0,   0,   0, ..., 132,   0,   0],\n",
              "         ...,\n",
              "         [100, 255, 133, ...,   0,   0,   0],\n",
              "         [ 11, 172, 238, ...,   0,   0,   0],\n",
              "         [  0,   0,  98, ...,   0,   0,   0]],\n",
              " \n",
              "        [[  8,  16,  23, ..., 107, 116, 119],\n",
              "         [176, 170, 166, ..., 244, 251, 255],\n",
              "         [211, 236, 255, ..., 255, 254, 253],\n",
              "         ...,\n",
              "         [202, 233, 255, ..., 255, 255, 255],\n",
              "         [212, 233, 247, ..., 227, 237, 244],\n",
              "         [110,  98,  89, ...,  71,  62,  48]],\n",
              " \n",
              "        ...,\n",
              " \n",
              "        [[ 13,   0,   6, ...,   0,   0,   0],\n",
              "         [236, 189, 216, ...,   0,   1,   0],\n",
              "         [190, 255, 255, ...,   2,   0,   0],\n",
              "         ...,\n",
              "         [159, 249, 255, ...,   0,   2,   0],\n",
              "         [125, 161, 239, ...,   0,   0,   0],\n",
              "         [  0,  17, 114, ...,   0,   0,   0]],\n",
              " \n",
              "        [[  0,   0,   0, ...,   0,   2,   0],\n",
              "         [  0,   0,   0, ..., 136,   2,   0],\n",
              "         [  0,   0,   0, ..., 255, 143,   0],\n",
              "         ...,\n",
              "         [  0,   0,   3, ...,   2,   0,   0],\n",
              "         [  0,   1,   2, ...,   0,   0,   0],\n",
              "         [137, 210, 217, ...,   0,   0,   0]],\n",
              " \n",
              "        [[217, 224, 246, ...,   0,   0,   0],\n",
              "         [  4,  13,  42, ...,   3,   0,   0],\n",
              "         [  0,   1,   0, ...,   0,   2,   0],\n",
              "         ...,\n",
              "         [  0,   1,   0, ...,  80,   0,   3],\n",
              "         [  6,  20,  55, ...,   0,   3,   0],\n",
              "         [219, 229, 252, ...,   3,   0,   0]]], dtype=uint8),\n",
              " array([0, 0, 0, ..., 9, 9, 9]))"
            ]
          },
          "metadata": {
            "tags": []
          },
          "execution_count": 18
        }
      ]
    },
    {
      "cell_type": "code",
      "metadata": {
        "id": "76do6zy0qvHI",
        "colab_type": "code",
        "outputId": "baf306d7-e7ea-4173-8220-284e2c70540a",
        "colab": {
          "base_uri": "https://localhost:8080/",
          "height": 34
        }
      },
      "source": [
        "labels, img_train, labels_train, img_test, labels_test = load_not_mnist_data()"
      ],
      "execution_count": 19,
      "outputs": [
        {
          "output_type": "stream",
          "text": [
            "Loaded cached arrays\n"
          ],
          "name": "stdout"
        }
      ]
    },
    {
      "cell_type": "markdown",
      "metadata": {
        "id": "XD6PF7ZcNMvm",
        "colab_type": "text"
      },
      "source": [
        "**Задание 1.\n",
        "Загрузите данные и отобразите на экране несколько из изображений с помощью языка Python;**\n"
      ]
    },
    {
      "cell_type": "code",
      "metadata": {
        "id": "oUA0G7U1MVDM",
        "colab_type": "code",
        "outputId": "6a648a1c-baa5-47c0-c1af-9d9068658417",
        "colab": {
          "base_uri": "https://localhost:8080/",
          "height": 388
        }
      },
      "source": [
        "import matplotlib.pyplot as plt\n",
        "\n",
        "plt.rcParams['font.size'] = 14\n",
        "plt.rcParams['font.family'] = 'consolas'\n",
        "\n",
        "rows = 2\n",
        "cols = 3\n",
        "fig = plt.figure(figsize=(16, 6.5))\n",
        "for i in range(1, cols * rows + 1):\n",
        "    ax = fig.add_subplot(rows, cols, i)\n",
        "    ax.set_xticks([])\n",
        "    ax.set_yticks([])\n",
        "    \n",
        "    j = np.random.randint(0, labels_test.shape[0] - 1)\n",
        "    plt.imshow(img_test[j], cmap='gray')"
      ],
      "execution_count": 20,
      "outputs": [
        {
          "output_type": "display_data",
          "data": {
            "image/png": "[encoded data removed]",
            "text/plain": [
              "<Figure size 1152x468 with 6 Axes>"
            ]
          },
          "metadata": {
            "tags": []
          }
        }
      ]
    },
    {
      "cell_type": "markdown",
      "metadata": {
        "id": "Dsvaox_yQ6Kf",
        "colab_type": "text"
      },
      "source": [
        "**Задание 2.\n",
        "Проверьте, что классы являются сбалансированными, т.е. количество изображений, принадлежащих каждому из классов, примерно одинаково (В данной задаче 10 классов).**\n"
      ]
    },
    {
      "cell_type": "code",
      "metadata": {
        "id": "Yo7rrmDFN9rh",
        "colab_type": "code",
        "outputId": "9b1f01d4-40fa-4c29-bd86-45fc634dbb34",
        "colab": {
          "base_uri": "https://localhost:8080/",
          "height": 835
        }
      },
      "source": [
        "from collections import defaultdict\n",
        "\n",
        "plt.rcParams['font.size'] = 16\n",
        "\n",
        "def show_balance(title, ax, a, labels):\n",
        "    counts = defaultdict(int)\n",
        "    for e in a:\n",
        "        counts[labels[e]] += 1\n",
        "        \n",
        "    print(counts)\n",
        "        \n",
        "    ax.bar(counts.keys(), counts.values())\n",
        "    ax.set_title(title)\n",
        "    \n",
        "fig = plt.figure(figsize=(15, 13), )\n",
        "show_balance(\"Train\", fig.add_subplot(2, 1, 1), labels_train, labels)\n",
        "show_balance(\"Test\", fig.add_subplot(2, 1, 2), labels_test, labels)"
      ],
      "execution_count": 21,
      "outputs": [
        {
          "output_type": "stream",
          "text": [
            "defaultdict(<class 'int'>, {'I': 52912, 'G': 52912, 'A': 52909, 'F': 52912, 'H': 52912, 'J': 52911, 'C': 52912, 'D': 52911, 'E': 52912, 'B': 52911})\n",
            "defaultdict(<class 'int'>, {'I': 1872, 'G': 1872, 'A': 1872, 'F': 1872, 'H': 1872, 'J': 1872, 'C': 1873, 'D': 1873, 'E': 1873, 'B': 1873})\n"
          ],
          "name": "stdout"
        },
        {
          "output_type": "display_data",
          "data": {
            "image/png": "[encoded data removed]",
            "text/plain": [
              "<Figure size 1080x936 with 2 Axes>"
            ]
          },
          "metadata": {
            "tags": [],
            "needs_background": "light"
          }
        }
      ]
    },
    {
      "cell_type": "markdown",
      "metadata": {
        "id": "b25l3WjSUXmf",
        "colab_type": "text"
      },
      "source": [
        "**Задание 3,4 Разделение на обучающую, валидационную и контрольную выборки. Удаление дубликатов**"
      ]
    },
    {
      "cell_type": "code",
      "metadata": {
        "id": "Uy0FDL1Ou1We",
        "colab_type": "code",
        "colab": {}
      },
      "source": [
        "from sklearn.linear_model import SGDClassifier, LogisticRegression\n",
        "from sklearn.model_selection import train_test_split\n",
        "\n",
        "def flatten(a):\n",
        "    return a.reshape(a.shape[0], a.shape[1] * a.shape[2])\n",
        "\n",
        "def load_data():\n",
        "    labels, img_train, labels_train, img_test, labels_test = load_not_mnist_data()\n",
        "    img_train, labels_train = remove_duplicates(img_train, labels_train, img_test)\n",
        "    return labels, flatten(img_train), labels_train, flatten(img_test), labels_test"
      ],
      "execution_count": 0,
      "outputs": []
    },
    {
      "cell_type": "code",
      "metadata": {
        "id": "9udnwtbhvNur",
        "colab_type": "code",
        "outputId": "4786e250-a23c-4ea6-9772-9af7f0e7dc88",
        "colab": {
          "base_uri": "https://localhost:8080/",
          "height": 51
        }
      },
      "source": [
        "\n",
        "_, x_train, y_train, x_test, y_test = load_data()\n",
        "x_train, x_val, y_train, y_val = train_test_split(x_train, y_train, test_size=0.1)\n"
      ],
      "execution_count": 23,
      "outputs": [
        {
          "output_type": "stream",
          "text": [
            "Loaded cached arrays\n",
            "Removed 12213 duplicated images\n"
          ],
          "name": "stdout"
        }
      ]
    },
    {
      "cell_type": "markdown",
      "metadata": {
        "id": "OMUXLV2DqC9C",
        "colab_type": "text"
      },
      "source": [
        "**Задание 5.\n",
        "Постройте простейший классификатор (например, с помощью логистической регрессии). Постройте график зависимости точности классификатора от размера обучающей выборки (50, 100, 1000, 50000)**\n"
      ]
    },
    {
      "cell_type": "code",
      "metadata": {
        "id": "ImCvs2ZowQ99",
        "colab_type": "code",
        "outputId": "86fc5462-b5b8-4722-9b21-e0c3b2ac5fa6",
        "colab": {
          "base_uri": "https://localhost:8080/",
          "height": 102
        }
      },
      "source": [
        "results = {}\n",
        "results.setdefault('val_acc', {})\n",
        "ns = [50, 100, 1000, 50000]\n",
        "\n",
        "print('Training Logistic Regression model:')\n",
        "for n in ns:\n",
        "  indices = np.arange(len(x_train))\n",
        "  if n < len(x_train):\n",
        "    indices = np.random.choice(indices, n, replace=False)\n",
        "\n",
        "  # model = SGDClassifier(loss='log', tol=1e-4, early_stopping=True)\n",
        "  model = LogisticRegression(solver='lbfgs', max_iter = 1000000)\n",
        "  model.fit(x_train[indices], y_train[indices])\n",
        "\n",
        "  y_pred = model.predict(x_val)\n",
        "  results[\"val_acc\"][str(n)] = acc = np.mean(np.equal(y_pred, y_val).astype(np.int))\n",
        "  print(f\"n = {n}, accuracy = {acc:.5f}, iterations = {model.n_iter_}\")"
      ],
      "execution_count": 24,
      "outputs": [
        {
          "output_type": "stream",
          "text": [
            "Training Logistic Regression model:\n",
            "n = 50, accuracy = 0.56613, iterations = [60]\n",
            "n = 100, accuracy = 0.69766, iterations = [97]\n",
            "n = 1000, accuracy = 0.75181, iterations = [486]\n",
            "n = 50000, accuracy = 0.81211, iterations = [4805]\n"
          ],
          "name": "stdout"
        }
      ]
    },
    {
      "cell_type": "code",
      "metadata": {
        "id": "wx9xrHM6dT8t",
        "colab_type": "code",
        "outputId": "45f7ef0e-c247-41a9-cef8-7bee07cc2287",
        "colab": {
          "base_uri": "https://localhost:8080/",
          "height": 51
        }
      },
      "source": [
        "print (results[\"val_acc\"].keys())\n",
        "print (results[\"val_acc\"].values())"
      ],
      "execution_count": 25,
      "outputs": [
        {
          "output_type": "stream",
          "text": [
            "dict_keys(['50', '100', '1000', '50000'])\n",
            "dict_values([0.566133369445358, 0.6976649706912228, 0.7518136619527578, 0.8121142945580468])\n"
          ],
          "name": "stdout"
        }
      ]
    },
    {
      "cell_type": "code",
      "metadata": {
        "id": "sTvIO5KtYB-Q",
        "colab_type": "code",
        "outputId": "945d6079-b871-44c7-9a94-7c36d571a28f",
        "colab": {
          "base_uri": "https://localhost:8080/",
          "height": 422
        }
      },
      "source": [
        "# The Data\n",
        "x = list(results[\"val_acc\"].keys())\n",
        "y = list(results[\"val_acc\"].values())\n",
        "\n",
        "# Create the figure and axes objects\n",
        "fig, ax = plt.subplots(1, figsize=(8, 6))\n",
        "fig.suptitle('Logistic Regression')\n",
        "\n",
        "# Plot the data\n",
        "ax.plot(x,y)\n",
        "\n",
        "# Show the grid lines as dark grey lines\n",
        "plt.grid(b=True, which='major', color='#666666', linestyle='-')\n",
        "\n",
        "plt.show()"
      ],
      "execution_count": 26,
      "outputs": [
        {
          "output_type": "display_data",
          "data": {
            "image/png": "[encoded data removed]",
            "text/plain": [
              "<Figure size 576x432 with 1 Axes>"
            ]
          },
          "metadata": {
            "tags": [],
            "needs_background": "light"
          }
        }
      ]
    }
  ]
}