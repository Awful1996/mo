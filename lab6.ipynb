{
  "nbformat": 4,
  "nbformat_minor": 0,
  "metadata": {
    "colab": {
      "name": "lab6.ipynb",
      "provenance": []
    },
    "kernelspec": {
      "name": "python3",
      "display_name": "Python 3"
    },
    "accelerator": "GPU"
  },
  "cells": [
    {
      "cell_type": "markdown",
      "metadata": {
        "id": "3lD9K-yx-7Pg",
        "colab_type": "text"
      },
      "source": [
        "**Лабораторная работа №6.**Применение сверточных нейронных сетей (многоклассовая классификация)\n",
        "\n",
        "\n",
        "1.   Загрузите данные. Разделите исходный набор данных на обучающую и валидационную выборки.\n",
        "2.   Реализуйте глубокую нейронную сеть со сверточными слоями. Какое качество классификации получено? Какая архитектура сети была использована?\n",
        "3.   Примените дополнение данных (data augmentation). Как это повлияло на качество классификатора? \n",
        "4.   Поэкспериментируйте с готовыми нейронными сетями (например, AlexNet, VGG16, Inception и т.п.), применив передаточное обучение. Как это повлияло на качество классификатора? Можно ли было обойтись без него?\n",
        "Какой максимальный результат удалось получить на контрольной выборке?\n",
        "\n"
      ]
    },
    {
      "cell_type": "code",
      "metadata": {
        "id": "sB9jBlAyFh9v",
        "colab_type": "code",
        "outputId": "6457d4a8-f697-4570-f9ee-69ba64851394",
        "colab": {
          "base_uri": "https://localhost:8080/",
          "height": 68
        }
      },
      "source": [
        "# Install Kaggle library\n",
        "!pip install -q kaggle\n",
        "\n",
        "import os\n",
        "os.environ['KAGGLE_USERNAME'] = \"awful1996\" # username from the json file\n",
        "os.environ['KAGGLE_KEY'] = \"5e55f76a1cc7a4772bd7803cba8fb2c1\" # key from the json file\n",
        "#!kaggle datasets download -d iarunava/happy-house-dataset # api copied from kaggle\n",
        "!kaggle datasets download -d datamunge/sign-language-mnist"
      ],
      "execution_count": 0,
      "outputs": [
        {
          "output_type": "stream",
          "text": [
            "Downloading sign-language-mnist.zip to /content\n",
            " 66% 41.0M/62.6M [00:00<00:00, 26.1MB/s]\n",
            "100% 62.6M/62.6M [00:00<00:00, 67.8MB/s]\n"
          ],
          "name": "stdout"
        }
      ]
    },
    {
      "cell_type": "code",
      "metadata": {
        "id": "CI3MVe9GzfIZ",
        "colab_type": "code",
        "outputId": "232bbd7b-6ad1-44b3-b4c2-87659cb29c25",
        "colab": {
          "base_uri": "https://localhost:8080/",
          "height": 68
        }
      },
      "source": [
        "!ls"
      ],
      "execution_count": 0,
      "outputs": [
        {
          "output_type": "stream",
          "text": [
            "american_sign_language.PNG  sample_data\t\t     sign_mnist_test.csv\n",
            "amer_sign2.png\t\t    sign-language-mnist.zip  sign_mnist_train\n",
            "amer_sign3.png\t\t    sign_mnist_test\t     sign_mnist_train.csv\n"
          ],
          "name": "stdout"
        }
      ]
    },
    {
      "cell_type": "code",
      "metadata": {
        "id": "SOjBavAmF5Pi",
        "colab_type": "code",
        "outputId": "eddb914a-2b03-475d-ec57-20f208ac3c0e",
        "colab": {
          "base_uri": "https://localhost:8080/",
          "height": 153
        }
      },
      "source": [
        "!unzip sign-language-mnist.zip"
      ],
      "execution_count": 0,
      "outputs": [
        {
          "output_type": "stream",
          "text": [
            "Archive:  sign-language-mnist.zip\n",
            "  inflating: amer_sign2.png          \n",
            "  inflating: amer_sign3.png          \n",
            "  inflating: american_sign_language.PNG  \n",
            "  inflating: sign_mnist_test.csv     \n",
            "  inflating: sign_mnist_test/sign_mnist_test.csv  \n",
            "  inflating: sign_mnist_train.csv    \n",
            "  inflating: sign_mnist_train/sign_mnist_train.csv  \n"
          ],
          "name": "stdout"
        }
      ]
    },
    {
      "cell_type": "code",
      "metadata": {
        "id": "Yu8wI_aOz7jP",
        "colab_type": "code",
        "outputId": "893b2376-76f4-4f98-9de1-4d40878733fd",
        "colab": {
          "base_uri": "https://localhost:8080/",
          "height": 68
        }
      },
      "source": [
        "!ls"
      ],
      "execution_count": 0,
      "outputs": [
        {
          "output_type": "stream",
          "text": [
            "american_sign_language.PNG  sample_data\t\t     sign_mnist_test.csv\n",
            "amer_sign2.png\t\t    sign-language-mnist.zip  sign_mnist_train\n",
            "amer_sign3.png\t\t    sign_mnist_test\t     sign_mnist_train.csv\n"
          ],
          "name": "stdout"
        }
      ]
    },
    {
      "cell_type": "code",
      "metadata": {
        "id": "voyFW5hGz4pC",
        "colab_type": "code",
        "outputId": "23578e79-a249-4de1-c5c3-5fbaee005c7d",
        "colab": {
          "base_uri": "https://localhost:8080/",
          "height": 493
        }
      },
      "source": [
        "import pandas as pd\n",
        "df = pd.read_csv('sign_mnist_train.csv')\n",
        "print(df)\n",
        "\n",
        "testDF = pd.read_csv('sign_mnist_test.csv')\n",
        "print(testDF)\n"
      ],
      "execution_count": 0,
      "outputs": [
        {
          "output_type": "stream",
          "text": [
            "       label  pixel1  pixel2  pixel3  ...  pixel781  pixel782  pixel783  pixel784\n",
            "0          3     107     118     127  ...       206       204       203       202\n",
            "1          6     155     157     156  ...       175       103       135       149\n",
            "2          2     187     188     188  ...       198       195       194       195\n",
            "3          2     211     211     212  ...       225       222       229       163\n",
            "4         13     164     167     170  ...       157       163       164       179\n",
            "...      ...     ...     ...     ...  ...       ...       ...       ...       ...\n",
            "27450     13     189     189     190  ...       234       200       222       225\n",
            "27451     23     151     154     157  ...       195       195       195       194\n",
            "27452     18     174     174     174  ...       203       202       200       200\n",
            "27453     17     177     181     184  ...        47        64        87        93\n",
            "27454     23     179     180     180  ...       197       205       209       215\n",
            "\n",
            "[27455 rows x 785 columns]\n",
            "      label  pixel1  pixel2  pixel3  ...  pixel781  pixel782  pixel783  pixel784\n",
            "0         6     149     149     150  ...       106       112       120       107\n",
            "1         5     126     128     131  ...       184       184       182       180\n",
            "2        10      85      88      92  ...       226       225       224       222\n",
            "3         0     203     205     207  ...       230       240       253       255\n",
            "4         3     188     191     193  ...        49        46        46        53\n",
            "...     ...     ...     ...     ...  ...       ...       ...       ...       ...\n",
            "7167      1     135     119     108  ...       184       176       167       163\n",
            "7168     12     157     159     161  ...       210       210       209       208\n",
            "7169      2     190     191     190  ...       210       211       209       208\n",
            "7170      4     201     205     208  ...        91        67        70        63\n",
            "7171      2     173     174     173  ...       195       195       193       192\n",
            "\n",
            "[7172 rows x 785 columns]\n"
          ],
          "name": "stdout"
        }
      ]
    },
    {
      "cell_type": "code",
      "metadata": {
        "id": "8DzL6ZqR0J3b",
        "colab_type": "code",
        "outputId": "07e2f675-155b-4042-93e3-eccc6151d4bd",
        "colab": {
          "base_uri": "https://localhost:8080/",
          "height": 51
        }
      },
      "source": [
        "def getData(df):\n",
        "  y = df[\"label\"].values.reshape((df.shape[0], 1)) \n",
        "  x = df.drop(columns=\"label\").values.reshape((df.shape[0], 28, 28, 1))\n",
        "  print(y.shape, x.shape)\n",
        "  return x, y\n",
        "\n",
        "x, y = getData(df)\n",
        "tX, tY = getData(testDF)"
      ],
      "execution_count": 0,
      "outputs": [
        {
          "output_type": "stream",
          "text": [
            "(27455, 1) (27455, 28, 28, 1)\n",
            "(7172, 1) (7172, 28, 28, 1)\n"
          ],
          "name": "stdout"
        }
      ]
    },
    {
      "cell_type": "code",
      "metadata": {
        "id": "mNuBZI-L0jKi",
        "colab_type": "code",
        "colab": {}
      },
      "source": [
        "from sklearn.model_selection import train_test_split\n",
        "x_train, x_val, y_train, y_val = train_test_split(x, y, test_size=.25)"
      ],
      "execution_count": 0,
      "outputs": []
    },
    {
      "cell_type": "markdown",
      "metadata": {
        "id": "wkscMN8Q_pA_",
        "colab_type": "text"
      },
      "source": [
        "**Задание 2.**\n",
        "Реализуйте глубокую нейронную сеть со сверточными слоями. Какое качество классификации получено? Какая архитектура сети была использована?\n",
        "\n",
        "Была получена точность 93 процента\n"
      ]
    },
    {
      "cell_type": "code",
      "metadata": {
        "id": "u5yEYUgV07yH",
        "colab_type": "code",
        "colab": {}
      },
      "source": [
        "from tensorflow.keras import layers, models, Sequential\n",
        "\n",
        "model = Sequential([\n",
        "    layers.Conv2D(64, kernel_size=3, activation='relu', input_shape=(28,28,1)),\n",
        "    layers.Conv2D(32, kernel_size=5, activation='relu'),\n",
        "    layers.Dropout(0.25),\n",
        "    layers.MaxPooling2D((2, 2)),\n",
        "    layers.Conv2D(64, (3, 3), activation='relu', padding='same'),\n",
        "    layers.Dropout(0.25),\n",
        "    layers.MaxPooling2D((2, 2)),\n",
        "    layers.Conv2D(128, (3, 3), activation='relu', padding='same'),\n",
        "    layers.Dropout(0.25),\n",
        "    layers.MaxPooling2D((2, 2)),\n",
        "    layers.Flatten(),\n",
        "    layers.Dense(500, activation='relu'),\n",
        "    layers.Dropout(0.5),\n",
        "    layers.Dense(25, activation='softmax')\n",
        "])\n",
        "\n",
        "model.compile(optimizer='adam', loss='sparse_categorical_crossentropy', metrics=['accuracy'])"
      ],
      "execution_count": 0,
      "outputs": []
    },
    {
      "cell_type": "code",
      "metadata": {
        "id": "RZ9tl7qx1hpo",
        "colab_type": "code",
        "outputId": "dce47e6a-dc0a-4524-c2a4-052555880e03",
        "colab": {
          "base_uri": "https://localhost:8080/",
          "height": 578
        }
      },
      "source": [
        "import tensorflow as tf\n",
        "\n",
        "model.fit(x_train, y_train, validation_split=0.1, epochs=100, callbacks=[\n",
        "      tf.keras.callbacks.EarlyStopping(\n",
        "        patience=2,\n",
        "        restore_best_weights=True,\n",
        "        monitor='accuracy'\n",
        "      )\n",
        "    ])"
      ],
      "execution_count": 0,
      "outputs": [
        {
          "output_type": "stream",
          "text": [
            "Epoch 1/100\n",
            "580/580 [==============================] - 5s 9ms/step - loss: 3.0719 - accuracy: 0.1263 - val_loss: 1.9795 - val_accuracy: 0.4971\n",
            "Epoch 2/100\n",
            "580/580 [==============================] - 5s 8ms/step - loss: 1.1424 - accuracy: 0.6333 - val_loss: 0.3806 - val_accuracy: 0.9383\n",
            "Epoch 3/100\n",
            "580/580 [==============================] - 5s 8ms/step - loss: 0.3862 - accuracy: 0.8723 - val_loss: 0.1172 - val_accuracy: 0.9883\n",
            "Epoch 4/100\n",
            "580/580 [==============================] - 5s 8ms/step - loss: 0.2489 - accuracy: 0.9207 - val_loss: 0.0915 - val_accuracy: 0.9883\n",
            "Epoch 5/100\n",
            "580/580 [==============================] - 5s 8ms/step - loss: 0.1934 - accuracy: 0.9377 - val_loss: 0.0396 - val_accuracy: 0.9971\n",
            "Epoch 6/100\n",
            "580/580 [==============================] - 5s 8ms/step - loss: 0.1519 - accuracy: 0.9513 - val_loss: 0.0398 - val_accuracy: 0.9971\n",
            "Epoch 7/100\n",
            "580/580 [==============================] - 5s 8ms/step - loss: 0.1315 - accuracy: 0.9608 - val_loss: 0.0433 - val_accuracy: 0.9917\n",
            "Epoch 8/100\n",
            "580/580 [==============================] - 5s 8ms/step - loss: 0.1338 - accuracy: 0.9570 - val_loss: 0.0126 - val_accuracy: 0.9995\n",
            "Epoch 9/100\n",
            "580/580 [==============================] - 5s 8ms/step - loss: 0.1150 - accuracy: 0.9637 - val_loss: 0.0115 - val_accuracy: 0.9976\n",
            "Epoch 10/100\n",
            "580/580 [==============================] - 5s 8ms/step - loss: 0.1006 - accuracy: 0.9700 - val_loss: 0.0176 - val_accuracy: 0.9985\n",
            "Epoch 11/100\n",
            "580/580 [==============================] - 5s 8ms/step - loss: 0.1325 - accuracy: 0.9607 - val_loss: 0.0493 - val_accuracy: 0.9937\n",
            "Epoch 12/100\n",
            "580/580 [==============================] - 5s 8ms/step - loss: 0.0789 - accuracy: 0.9765 - val_loss: 0.0059 - val_accuracy: 0.9995\n",
            "Epoch 13/100\n",
            "580/580 [==============================] - 5s 8ms/step - loss: 0.0865 - accuracy: 0.9752 - val_loss: 0.0184 - val_accuracy: 0.9981\n",
            "Epoch 14/100\n",
            "580/580 [==============================] - 5s 8ms/step - loss: 0.0679 - accuracy: 0.9799 - val_loss: 0.0073 - val_accuracy: 0.9985\n",
            "Epoch 15/100\n",
            "580/580 [==============================] - 5s 8ms/step - loss: 0.0779 - accuracy: 0.9773 - val_loss: 0.0155 - val_accuracy: 0.9981\n",
            "Epoch 16/100\n",
            "580/580 [==============================] - 5s 8ms/step - loss: 0.1046 - accuracy: 0.9718 - val_loss: 0.0025 - val_accuracy: 1.0000\n"
          ],
          "name": "stdout"
        },
        {
          "output_type": "execute_result",
          "data": {
            "text/plain": [
              "<tensorflow.python.keras.callbacks.History at 0x7fb1a82672b0>"
            ]
          },
          "metadata": {
            "tags": []
          },
          "execution_count": 29
        }
      ]
    },
    {
      "cell_type": "code",
      "metadata": {
        "id": "FCqcW93L2SCv",
        "colab_type": "code",
        "outputId": "60d1e6e1-c214-4864-e165-998940251359",
        "colab": {
          "base_uri": "https://localhost:8080/",
          "height": 51
        }
      },
      "source": [
        "model.evaluate(tX,  tY)"
      ],
      "execution_count": 0,
      "outputs": [
        {
          "output_type": "stream",
          "text": [
            "225/225 [==============================] - 1s 4ms/step - loss: 0.2069 - accuracy: 0.9334\n"
          ],
          "name": "stdout"
        },
        {
          "output_type": "execute_result",
          "data": {
            "text/plain": [
              "[0.20685824751853943, 0.9333519339561462]"
            ]
          },
          "metadata": {
            "tags": []
          },
          "execution_count": 30
        }
      ]
    },
    {
      "cell_type": "markdown",
      "metadata": {
        "id": "eM1oUfWb_3lM",
        "colab_type": "text"
      },
      "source": [
        "**Задание 3.**\n",
        "Примените дополнение данных (data augmentation). Как это повлияло на качество классификатора? \n",
        "\n",
        "После применение качество упало до 5 процентов\n"
      ]
    },
    {
      "cell_type": "code",
      "metadata": {
        "id": "BBzBXjfn8zXR",
        "colab_type": "code",
        "colab": {}
      },
      "source": [
        "model = Sequential([\n",
        "    layers.Conv2D(64, kernel_size=3, activation='relu', input_shape=(28,28,1)),\n",
        "    layers.Conv2D(32, kernel_size=5, activation='relu'),\n",
        "    layers.Dropout(0.25),\n",
        "    layers.MaxPooling2D((2, 2)),\n",
        "    layers.Conv2D(64, (3, 3), activation='relu', padding='same'),\n",
        "    layers.Dropout(0.25),\n",
        "    layers.MaxPooling2D((2, 2)),\n",
        "    layers.Conv2D(128, (3, 3), activation='relu', padding='same'),\n",
        "    layers.Dropout(0.25),\n",
        "    layers.MaxPooling2D((2, 2)),\n",
        "    layers.Flatten(),\n",
        "    layers.Dense(500, activation='relu'),\n",
        "    layers.Dropout(0.5),\n",
        "    layers.Dense(25, activation='softmax')\n",
        "])\n",
        "\n",
        "model.compile(optimizer='adam', loss='sparse_categorical_crossentropy', metrics=['accuracy'])"
      ],
      "execution_count": 0,
      "outputs": []
    },
    {
      "cell_type": "code",
      "metadata": {
        "id": "JK0T_ZtI5KD3",
        "colab_type": "code",
        "colab": {}
      },
      "source": [
        "from tensorflow.keras.preprocessing.image import ImageDataGenerator\n",
        "\n",
        "\n",
        "datagen = ImageDataGenerator(rotation_range=20, zoom_range=0.15,\n",
        "\twidth_shift_range=0.2, height_shift_range=0.2, shear_range=0.15,\n",
        "\thorizontal_flip=True, fill_mode=\"nearest\")\n",
        "\n",
        "train_generator = datagen.flow(x_train, y_train, batch_size=32)\n",
        "val_generator = datagen.flow(x_val, y_val, batch_size=32)\n",
        "test_generator = datagen.flow(tX, tY, batch_size=32)"
      ],
      "execution_count": 0,
      "outputs": []
    },
    {
      "cell_type": "code",
      "metadata": {
        "id": "_N4jTEYK5frI",
        "colab_type": "code",
        "outputId": "bb59fe43-d40a-4550-8a62-06eda3ba8633",
        "colab": {
          "base_uri": "https://localhost:8080/",
          "height": 1000
        }
      },
      "source": [
        "EPOCHS = 100\n",
        "BS = 32\n",
        "\n",
        "model.fit_generator(\n",
        "  train_generator,\n",
        "  epochs=100,\n",
        "  validation_data=(x_val,y_val), steps_per_epoch=len(x_train) // 32)"
      ],
      "execution_count": 0,
      "outputs": [
        {
          "output_type": "stream",
          "text": [
            "Epoch 1/100\n",
            "643/643 [==============================] - 13s 20ms/step - loss: 3.2701 - accuracy: 0.0173 - val_loss: 2.9611 - val_accuracy: 1.4569e-04\n",
            "Epoch 2/100\n",
            "643/643 [==============================] - 12s 19ms/step - loss: 2.8287 - accuracy: 0.0168 - val_loss: 2.4577 - val_accuracy: 0.0935\n",
            "Epoch 3/100\n",
            "643/643 [==============================] - 12s 19ms/step - loss: 2.4743 - accuracy: 0.0523 - val_loss: 1.8554 - val_accuracy: 0.0622\n",
            "Epoch 4/100\n",
            "643/643 [==============================] - 12s 19ms/step - loss: 2.0677 - accuracy: 0.0498 - val_loss: 1.4050 - val_accuracy: 0.0172\n",
            "Epoch 5/100\n",
            "643/643 [==============================] - 12s 19ms/step - loss: 1.6249 - accuracy: 0.0453 - val_loss: 0.8157 - val_accuracy: 0.0609\n",
            "Epoch 6/100\n",
            "643/643 [==============================] - 12s 19ms/step - loss: 1.3345 - accuracy: 0.0450 - val_loss: 0.5770 - val_accuracy: 0.0402\n",
            "Epoch 7/100\n",
            "643/643 [==============================] - 12s 19ms/step - loss: 1.1157 - accuracy: 0.0407 - val_loss: 0.4387 - val_accuracy: 0.0425\n",
            "Epoch 8/100\n",
            "643/643 [==============================] - 12s 19ms/step - loss: 0.9863 - accuracy: 0.0430 - val_loss: 0.3492 - val_accuracy: 0.0361\n",
            "Epoch 9/100\n",
            "643/643 [==============================] - 13s 20ms/step - loss: 0.8957 - accuracy: 0.0443 - val_loss: 0.3064 - val_accuracy: 0.0433\n",
            "Epoch 10/100\n",
            "643/643 [==============================] - 12s 19ms/step - loss: 0.8245 - accuracy: 0.0413 - val_loss: 0.2737 - val_accuracy: 0.0376\n",
            "Epoch 11/100\n",
            "643/643 [==============================] - 12s 19ms/step - loss: 0.7717 - accuracy: 0.0398 - val_loss: 0.1802 - val_accuracy: 0.0452\n",
            "Epoch 12/100\n",
            "643/643 [==============================] - 12s 19ms/step - loss: 0.7431 - accuracy: 0.0396 - val_loss: 0.2054 - val_accuracy: 0.0501\n",
            "Epoch 13/100\n",
            "643/643 [==============================] - 13s 20ms/step - loss: 0.6836 - accuracy: 0.0444 - val_loss: 0.2196 - val_accuracy: 0.0433\n",
            "Epoch 14/100\n",
            "643/643 [==============================] - 13s 20ms/step - loss: 0.6731 - accuracy: 0.0407 - val_loss: 0.1774 - val_accuracy: 0.0433\n",
            "Epoch 15/100\n",
            "643/643 [==============================] - 12s 19ms/step - loss: 0.6326 - accuracy: 0.0411 - val_loss: 0.1585 - val_accuracy: 0.0427\n",
            "Epoch 16/100\n",
            "643/643 [==============================] - 12s 19ms/step - loss: 0.6043 - accuracy: 0.0422 - val_loss: 0.1750 - val_accuracy: 0.0434\n",
            "Epoch 17/100\n",
            "643/643 [==============================] - 12s 19ms/step - loss: 0.5662 - accuracy: 0.0411 - val_loss: 0.1830 - val_accuracy: 0.0587\n",
            "Epoch 18/100\n",
            "643/643 [==============================] - 12s 19ms/step - loss: 0.5747 - accuracy: 0.0390 - val_loss: 0.0813 - val_accuracy: 0.0425\n",
            "Epoch 19/100\n",
            "643/643 [==============================] - 12s 19ms/step - loss: 0.5519 - accuracy: 0.0440 - val_loss: 0.0826 - val_accuracy: 0.0431\n",
            "Epoch 20/100\n",
            "643/643 [==============================] - 12s 19ms/step - loss: 0.5429 - accuracy: 0.0421 - val_loss: 0.0864 - val_accuracy: 0.0431\n",
            "Epoch 21/100\n",
            "643/643 [==============================] - 12s 19ms/step - loss: 0.5425 - accuracy: 0.0417 - val_loss: 0.0843 - val_accuracy: 0.0414\n",
            "Epoch 22/100\n",
            "643/643 [==============================] - 12s 19ms/step - loss: 0.5047 - accuracy: 0.0417 - val_loss: 0.0566 - val_accuracy: 0.0414\n",
            "Epoch 23/100\n",
            "643/643 [==============================] - 12s 19ms/step - loss: 0.5330 - accuracy: 0.0411 - val_loss: 0.0739 - val_accuracy: 0.0412\n",
            "Epoch 24/100\n",
            "643/643 [==============================] - 12s 19ms/step - loss: 0.5250 - accuracy: 0.0412 - val_loss: 0.0601 - val_accuracy: 0.0389\n",
            "Epoch 25/100\n",
            "643/643 [==============================] - 12s 19ms/step - loss: 0.5188 - accuracy: 0.0410 - val_loss: 0.0697 - val_accuracy: 0.0406\n",
            "Epoch 26/100\n",
            "643/643 [==============================] - 12s 19ms/step - loss: 0.4970 - accuracy: 0.0429 - val_loss: 0.1668 - val_accuracy: 0.0472\n",
            "Epoch 27/100\n",
            "643/643 [==============================] - 12s 19ms/step - loss: 0.5056 - accuracy: 0.0409 - val_loss: 0.0565 - val_accuracy: 0.0420\n",
            "Epoch 28/100\n",
            "643/643 [==============================] - 12s 19ms/step - loss: 0.4992 - accuracy: 0.0406 - val_loss: 0.1064 - val_accuracy: 0.0431\n",
            "Epoch 29/100\n",
            "643/643 [==============================] - 12s 19ms/step - loss: 0.5036 - accuracy: 0.0407 - val_loss: 0.0907 - val_accuracy: 0.0440\n",
            "Epoch 30/100\n",
            "643/643 [==============================] - 12s 19ms/step - loss: 0.4769 - accuracy: 0.0401 - val_loss: 0.0521 - val_accuracy: 0.0421\n",
            "Epoch 31/100\n",
            "643/643 [==============================] - 12s 19ms/step - loss: 0.4577 - accuracy: 0.0436 - val_loss: 0.0539 - val_accuracy: 0.0406\n",
            "Epoch 32/100\n",
            "643/643 [==============================] - 12s 19ms/step - loss: 0.4644 - accuracy: 0.0401 - val_loss: 0.0487 - val_accuracy: 0.0414\n",
            "Epoch 33/100\n",
            "643/643 [==============================] - 13s 19ms/step - loss: 0.4518 - accuracy: 0.0404 - val_loss: 0.0576 - val_accuracy: 0.0414\n",
            "Epoch 34/100\n",
            "643/643 [==============================] - 12s 19ms/step - loss: 0.4576 - accuracy: 0.0413 - val_loss: 0.0413 - val_accuracy: 0.0409\n",
            "Epoch 35/100\n",
            "643/643 [==============================] - 12s 19ms/step - loss: 0.4462 - accuracy: 0.0415 - val_loss: 0.0423 - val_accuracy: 0.0414\n",
            "Epoch 36/100\n",
            "643/643 [==============================] - 12s 19ms/step - loss: 0.4730 - accuracy: 0.0418 - val_loss: 0.0680 - val_accuracy: 0.0425\n",
            "Epoch 37/100\n",
            "643/643 [==============================] - 12s 19ms/step - loss: 0.4535 - accuracy: 0.0425 - val_loss: 0.0491 - val_accuracy: 0.0411\n",
            "Epoch 38/100\n",
            "643/643 [==============================] - 13s 20ms/step - loss: 0.4598 - accuracy: 0.0407 - val_loss: 0.0609 - val_accuracy: 0.0411\n",
            "Epoch 39/100\n",
            "643/643 [==============================] - 13s 19ms/step - loss: 0.4579 - accuracy: 0.0420 - val_loss: 0.0551 - val_accuracy: 0.0414\n",
            "Epoch 40/100\n",
            "643/643 [==============================] - 12s 19ms/step - loss: 0.4430 - accuracy: 0.0412 - val_loss: 0.0730 - val_accuracy: 0.0409\n",
            "Epoch 41/100\n",
            "643/643 [==============================] - 12s 19ms/step - loss: 0.4553 - accuracy: 0.0429 - val_loss: 0.1224 - val_accuracy: 0.0412\n",
            "Epoch 42/100\n",
            "575/643 [=========================>....] - ETA: 1s - loss: 0.4364 - accuracy: 0.0422"
          ],
          "name": "stdout"
        },
        {
          "output_type": "error",
          "ename": "KeyboardInterrupt",
          "evalue": "ignored",
          "traceback": [
            "\u001b[0;31m---------------------------------------------------------------------------\u001b[0m",
            "\u001b[0;31mKeyboardInterrupt\u001b[0m                         Traceback (most recent call last)",
            "\u001b[0;32m<ipython-input-50-e6d17237f5c8>\u001b[0m in \u001b[0;36m<module>\u001b[0;34m()\u001b[0m\n\u001b[1;32m     13\u001b[0m   \u001b[0mtrain_generator\u001b[0m\u001b[0;34m,\u001b[0m\u001b[0;34m\u001b[0m\u001b[0;34m\u001b[0m\u001b[0m\n\u001b[1;32m     14\u001b[0m   \u001b[0mepochs\u001b[0m\u001b[0;34m=\u001b[0m\u001b[0;36m100\u001b[0m\u001b[0;34m,\u001b[0m\u001b[0;34m\u001b[0m\u001b[0;34m\u001b[0m\u001b[0m\n\u001b[0;32m---> 15\u001b[0;31m   validation_data=(x_val,y_val), steps_per_epoch=len(x_train) // 32)\n\u001b[0m",
            "\u001b[0;32m/usr/local/lib/python3.6/dist-packages/tensorflow/python/util/deprecation.py\u001b[0m in \u001b[0;36mnew_func\u001b[0;34m(*args, **kwargs)\u001b[0m\n\u001b[1;32m    322\u001b[0m               \u001b[0;34m'in a future version'\u001b[0m \u001b[0;32mif\u001b[0m \u001b[0mdate\u001b[0m \u001b[0;32mis\u001b[0m \u001b[0;32mNone\u001b[0m \u001b[0;32melse\u001b[0m \u001b[0;34m(\u001b[0m\u001b[0;34m'after %s'\u001b[0m \u001b[0;34m%\u001b[0m \u001b[0mdate\u001b[0m\u001b[0;34m)\u001b[0m\u001b[0;34m,\u001b[0m\u001b[0;34m\u001b[0m\u001b[0;34m\u001b[0m\u001b[0m\n\u001b[1;32m    323\u001b[0m               instructions)\n\u001b[0;32m--> 324\u001b[0;31m       \u001b[0;32mreturn\u001b[0m \u001b[0mfunc\u001b[0m\u001b[0;34m(\u001b[0m\u001b[0;34m*\u001b[0m\u001b[0margs\u001b[0m\u001b[0;34m,\u001b[0m \u001b[0;34m**\u001b[0m\u001b[0mkwargs\u001b[0m\u001b[0;34m)\u001b[0m\u001b[0;34m\u001b[0m\u001b[0;34m\u001b[0m\u001b[0m\n\u001b[0m\u001b[1;32m    325\u001b[0m     return tf_decorator.make_decorator(\n\u001b[1;32m    326\u001b[0m         \u001b[0mfunc\u001b[0m\u001b[0;34m,\u001b[0m \u001b[0mnew_func\u001b[0m\u001b[0;34m,\u001b[0m \u001b[0;34m'deprecated'\u001b[0m\u001b[0;34m,\u001b[0m\u001b[0;34m\u001b[0m\u001b[0;34m\u001b[0m\u001b[0m\n",
            "\u001b[0;32m/usr/local/lib/python3.6/dist-packages/tensorflow/python/keras/engine/training.py\u001b[0m in \u001b[0;36mfit_generator\u001b[0;34m(self, generator, steps_per_epoch, epochs, verbose, callbacks, validation_data, validation_steps, validation_freq, class_weight, max_queue_size, workers, use_multiprocessing, shuffle, initial_epoch)\u001b[0m\n\u001b[1;32m   1480\u001b[0m         \u001b[0muse_multiprocessing\u001b[0m\u001b[0;34m=\u001b[0m\u001b[0muse_multiprocessing\u001b[0m\u001b[0;34m,\u001b[0m\u001b[0;34m\u001b[0m\u001b[0;34m\u001b[0m\u001b[0m\n\u001b[1;32m   1481\u001b[0m         \u001b[0mshuffle\u001b[0m\u001b[0;34m=\u001b[0m\u001b[0mshuffle\u001b[0m\u001b[0;34m,\u001b[0m\u001b[0;34m\u001b[0m\u001b[0;34m\u001b[0m\u001b[0m\n\u001b[0;32m-> 1482\u001b[0;31m         initial_epoch=initial_epoch)\n\u001b[0m\u001b[1;32m   1483\u001b[0m \u001b[0;34m\u001b[0m\u001b[0m\n\u001b[1;32m   1484\u001b[0m   @deprecation.deprecated(\n",
            "\u001b[0;32m/usr/local/lib/python3.6/dist-packages/tensorflow/python/keras/engine/training.py\u001b[0m in \u001b[0;36m_method_wrapper\u001b[0;34m(self, *args, **kwargs)\u001b[0m\n\u001b[1;32m     64\u001b[0m   \u001b[0;32mdef\u001b[0m \u001b[0m_method_wrapper\u001b[0m\u001b[0;34m(\u001b[0m\u001b[0mself\u001b[0m\u001b[0;34m,\u001b[0m \u001b[0;34m*\u001b[0m\u001b[0margs\u001b[0m\u001b[0;34m,\u001b[0m \u001b[0;34m**\u001b[0m\u001b[0mkwargs\u001b[0m\u001b[0;34m)\u001b[0m\u001b[0;34m:\u001b[0m\u001b[0;34m\u001b[0m\u001b[0;34m\u001b[0m\u001b[0m\n\u001b[1;32m     65\u001b[0m     \u001b[0;32mif\u001b[0m \u001b[0;32mnot\u001b[0m \u001b[0mself\u001b[0m\u001b[0;34m.\u001b[0m\u001b[0m_in_multi_worker_mode\u001b[0m\u001b[0;34m(\u001b[0m\u001b[0;34m)\u001b[0m\u001b[0;34m:\u001b[0m  \u001b[0;31m# pylint: disable=protected-access\u001b[0m\u001b[0;34m\u001b[0m\u001b[0;34m\u001b[0m\u001b[0m\n\u001b[0;32m---> 66\u001b[0;31m       \u001b[0;32mreturn\u001b[0m \u001b[0mmethod\u001b[0m\u001b[0;34m(\u001b[0m\u001b[0mself\u001b[0m\u001b[0;34m,\u001b[0m \u001b[0;34m*\u001b[0m\u001b[0margs\u001b[0m\u001b[0;34m,\u001b[0m \u001b[0;34m**\u001b[0m\u001b[0mkwargs\u001b[0m\u001b[0;34m)\u001b[0m\u001b[0;34m\u001b[0m\u001b[0;34m\u001b[0m\u001b[0m\n\u001b[0m\u001b[1;32m     67\u001b[0m \u001b[0;34m\u001b[0m\u001b[0m\n\u001b[1;32m     68\u001b[0m     \u001b[0;31m# Running inside `run_distribute_coordinator` already.\u001b[0m\u001b[0;34m\u001b[0m\u001b[0;34m\u001b[0m\u001b[0;34m\u001b[0m\u001b[0m\n",
            "\u001b[0;32m/usr/local/lib/python3.6/dist-packages/tensorflow/python/keras/engine/training.py\u001b[0m in \u001b[0;36mfit\u001b[0;34m(self, x, y, batch_size, epochs, verbose, callbacks, validation_split, validation_data, shuffle, class_weight, sample_weight, initial_epoch, steps_per_epoch, validation_steps, validation_batch_size, validation_freq, max_queue_size, workers, use_multiprocessing, **kwargs)\u001b[0m\n\u001b[1;32m    849\u001b[0m                 batch_size=batch_size):\n\u001b[1;32m    850\u001b[0m               \u001b[0mcallbacks\u001b[0m\u001b[0;34m.\u001b[0m\u001b[0mon_train_batch_begin\u001b[0m\u001b[0;34m(\u001b[0m\u001b[0mstep\u001b[0m\u001b[0;34m)\u001b[0m\u001b[0;34m\u001b[0m\u001b[0;34m\u001b[0m\u001b[0m\n\u001b[0;32m--> 851\u001b[0;31m               \u001b[0mtmp_logs\u001b[0m \u001b[0;34m=\u001b[0m \u001b[0mtrain_function\u001b[0m\u001b[0;34m(\u001b[0m\u001b[0miterator\u001b[0m\u001b[0;34m)\u001b[0m\u001b[0;34m\u001b[0m\u001b[0;34m\u001b[0m\u001b[0m\n\u001b[0m\u001b[1;32m    852\u001b[0m               \u001b[0;31m# Catch OutOfRangeError for Datasets of unknown size.\u001b[0m\u001b[0;34m\u001b[0m\u001b[0;34m\u001b[0m\u001b[0;34m\u001b[0m\u001b[0m\n\u001b[1;32m    853\u001b[0m               \u001b[0;31m# This blocks until the batch has finished executing.\u001b[0m\u001b[0;34m\u001b[0m\u001b[0;34m\u001b[0m\u001b[0;34m\u001b[0m\u001b[0m\n",
            "\u001b[0;32m/usr/local/lib/python3.6/dist-packages/tensorflow/python/eager/def_function.py\u001b[0m in \u001b[0;36m__call__\u001b[0;34m(self, *args, **kwds)\u001b[0m\n\u001b[1;32m    578\u001b[0m         \u001b[0mxla_context\u001b[0m\u001b[0;34m.\u001b[0m\u001b[0mExit\u001b[0m\u001b[0;34m(\u001b[0m\u001b[0;34m)\u001b[0m\u001b[0;34m\u001b[0m\u001b[0;34m\u001b[0m\u001b[0m\n\u001b[1;32m    579\u001b[0m     \u001b[0;32melse\u001b[0m\u001b[0;34m:\u001b[0m\u001b[0;34m\u001b[0m\u001b[0;34m\u001b[0m\u001b[0m\n\u001b[0;32m--> 580\u001b[0;31m       \u001b[0mresult\u001b[0m \u001b[0;34m=\u001b[0m \u001b[0mself\u001b[0m\u001b[0;34m.\u001b[0m\u001b[0m_call\u001b[0m\u001b[0;34m(\u001b[0m\u001b[0;34m*\u001b[0m\u001b[0margs\u001b[0m\u001b[0;34m,\u001b[0m \u001b[0;34m**\u001b[0m\u001b[0mkwds\u001b[0m\u001b[0;34m)\u001b[0m\u001b[0;34m\u001b[0m\u001b[0;34m\u001b[0m\u001b[0m\n\u001b[0m\u001b[1;32m    581\u001b[0m \u001b[0;34m\u001b[0m\u001b[0m\n\u001b[1;32m    582\u001b[0m     \u001b[0;32mif\u001b[0m \u001b[0mtracing_count\u001b[0m \u001b[0;34m==\u001b[0m \u001b[0mself\u001b[0m\u001b[0;34m.\u001b[0m\u001b[0m_get_tracing_count\u001b[0m\u001b[0;34m(\u001b[0m\u001b[0;34m)\u001b[0m\u001b[0;34m:\u001b[0m\u001b[0;34m\u001b[0m\u001b[0;34m\u001b[0m\u001b[0m\n",
            "\u001b[0;32m/usr/local/lib/python3.6/dist-packages/tensorflow/python/eager/def_function.py\u001b[0m in \u001b[0;36m_call\u001b[0;34m(self, *args, **kwds)\u001b[0m\n\u001b[1;32m    609\u001b[0m       \u001b[0;31m# In this case we have created variables on the first call, so we run the\u001b[0m\u001b[0;34m\u001b[0m\u001b[0;34m\u001b[0m\u001b[0;34m\u001b[0m\u001b[0m\n\u001b[1;32m    610\u001b[0m       \u001b[0;31m# defunned version which is guaranteed to never create variables.\u001b[0m\u001b[0;34m\u001b[0m\u001b[0;34m\u001b[0m\u001b[0;34m\u001b[0m\u001b[0m\n\u001b[0;32m--> 611\u001b[0;31m       \u001b[0;32mreturn\u001b[0m \u001b[0mself\u001b[0m\u001b[0;34m.\u001b[0m\u001b[0m_stateless_fn\u001b[0m\u001b[0;34m(\u001b[0m\u001b[0;34m*\u001b[0m\u001b[0margs\u001b[0m\u001b[0;34m,\u001b[0m \u001b[0;34m**\u001b[0m\u001b[0mkwds\u001b[0m\u001b[0;34m)\u001b[0m  \u001b[0;31m# pylint: disable=not-callable\u001b[0m\u001b[0;34m\u001b[0m\u001b[0;34m\u001b[0m\u001b[0m\n\u001b[0m\u001b[1;32m    612\u001b[0m     \u001b[0;32melif\u001b[0m \u001b[0mself\u001b[0m\u001b[0;34m.\u001b[0m\u001b[0m_stateful_fn\u001b[0m \u001b[0;32mis\u001b[0m \u001b[0;32mnot\u001b[0m \u001b[0;32mNone\u001b[0m\u001b[0;34m:\u001b[0m\u001b[0;34m\u001b[0m\u001b[0;34m\u001b[0m\u001b[0m\n\u001b[1;32m    613\u001b[0m       \u001b[0;31m# Release the lock early so that multiple threads can perform the call\u001b[0m\u001b[0;34m\u001b[0m\u001b[0;34m\u001b[0m\u001b[0;34m\u001b[0m\u001b[0m\n",
            "\u001b[0;32m/usr/local/lib/python3.6/dist-packages/tensorflow/python/eager/function.py\u001b[0m in \u001b[0;36m__call__\u001b[0;34m(self, *args, **kwargs)\u001b[0m\n\u001b[1;32m   2418\u001b[0m     \u001b[0;32mwith\u001b[0m \u001b[0mself\u001b[0m\u001b[0;34m.\u001b[0m\u001b[0m_lock\u001b[0m\u001b[0;34m:\u001b[0m\u001b[0;34m\u001b[0m\u001b[0;34m\u001b[0m\u001b[0m\n\u001b[1;32m   2419\u001b[0m       \u001b[0mgraph_function\u001b[0m\u001b[0;34m,\u001b[0m \u001b[0margs\u001b[0m\u001b[0;34m,\u001b[0m \u001b[0mkwargs\u001b[0m \u001b[0;34m=\u001b[0m \u001b[0mself\u001b[0m\u001b[0;34m.\u001b[0m\u001b[0m_maybe_define_function\u001b[0m\u001b[0;34m(\u001b[0m\u001b[0margs\u001b[0m\u001b[0;34m,\u001b[0m \u001b[0mkwargs\u001b[0m\u001b[0;34m)\u001b[0m\u001b[0;34m\u001b[0m\u001b[0;34m\u001b[0m\u001b[0m\n\u001b[0;32m-> 2420\u001b[0;31m     \u001b[0;32mreturn\u001b[0m \u001b[0mgraph_function\u001b[0m\u001b[0;34m.\u001b[0m\u001b[0m_filtered_call\u001b[0m\u001b[0;34m(\u001b[0m\u001b[0margs\u001b[0m\u001b[0;34m,\u001b[0m \u001b[0mkwargs\u001b[0m\u001b[0;34m)\u001b[0m  \u001b[0;31m# pylint: disable=protected-access\u001b[0m\u001b[0;34m\u001b[0m\u001b[0;34m\u001b[0m\u001b[0m\n\u001b[0m\u001b[1;32m   2421\u001b[0m \u001b[0;34m\u001b[0m\u001b[0m\n\u001b[1;32m   2422\u001b[0m   \u001b[0;34m@\u001b[0m\u001b[0mproperty\u001b[0m\u001b[0;34m\u001b[0m\u001b[0;34m\u001b[0m\u001b[0m\n",
            "\u001b[0;32m/usr/local/lib/python3.6/dist-packages/tensorflow/python/eager/function.py\u001b[0m in \u001b[0;36m_filtered_call\u001b[0;34m(self, args, kwargs)\u001b[0m\n\u001b[1;32m   1663\u001b[0m          if isinstance(t, (ops.Tensor,\n\u001b[1;32m   1664\u001b[0m                            resource_variable_ops.BaseResourceVariable))),\n\u001b[0;32m-> 1665\u001b[0;31m         self.captured_inputs)\n\u001b[0m\u001b[1;32m   1666\u001b[0m \u001b[0;34m\u001b[0m\u001b[0m\n\u001b[1;32m   1667\u001b[0m   \u001b[0;32mdef\u001b[0m \u001b[0m_call_flat\u001b[0m\u001b[0;34m(\u001b[0m\u001b[0mself\u001b[0m\u001b[0;34m,\u001b[0m \u001b[0margs\u001b[0m\u001b[0;34m,\u001b[0m \u001b[0mcaptured_inputs\u001b[0m\u001b[0;34m,\u001b[0m \u001b[0mcancellation_manager\u001b[0m\u001b[0;34m=\u001b[0m\u001b[0;32mNone\u001b[0m\u001b[0;34m)\u001b[0m\u001b[0;34m:\u001b[0m\u001b[0;34m\u001b[0m\u001b[0;34m\u001b[0m\u001b[0m\n",
            "\u001b[0;32m/usr/local/lib/python3.6/dist-packages/tensorflow/python/eager/function.py\u001b[0m in \u001b[0;36m_call_flat\u001b[0;34m(self, args, captured_inputs, cancellation_manager)\u001b[0m\n\u001b[1;32m   1744\u001b[0m       \u001b[0;31m# No tape is watching; skip to running the function.\u001b[0m\u001b[0;34m\u001b[0m\u001b[0;34m\u001b[0m\u001b[0;34m\u001b[0m\u001b[0m\n\u001b[1;32m   1745\u001b[0m       return self._build_call_outputs(self._inference_function.call(\n\u001b[0;32m-> 1746\u001b[0;31m           ctx, args, cancellation_manager=cancellation_manager))\n\u001b[0m\u001b[1;32m   1747\u001b[0m     forward_backward = self._select_forward_and_backward_functions(\n\u001b[1;32m   1748\u001b[0m         \u001b[0margs\u001b[0m\u001b[0;34m,\u001b[0m\u001b[0;34m\u001b[0m\u001b[0;34m\u001b[0m\u001b[0m\n",
            "\u001b[0;32m/usr/local/lib/python3.6/dist-packages/tensorflow/python/eager/function.py\u001b[0m in \u001b[0;36mcall\u001b[0;34m(self, ctx, args, cancellation_manager)\u001b[0m\n\u001b[1;32m    596\u001b[0m               \u001b[0minputs\u001b[0m\u001b[0;34m=\u001b[0m\u001b[0margs\u001b[0m\u001b[0;34m,\u001b[0m\u001b[0;34m\u001b[0m\u001b[0;34m\u001b[0m\u001b[0m\n\u001b[1;32m    597\u001b[0m               \u001b[0mattrs\u001b[0m\u001b[0;34m=\u001b[0m\u001b[0mattrs\u001b[0m\u001b[0;34m,\u001b[0m\u001b[0;34m\u001b[0m\u001b[0;34m\u001b[0m\u001b[0m\n\u001b[0;32m--> 598\u001b[0;31m               ctx=ctx)\n\u001b[0m\u001b[1;32m    599\u001b[0m         \u001b[0;32melse\u001b[0m\u001b[0;34m:\u001b[0m\u001b[0;34m\u001b[0m\u001b[0;34m\u001b[0m\u001b[0m\n\u001b[1;32m    600\u001b[0m           outputs = execute.execute_with_cancellation(\n",
            "\u001b[0;32m/usr/local/lib/python3.6/dist-packages/tensorflow/python/eager/execute.py\u001b[0m in \u001b[0;36mquick_execute\u001b[0;34m(op_name, num_outputs, inputs, attrs, ctx, name)\u001b[0m\n\u001b[1;32m     58\u001b[0m     \u001b[0mctx\u001b[0m\u001b[0;34m.\u001b[0m\u001b[0mensure_initialized\u001b[0m\u001b[0;34m(\u001b[0m\u001b[0;34m)\u001b[0m\u001b[0;34m\u001b[0m\u001b[0;34m\u001b[0m\u001b[0m\n\u001b[1;32m     59\u001b[0m     tensors = pywrap_tfe.TFE_Py_Execute(ctx._handle, device_name, op_name,\n\u001b[0;32m---> 60\u001b[0;31m                                         inputs, attrs, num_outputs)\n\u001b[0m\u001b[1;32m     61\u001b[0m   \u001b[0;32mexcept\u001b[0m \u001b[0mcore\u001b[0m\u001b[0;34m.\u001b[0m\u001b[0m_NotOkStatusException\u001b[0m \u001b[0;32mas\u001b[0m \u001b[0me\u001b[0m\u001b[0;34m:\u001b[0m\u001b[0;34m\u001b[0m\u001b[0;34m\u001b[0m\u001b[0m\n\u001b[1;32m     62\u001b[0m     \u001b[0;32mif\u001b[0m \u001b[0mname\u001b[0m \u001b[0;32mis\u001b[0m \u001b[0;32mnot\u001b[0m \u001b[0;32mNone\u001b[0m\u001b[0;34m:\u001b[0m\u001b[0;34m\u001b[0m\u001b[0;34m\u001b[0m\u001b[0m\n",
            "\u001b[0;31mKeyboardInterrupt\u001b[0m: "
          ]
        }
      ]
    },
    {
      "cell_type": "code",
      "metadata": {
        "id": "gp4EjM1E8hAb",
        "colab_type": "code",
        "outputId": "91c0a21d-40ae-40b9-901a-3513fab7b315",
        "colab": {
          "base_uri": "https://localhost:8080/",
          "height": 51
        }
      },
      "source": [
        "model.evaluate(tX,  tY)"
      ],
      "execution_count": 0,
      "outputs": [
        {
          "output_type": "stream",
          "text": [
            "225/225 [==============================] - 1s 5ms/step - loss: 0.0989 - accuracy: 0.0506\n"
          ],
          "name": "stdout"
        },
        {
          "output_type": "execute_result",
          "data": {
            "text/plain": [
              "[0.09888710826635361, 0.05061349645256996]"
            ]
          },
          "metadata": {
            "tags": []
          },
          "execution_count": 51
        }
      ]
    },
    {
      "cell_type": "markdown",
      "metadata": {
        "id": "OfmYVeQPAFUU",
        "colab_type": "text"
      },
      "source": [
        "**Задание 4.**\n",
        "Поэкспериментируйте с готовыми нейронными сетями (например, AlexNet, VGG16, Inception и т.п.), применив передаточное обучение. Как это повлияло на качество классификатора? Можно ли было обойтись без него?\n",
        "Какой максимальный результат удалось получить на контрольной выборке?\n",
        "\n",
        "При обучении точность была около 4-х процентов, поэтому дообучивать не было смысла, скорее всего это из-за того что ImageNet не содержит фотографий жестов и не обучался изначально на этих данных, поэтому не стоит использовать передаточное обучение на этом наборе данных\n"
      ]
    },
    {
      "cell_type": "code",
      "metadata": {
        "id": "2EBqzi-G8e-c",
        "colab_type": "code",
        "colab": {}
      },
      "source": [
        "from keras.applications import MobileNet\n",
        "from keras.layers import GlobalAveragePooling2D, Dense\n",
        "from keras.models import Model\n",
        "\n",
        "base_model=MobileNet(weights='imagenet',include_top=False) \n",
        "\n",
        "x=base_model.output\n",
        "x=GlobalAveragePooling2D()(x)\n",
        "x=Dense(1024,activation='relu')(x) \n",
        "x=Dense(1024,activation='relu')(x) \n",
        "x=Dense(512,activation='relu')(x)\n",
        "preds=Dense(25,activation='softmax')(x) \n",
        "model=Model(inputs=base_model.input,outputs=preds)"
      ],
      "execution_count": 0,
      "outputs": []
    },
    {
      "cell_type": "code",
      "metadata": {
        "id": "nngddr4a_rSI",
        "colab_type": "code",
        "outputId": "e34aa474-e7b0-4ad7-c7ff-86490b7b8e57",
        "colab": {
          "base_uri": "https://localhost:8080/",
          "height": 34
        }
      },
      "source": [
        "print(len(model.layers))\n",
        "#for layer in model.layers:\n",
        "#    layer.trainable=False\n",
        "\n",
        "# or if we want to set the first 20 layers of the network to be non-trainable\n",
        "for layer in model.layers[:20]:\n",
        "    layer.trainable=False\n",
        "for layer in model.layers[20:]:\n",
        "    layer.trainable=True"
      ],
      "execution_count": 0,
      "outputs": [
        {
          "output_type": "stream",
          "text": [
            "92\n"
          ],
          "name": "stdout"
        }
      ]
    },
    {
      "cell_type": "code",
      "metadata": {
        "id": "2nlPhMPE_sre",
        "colab_type": "code",
        "outputId": "e7e0627f-3704-4ac3-aee5-1829b6749cdf",
        "colab": {
          "base_uri": "https://localhost:8080/",
          "height": 34
        }
      },
      "source": [
        "import numpy as np\n",
        "def transform(dataset):\n",
        "  newDataset = list()\n",
        "  for x in dataset:\n",
        "    x = np.repeat(x, 3, 2)\n",
        "    newDataset.append(x)\n",
        "  return np.array(newDataset)\n",
        "\n",
        "newTrainX = transform(x_train)\n",
        "newValX = transform(x_val)\n",
        "\n",
        "print(newTrainX.shape, newValX.shape)"
      ],
      "execution_count": 0,
      "outputs": [
        {
          "output_type": "stream",
          "text": [
            "(20591, 28, 28, 3) (6864, 28, 28, 3)\n"
          ],
          "name": "stdout"
        }
      ]
    },
    {
      "cell_type": "code",
      "metadata": {
        "id": "okxeT6ikASz9",
        "colab_type": "code",
        "outputId": "e9dc96a9-57cb-4f35-8476-b8a72c6bdea7",
        "colab": {
          "base_uri": "https://localhost:8080/",
          "height": 581
        }
      },
      "source": [
        "model.compile(optimizer='adam', loss='sparse_categorical_crossentropy', metrics=['accuracy'])\n",
        "\n",
        "model.fit(newTrainX, y_train, validation_data=(newValX, y_val), epochs=15)"
      ],
      "execution_count": 0,
      "outputs": [
        {
          "output_type": "stream",
          "text": [
            "Train on 20591 samples, validate on 6864 samples\n",
            "Epoch 1/15\n",
            "20591/20591 [==============================] - 37s 2ms/step - loss: 3.2080 - accuracy: 0.0454 - val_loss: 3.1988 - val_accuracy: 0.0457\n",
            "Epoch 2/15\n",
            "20591/20591 [==============================] - 32s 2ms/step - loss: 3.1947 - accuracy: 0.0476 - val_loss: 3.1898 - val_accuracy: 0.0457\n",
            "Epoch 3/15\n",
            "20591/20591 [==============================] - 32s 2ms/step - loss: 3.1882 - accuracy: 0.0476 - val_loss: 3.1848 - val_accuracy: 0.0457\n",
            "Epoch 4/15\n",
            "20591/20591 [==============================] - 32s 2ms/step - loss: 3.1845 - accuracy: 0.0476 - val_loss: 3.1819 - val_accuracy: 0.0457\n",
            "Epoch 5/15\n",
            "20591/20591 [==============================] - 32s 2ms/step - loss: 3.1821 - accuracy: 0.0476 - val_loss: 3.1800 - val_accuracy: 0.0457\n",
            "Epoch 6/15\n",
            "20591/20591 [==============================] - 32s 2ms/step - loss: 3.1805 - accuracy: 0.0476 - val_loss: 3.1786 - val_accuracy: 0.0457\n",
            "Epoch 7/15\n",
            "20591/20591 [==============================] - 32s 2ms/step - loss: 3.1794 - accuracy: 0.0476 - val_loss: 3.1777 - val_accuracy: 0.0457\n",
            "Epoch 8/15\n",
            "20591/20591 [==============================] - 32s 2ms/step - loss: 3.1786 - accuracy: 0.0476 - val_loss: 3.1770 - val_accuracy: 0.0457\n",
            "Epoch 9/15\n",
            "20591/20591 [==============================] - 32s 2ms/step - loss: 3.1780 - accuracy: 0.0476 - val_loss: 3.1765 - val_accuracy: 0.0457\n",
            "Epoch 10/15\n",
            "20591/20591 [==============================] - 32s 2ms/step - loss: 3.1776 - accuracy: 0.0476 - val_loss: 3.1761 - val_accuracy: 0.0457\n",
            "Epoch 11/15\n",
            "20591/20591 [==============================] - 32s 2ms/step - loss: 3.1772 - accuracy: 0.0476 - val_loss: 3.1759 - val_accuracy: 0.0457\n",
            "Epoch 12/15\n",
            "20591/20591 [==============================] - 32s 2ms/step - loss: 3.1770 - accuracy: 0.0476 - val_loss: 3.1756 - val_accuracy: 0.0457\n",
            "Epoch 13/15\n",
            "20591/20591 [==============================] - 32s 2ms/step - loss: 3.1768 - accuracy: 0.0476 - val_loss: 3.1754 - val_accuracy: 0.0457\n",
            "Epoch 14/15\n",
            "20591/20591 [==============================] - 32s 2ms/step - loss: 3.1766 - accuracy: 0.0476 - val_loss: 3.1753 - val_accuracy: 0.0457\n",
            "Epoch 15/15\n",
            "20591/20591 [==============================] - 32s 2ms/step - loss: 3.1765 - accuracy: 0.0476 - val_loss: 3.1752 - val_accuracy: 0.0457\n"
          ],
          "name": "stdout"
        },
        {
          "output_type": "execute_result",
          "data": {
            "text/plain": [
              "<keras.callbacks.callbacks.History at 0x7fb19ec2a978>"
            ]
          },
          "metadata": {
            "tags": []
          },
          "execution_count": 80
        }
      ]
    }
  ]
}