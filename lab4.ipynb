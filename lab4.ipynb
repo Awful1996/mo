{
  "nbformat": 4,
  "nbformat_minor": 0,
  "metadata": {
    "colab": {
      "name": "lab4.ipynb",
      "provenance": [],
      "machine_shape": "hm"
    },
    "kernelspec": {
      "name": "python3",
      "display_name": "Python 3"
    },
    "accelerator": "GPU"
  },
  "cells": [
    {
      "cell_type": "markdown",
      "metadata": {
        "id": "dDcNOFdF2kyO",
        "colab_type": "text"
      },
      "source": [
        "**Лабораторная работа №4. Реализация приложения по распознаванию номеров домов.**\n",
        "\n",
        "\n",
        "1.   Реализуйте глубокую нейронную сеть (полносвязную или сверточную) и обучите ее на синтетических данных (например, наборы MNIST (http://yann.lecun.com/exdb/mnist/) или notMNIST).\n",
        "2.   После уточнения модели на синтетических данных попробуйте обучить ее на реальных данных (набор Google Street View). Что изменилось в модели?\n",
        "\n"
      ]
    },
    {
      "cell_type": "code",
      "metadata": {
        "id": "Ck7DMrBm0WIP",
        "colab_type": "code",
        "outputId": "63bbfba9-63b0-4665-9ce9-09ae6da6a018",
        "colab": {
          "base_uri": "https://localhost:8080/",
          "height": 190
        }
      },
      "source": [
        "import os\n",
        "try:\n",
        "  import wget\n",
        "except:\n",
        "  !pip install wget\n",
        "  import wget\n",
        "import tarfile\n",
        "\n",
        "\n",
        "out_dir = 'data/svhn'\n",
        "\n",
        "train_32_32 = ('http://ufldl.stanford.edu/housenumbers/train_32x32.mat', 'train_32x32.mat')\n",
        "test_32_32 = ('http://ufldl.stanford.edu/housenumbers/test_32x32.mat', 'test_32x32.mat')\n",
        "extra_32_32 = ('http://ufldl.stanford.edu/housenumbers/extra_32x32.mat', 'extra_32x32.mat')\n",
        "\n",
        "train_large = ('http://ufldl.stanford.edu/housenumbers/train.tar.gz', 'train.tar.gz')\n",
        "test_large = ('http://ufldl.stanford.edu/housenumbers/test.tar.gz', 'test.tar.gz')\n",
        "extra_large = ('http://ufldl.stanford.edu/housenumbers/extra.tar.gz', 'extra.tar.gz')"
      ],
      "execution_count": 0,
      "outputs": [
        {
          "output_type": "stream",
          "text": [
            "Collecting wget\n",
            "  Downloading https://files.pythonhosted.org/packages/47/6a/62e288da7bcda82b935ff0c6cfe542970f04e29c756b0e147251b2fb251f/wget-3.2.zip\n",
            "Building wheels for collected packages: wget\n",
            "  Building wheel for wget (setup.py) ... \u001b[?25l\u001b[?25hdone\n",
            "  Created wheel for wget: filename=wget-3.2-cp36-none-any.whl size=9682 sha256=2d2a25fd20a30431f1d63c65d682e8b46e4bb6fa885f1cb91131e97f47e0b8c9\n",
            "  Stored in directory: /root/.cache/pip/wheels/40/15/30/7d8f7cea2902b4db79e3fea550d7d7b85ecb27ef992b618f3f\n",
            "Successfully built wget\n",
            "Installing collected packages: wget\n",
            "Successfully installed wget-3.2\n"
          ],
          "name": "stdout"
        }
      ]
    },
    {
      "cell_type": "code",
      "metadata": {
        "id": "ATuT7NPe1Cil",
        "colab_type": "code",
        "outputId": "d164cec2-0b60-49bc-c2e9-25bd36766eec",
        "colab": {
          "base_uri": "https://localhost:8080/",
          "height": 221
        }
      },
      "source": [
        "def download_data(url, filename, out_dir=out_dir):\n",
        "    filename = os.path.join(out_dir, filename)\n",
        "\n",
        "    if not os.path.exists(out_dir):\n",
        "        os.makedirs(out_dir)\n",
        "\n",
        "    if not os.path.exists(filename):\n",
        "        print(f\"Downloading {filename}.\")\n",
        "        wget.download(url, filename)\n",
        "        print()\n",
        "    else:\n",
        "        print(f\"Skipping {filename} download (already exists)\")\n",
        "\n",
        "\n",
        "def extract_data(filename, out_dir=out_dir):\n",
        "    filename = os.path.join(out_dir, filename)\n",
        "\n",
        "    print(f\"Extracting {filename}\")\n",
        "    with tarfile.open(filename) as tar:\n",
        "        tar.extractall(out_dir)\n",
        "\n",
        "download_data(*train_32_32)\n",
        "download_data(*test_32_32)\n",
        "download_data(*extra_32_32)\n",
        "\n",
        "download_data(*train_large)\n",
        "download_data(*test_large)\n",
        "# download_data(*extra_large)\n",
        "\n",
        "extract_data(train_large[1])\n",
        "extract_data(test_large[1])\n",
        "# extract_data(extra_large[1])\n"
      ],
      "execution_count": 0,
      "outputs": [
        {
          "output_type": "stream",
          "text": [
            "Downloading data/svhn/train_32x32.mat.\n",
            "\n",
            "Downloading data/svhn/test_32x32.mat.\n",
            "\n",
            "Downloading data/svhn/extra_32x32.mat.\n",
            "\n",
            "Downloading data/svhn/train.tar.gz.\n",
            "\n",
            "Downloading data/svhn/test.tar.gz.\n",
            "\n",
            "Extracting data/svhn/train.tar.gz\n",
            "Extracting data/svhn/test.tar.gz\n"
          ],
          "name": "stdout"
        }
      ]
    },
    {
      "cell_type": "code",
      "metadata": {
        "id": "7FMwSc2w3z4S",
        "colab_type": "code",
        "outputId": "226e1a16-4588-42e1-cbac-efa2eedbaeec",
        "colab": {
          "base_uri": "https://localhost:8080/",
          "height": 122
        }
      },
      "source": [
        "from tensorflow import keras\n",
        "import numpy as np\n",
        "from PIL import Image\n",
        "from pathlib import Path\n",
        "from scipy import io\n",
        "\n",
        "def to_one_hot(a, n):\n",
        "    result = np.zeros(shape=(a.shape[0], n))\n",
        "    result[np.arange(len(a)), a] = 1\n",
        "    return result\n",
        "\n",
        "def load_mnist():\n",
        "    (x_train, y_train), (x_test, y_test) = keras.datasets.mnist.load_data()\n",
        "\n",
        "    def to_x(a):\n",
        "        x = np.array([np.array(Image.fromarray(i).resize((32, 32))) for i in a])\n",
        "        return x.reshape(x.shape + (1,))\n",
        "\n",
        "    def to_y(a):\n",
        "        return to_one_hot(a, 10)\n",
        "\n",
        "    x_train, y_train = to_x(x_train), to_y(y_train)\n",
        "    x_test, y_test = to_x(x_test), to_y(y_test)\n",
        "    print('Loaded and processed mnist dataset')\n",
        "    return x_train, y_train, x_test, y_test\n",
        "\n",
        "def load_single_digit_data(dir='data/svhn', extra=False, greyscale=True):\n",
        "\n",
        "    def to_x(a):\n",
        "        a = np.array([a[:,:,:,i] for i in range(a.shape[3])])\n",
        "        if greyscale:\n",
        "            return np.mean(a, axis=-1, keepdims=True).astype(np.uint8)\n",
        "        return a\n",
        "\n",
        "    def to_y(a):\n",
        "        y = np.copy(a)\n",
        "        y = y.reshape(y.shape[0])\n",
        "        y[y == 10] = 0\n",
        "        return to_one_hot(y, 10)\n",
        "\n",
        "    def load_file(file):\n",
        "        cache_file = Path(dir) / f\"{file}.cache.npz\"\n",
        "        if cache_file.exists():\n",
        "            f = np.load(cache_file)\n",
        "            print(f'Loaded cached arrays for {file}')\n",
        "            return [v for k, v in f.items()]\n",
        "\n",
        "        f = io.loadmat(Path(dir) / file)\n",
        "        x, y = to_x(f['X']), to_y(f['y'])\n",
        "        np.savez(Path(dir) / f\"{file}.cache.npz\", x, y)\n",
        "        print(f'Loaded and processed {file}')\n",
        "        return x, y\n",
        "    x_train, y_train = load_file('train_32x32.mat')\n",
        "    x_test, y_test = load_file('test_32x32.mat')\n",
        "\n",
        "    x_extra, y_extra = None, None\n",
        "    if extra:\n",
        "        x_extra, y_extra = load_file('extra_32x32.mat')\n",
        "\n",
        "    return (\n",
        "        x_train, y_train,\n",
        "        x_test, y_test,\n",
        "        x_extra, y_extra\n",
        "    )\n",
        "\n",
        "x_train, y_train, x_test1, y_test1 = load_mnist()\n",
        "_, _, x_test, y_test, _, _ = load_single_digit_data(extra=False)"
      ],
      "execution_count": 0,
      "outputs": [
        {
          "output_type": "stream",
          "text": [
            "Downloading data from https://storage.googleapis.com/tensorflow/tf-keras-datasets/mnist.npz\n",
            "11493376/11490434 [==============================] - 0s 0us/step\n",
            "Loaded and processed mnist dataset\n",
            "Loaded and processed train_32x32.mat\n",
            "Loaded and processed test_32x32.mat\n"
          ],
          "name": "stdout"
        }
      ]
    },
    {
      "cell_type": "markdown",
      "metadata": {
        "id": "PETsNJjN26h9",
        "colab_type": "text"
      },
      "source": [
        "**Задание 1.**\n",
        "Реализуйте глубокую нейронную сеть (полносвязную или сверточную) и обучите ее на синтетических данных (например, наборы MNIST (http://yann.lecun.com/exdb/mnist/) или notMNIST).\n",
        "\n",
        "Была реализована сверточная сеть и обучена сначала на mnist наборах данных, потом дообучена на на реальных данных.\n"
      ]
    },
    {
      "cell_type": "code",
      "metadata": {
        "id": "xGV_Zt0Z42xE",
        "colab_type": "code",
        "outputId": "31e0d47a-1431-4960-81bc-037e616506f8",
        "colab": {
          "base_uri": "https://localhost:8080/",
          "height": 527
        }
      },
      "source": [
        "model = keras.Sequential([\n",
        "            keras.layers.Conv2D(16, 5, activation='relu', input_shape=x_train.shape[1:], padding='same'),\n",
        "            keras.layers.MaxPool2D(pool_size=(2, 2), padding = 'same'),\n",
        "            keras.layers.Conv2D(32, 5, activation='relu', padding='same'),\n",
        "            keras.layers.MaxPool2D(pool_size=(2, 2), padding='same'),\n",
        "            keras.layers.Conv2D(64, 5, activation='relu', padding='same'),\n",
        "            keras.layers.MaxPool2D(pool_size=(2, 2), padding='same'),\n",
        "            keras.layers.Flatten(),\n",
        "            keras.layers.Dropout(rate=0.1),\n",
        "            keras.layers.Dense(100, activation='relu'),\n",
        "            keras.layers.Dropout(rate=0.1),\n",
        "            keras.layers.Dense(y_train.shape[1], activation='softmax')\n",
        "        ])\n",
        "\n",
        "model.compile(\n",
        "            optimizer=keras.optimizers.Adam(0.001),\n",
        "            loss='categorical_crossentropy',\n",
        "            metrics=['categorical_accuracy']\n",
        "        )\n",
        "model.summary()"
      ],
      "execution_count": 0,
      "outputs": [
        {
          "output_type": "stream",
          "text": [
            "Model: \"sequential\"\n",
            "_________________________________________________________________\n",
            "Layer (type)                 Output Shape              Param #   \n",
            "=================================================================\n",
            "conv2d (Conv2D)              (None, 32, 32, 16)        416       \n",
            "_________________________________________________________________\n",
            "max_pooling2d (MaxPooling2D) (None, 16, 16, 16)        0         \n",
            "_________________________________________________________________\n",
            "conv2d_1 (Conv2D)            (None, 16, 16, 32)        12832     \n",
            "_________________________________________________________________\n",
            "max_pooling2d_1 (MaxPooling2 (None, 8, 8, 32)          0         \n",
            "_________________________________________________________________\n",
            "conv2d_2 (Conv2D)            (None, 8, 8, 64)          51264     \n",
            "_________________________________________________________________\n",
            "max_pooling2d_2 (MaxPooling2 (None, 4, 4, 64)          0         \n",
            "_________________________________________________________________\n",
            "flatten (Flatten)            (None, 1024)              0         \n",
            "_________________________________________________________________\n",
            "dropout (Dropout)            (None, 1024)              0         \n",
            "_________________________________________________________________\n",
            "dense (Dense)                (None, 100)               102500    \n",
            "_________________________________________________________________\n",
            "dropout_1 (Dropout)          (None, 100)               0         \n",
            "_________________________________________________________________\n",
            "dense_1 (Dense)              (None, 10)                1010      \n",
            "=================================================================\n",
            "Total params: 168,022\n",
            "Trainable params: 168,022\n",
            "Non-trainable params: 0\n",
            "_________________________________________________________________\n"
          ],
          "name": "stdout"
        }
      ]
    },
    {
      "cell_type": "code",
      "metadata": {
        "id": "RbT3uIqx5PnZ",
        "colab_type": "code",
        "outputId": "79983cb1-5035-4ddb-a08b-ca0bf4dd81ff",
        "colab": {
          "base_uri": "https://localhost:8080/",
          "height": 700
        }
      },
      "source": [
        "from sklearn.model_selection import train_test_split\n",
        "x_train, x_val, y_train, y_val = \\\n",
        "        train_test_split(x_train, y_train, test_size=0.1)\n",
        "\n",
        "model.fit(\n",
        "                x_train,\n",
        "                y_train,\n",
        "                epochs=100,\n",
        "                verbose=2,\n",
        "                batch_size=100,\n",
        "                validation_data=(x_val, y_val),\n",
        "                callbacks=[\n",
        "                    keras.callbacks.EarlyStopping(\n",
        "                        patience=10,\n",
        "                        restore_best_weights=True\n",
        "                    )\n",
        "                ]\n",
        "            )"
      ],
      "execution_count": 0,
      "outputs": [
        {
          "output_type": "stream",
          "text": [
            "Epoch 1/100\n",
            "540/540 - 2s - loss: 0.4744 - categorical_accuracy: 0.9110 - val_loss: 0.0631 - val_categorical_accuracy: 0.9807\n",
            "Epoch 2/100\n",
            "540/540 - 2s - loss: 0.0706 - categorical_accuracy: 0.9782 - val_loss: 0.0544 - val_categorical_accuracy: 0.9837\n",
            "Epoch 3/100\n",
            "540/540 - 2s - loss: 0.0493 - categorical_accuracy: 0.9850 - val_loss: 0.0488 - val_categorical_accuracy: 0.9848\n",
            "Epoch 4/100\n",
            "540/540 - 2s - loss: 0.0417 - categorical_accuracy: 0.9874 - val_loss: 0.0405 - val_categorical_accuracy: 0.9875\n",
            "Epoch 5/100\n",
            "540/540 - 2s - loss: 0.0394 - categorical_accuracy: 0.9880 - val_loss: 0.0407 - val_categorical_accuracy: 0.9867\n",
            "Epoch 6/100\n",
            "540/540 - 2s - loss: 0.0336 - categorical_accuracy: 0.9896 - val_loss: 0.0385 - val_categorical_accuracy: 0.9887\n",
            "Epoch 7/100\n",
            "540/540 - 2s - loss: 0.0347 - categorical_accuracy: 0.9892 - val_loss: 0.0361 - val_categorical_accuracy: 0.9905\n",
            "Epoch 8/100\n",
            "540/540 - 2s - loss: 0.0272 - categorical_accuracy: 0.9912 - val_loss: 0.0408 - val_categorical_accuracy: 0.9877\n",
            "Epoch 9/100\n",
            "540/540 - 2s - loss: 0.0278 - categorical_accuracy: 0.9909 - val_loss: 0.0285 - val_categorical_accuracy: 0.9918\n",
            "Epoch 10/100\n",
            "540/540 - 2s - loss: 0.0278 - categorical_accuracy: 0.9914 - val_loss: 0.0331 - val_categorical_accuracy: 0.9898\n",
            "Epoch 11/100\n",
            "540/540 - 2s - loss: 0.0240 - categorical_accuracy: 0.9928 - val_loss: 0.0446 - val_categorical_accuracy: 0.9887\n",
            "Epoch 12/100\n",
            "540/540 - 2s - loss: 0.0264 - categorical_accuracy: 0.9918 - val_loss: 0.0504 - val_categorical_accuracy: 0.9887\n",
            "Epoch 13/100\n",
            "540/540 - 2s - loss: 0.0247 - categorical_accuracy: 0.9929 - val_loss: 0.0498 - val_categorical_accuracy: 0.9858\n",
            "Epoch 14/100\n",
            "540/540 - 2s - loss: 0.0228 - categorical_accuracy: 0.9929 - val_loss: 0.0290 - val_categorical_accuracy: 0.9917\n",
            "Epoch 15/100\n",
            "540/540 - 2s - loss: 0.0248 - categorical_accuracy: 0.9925 - val_loss: 0.0397 - val_categorical_accuracy: 0.9912\n",
            "Epoch 16/100\n",
            "540/540 - 2s - loss: 0.0188 - categorical_accuracy: 0.9939 - val_loss: 0.0422 - val_categorical_accuracy: 0.9910\n",
            "Epoch 17/100\n",
            "540/540 - 2s - loss: 0.0218 - categorical_accuracy: 0.9934 - val_loss: 0.0443 - val_categorical_accuracy: 0.9905\n",
            "Epoch 18/100\n",
            "540/540 - 2s - loss: 0.0195 - categorical_accuracy: 0.9942 - val_loss: 0.0488 - val_categorical_accuracy: 0.9880\n",
            "Epoch 19/100\n",
            "540/540 - 2s - loss: 0.0179 - categorical_accuracy: 0.9949 - val_loss: 0.0439 - val_categorical_accuracy: 0.9897\n"
          ],
          "name": "stdout"
        },
        {
          "output_type": "execute_result",
          "data": {
            "text/plain": [
              "<tensorflow.python.keras.callbacks.History at 0x7f0e1f7c1748>"
            ]
          },
          "metadata": {
            "tags": []
          },
          "execution_count": 5
        }
      ]
    },
    {
      "cell_type": "code",
      "metadata": {
        "id": "AeId7y3M-Z8J",
        "colab_type": "code",
        "outputId": "a318ccd6-7a96-4270-8763-a32d36eae9ff",
        "colab": {
          "base_uri": "https://localhost:8080/",
          "height": 71
        }
      },
      "source": [
        "_, acc = model.evaluate(x_test, y_test)\n",
        "print(f'Accuracy = {acc:.5f}')"
      ],
      "execution_count": 0,
      "outputs": [
        {
          "output_type": "stream",
          "text": [
            "814/814 [==============================] - 2s 2ms/step - loss: 2.2326 - categorical_accuracy: 0.2302\n",
            "Accuracy = 0.23022\n"
          ],
          "name": "stdout"
        }
      ]
    },
    {
      "cell_type": "code",
      "metadata": {
        "id": "RhYlAmXj-pks",
        "colab_type": "code",
        "outputId": "bdc162e5-3bf7-41e3-9fe1-6071d7a787a6",
        "colab": {
          "base_uri": "https://localhost:8080/",
          "height": 71
        }
      },
      "source": [
        "_, acc = model.evaluate(x_test1, y_test1)\n",
        "print(f'Accuracy = {acc:.5f}')"
      ],
      "execution_count": 0,
      "outputs": [
        {
          "output_type": "stream",
          "text": [
            "313/313 [==============================] - 1s 2ms/step - loss: 0.0367 - categorical_accuracy: 0.9903\n",
            "Accuracy = 0.99030\n"
          ],
          "name": "stdout"
        }
      ]
    },
    {
      "cell_type": "code",
      "metadata": {
        "id": "DTxthzswDXQs",
        "colab_type": "code",
        "colab": {}
      },
      "source": [
        "model.save_weights('models/svhn_mnist_conv_net_svhn/model')"
      ],
      "execution_count": 0,
      "outputs": []
    },
    {
      "cell_type": "code",
      "metadata": {
        "id": "a21sRQzcD0O5",
        "colab_type": "code",
        "outputId": "c5359234-8a58-4cb7-9998-09d641c42f20",
        "colab": {
          "base_uri": "https://localhost:8080/",
          "height": 34
        }
      },
      "source": [
        "!ls models/svhn_mnist_conv_net_svhn"
      ],
      "execution_count": 0,
      "outputs": [
        {
          "output_type": "stream",
          "text": [
            "checkpoint  model.data-00000-of-00002  model.data-00001-of-00002  model.index\n"
          ],
          "name": "stdout"
        }
      ]
    },
    {
      "cell_type": "code",
      "metadata": {
        "id": "T3xvNofdEE9Y",
        "colab_type": "code",
        "outputId": "78512caf-c439-4fcb-b461-83bb8d00cbe7",
        "colab": {
          "base_uri": "https://localhost:8080/",
          "height": 700
        }
      },
      "source": [
        "x_train, y_train, x_test, y_test, _, _ = load_single_digit_data(extra=False)\n",
        "model.fit(\n",
        "                x_train,\n",
        "                y_train,\n",
        "                epochs=100,\n",
        "                verbose=2,\n",
        "                batch_size=100,\n",
        "                validation_split=0.1,\n",
        "                callbacks=[\n",
        "                    keras.callbacks.EarlyStopping(\n",
        "                        patience=10,\n",
        "                        restore_best_weights=True\n",
        "                    )\n",
        "                ]\n",
        "            )"
      ],
      "execution_count": 0,
      "outputs": [
        {
          "output_type": "stream",
          "text": [
            "Loaded cached arrays for train_32x32.mat\n",
            "Loaded cached arrays for test_32x32.mat\n",
            "Epoch 1/100\n",
            "660/660 - 3s - loss: 0.8423 - categorical_accuracy: 0.7376 - val_loss: 0.5252 - val_categorical_accuracy: 0.8363\n",
            "Epoch 2/100\n",
            "660/660 - 3s - loss: 0.5199 - categorical_accuracy: 0.8428 - val_loss: 0.4507 - val_categorical_accuracy: 0.8630\n",
            "Epoch 3/100\n",
            "660/660 - 3s - loss: 0.4375 - categorical_accuracy: 0.8681 - val_loss: 0.4370 - val_categorical_accuracy: 0.8709\n",
            "Epoch 4/100\n",
            "660/660 - 3s - loss: 0.3871 - categorical_accuracy: 0.8820 - val_loss: 0.4078 - val_categorical_accuracy: 0.8754\n",
            "Epoch 5/100\n",
            "660/660 - 3s - loss: 0.3574 - categorical_accuracy: 0.8906 - val_loss: 0.4060 - val_categorical_accuracy: 0.8827\n",
            "Epoch 6/100\n",
            "660/660 - 3s - loss: 0.3337 - categorical_accuracy: 0.8966 - val_loss: 0.3934 - val_categorical_accuracy: 0.8886\n",
            "Epoch 7/100\n",
            "660/660 - 3s - loss: 0.3090 - categorical_accuracy: 0.9050 - val_loss: 0.3850 - val_categorical_accuracy: 0.8909\n",
            "Epoch 8/100\n",
            "660/660 - 3s - loss: 0.2935 - categorical_accuracy: 0.9093 - val_loss: 0.3699 - val_categorical_accuracy: 0.8950\n",
            "Epoch 9/100\n",
            "660/660 - 3s - loss: 0.2702 - categorical_accuracy: 0.9156 - val_loss: 0.3987 - val_categorical_accuracy: 0.8860\n",
            "Epoch 10/100\n",
            "660/660 - 3s - loss: 0.2614 - categorical_accuracy: 0.9185 - val_loss: 0.4142 - val_categorical_accuracy: 0.8840\n",
            "Epoch 11/100\n",
            "660/660 - 3s - loss: 0.2480 - categorical_accuracy: 0.9204 - val_loss: 0.3982 - val_categorical_accuracy: 0.8931\n",
            "Epoch 12/100\n",
            "660/660 - 3s - loss: 0.2377 - categorical_accuracy: 0.9246 - val_loss: 0.4121 - val_categorical_accuracy: 0.8893\n",
            "Epoch 13/100\n",
            "660/660 - 3s - loss: 0.2263 - categorical_accuracy: 0.9285 - val_loss: 0.4151 - val_categorical_accuracy: 0.8923\n",
            "Epoch 14/100\n",
            "660/660 - 3s - loss: 0.2199 - categorical_accuracy: 0.9293 - val_loss: 0.4328 - val_categorical_accuracy: 0.8924\n",
            "Epoch 15/100\n",
            "660/660 - 3s - loss: 0.2093 - categorical_accuracy: 0.9324 - val_loss: 0.4270 - val_categorical_accuracy: 0.8957\n",
            "Epoch 16/100\n",
            "660/660 - 3s - loss: 0.2029 - categorical_accuracy: 0.9352 - val_loss: 0.4190 - val_categorical_accuracy: 0.8894\n",
            "Epoch 17/100\n",
            "660/660 - 3s - loss: 0.1972 - categorical_accuracy: 0.9358 - val_loss: 0.4606 - val_categorical_accuracy: 0.8908\n",
            "Epoch 18/100\n",
            "660/660 - 3s - loss: 0.1919 - categorical_accuracy: 0.9376 - val_loss: 0.4521 - val_categorical_accuracy: 0.8965\n"
          ],
          "name": "stdout"
        },
        {
          "output_type": "execute_result",
          "data": {
            "text/plain": [
              "<tensorflow.python.keras.callbacks.History at 0x7f0e1c4bd4a8>"
            ]
          },
          "metadata": {
            "tags": []
          },
          "execution_count": 10
        }
      ]
    },
    {
      "cell_type": "code",
      "metadata": {
        "id": "Lqt1OtheFWq4",
        "colab_type": "code",
        "outputId": "69c7bea9-393f-4bad-a8ec-a3c706fe5ffd",
        "colab": {
          "base_uri": "https://localhost:8080/",
          "height": 105
        }
      },
      "source": [
        "_, acc = model.evaluate(x_test1, y_test1)\n",
        "print(f'Accuracy = {acc:.5f}')\n",
        "_, acc = model.evaluate(x_test, y_test)\n",
        "print(f'Accuracy = {acc:.5f}')"
      ],
      "execution_count": 0,
      "outputs": [
        {
          "output_type": "stream",
          "text": [
            "313/313 [==============================] - 1s 2ms/step - loss: 2.2770 - categorical_accuracy: 0.6756\n",
            "Accuracy = 0.67560\n",
            "814/814 [==============================] - 2s 2ms/step - loss: 0.4020 - categorical_accuracy: 0.8930\n",
            "Accuracy = 0.89302\n"
          ],
          "name": "stdout"
        }
      ]
    },
    {
      "cell_type": "code",
      "metadata": {
        "id": "cIfMKj3hF7Sx",
        "colab_type": "code",
        "outputId": "e9024f7b-d022-4659-dc0e-644da19be93f",
        "colab": {
          "base_uri": "https://localhost:8080/",
          "height": 853
        }
      },
      "source": [
        "_, _, x_test, y_test, x_extra, y_extra = load_single_digit_data(extra=True)\n",
        "model.fit(\n",
        "                x_extra,\n",
        "                y_extra,\n",
        "                epochs=100,\n",
        "                verbose=2,\n",
        "                batch_size=100,\n",
        "                validation_split=0.1,\n",
        "                callbacks=[\n",
        "                    keras.callbacks.EarlyStopping(\n",
        "                        patience=10,\n",
        "                        restore_best_weights=True\n",
        "                    )\n",
        "                ]\n",
        "            )"
      ],
      "execution_count": 0,
      "outputs": [
        {
          "output_type": "stream",
          "text": [
            "Loaded cached arrays for train_32x32.mat\n",
            "Loaded cached arrays for test_32x32.mat\n",
            "Loaded and processed extra_32x32.mat\n",
            "Epoch 1/100\n",
            "4781/4781 - 19s - loss: 0.2035 - categorical_accuracy: 0.9426 - val_loss: 0.1371 - val_categorical_accuracy: 0.9618\n",
            "Epoch 2/100\n",
            "4781/4781 - 19s - loss: 0.1615 - categorical_accuracy: 0.9548 - val_loss: 0.1374 - val_categorical_accuracy: 0.9613\n",
            "Epoch 3/100\n",
            "4781/4781 - 19s - loss: 0.1482 - categorical_accuracy: 0.9585 - val_loss: 0.1188 - val_categorical_accuracy: 0.9667\n",
            "Epoch 4/100\n",
            "4781/4781 - 19s - loss: 0.1388 - categorical_accuracy: 0.9614 - val_loss: 0.1211 - val_categorical_accuracy: 0.9669\n",
            "Epoch 5/100\n",
            "4781/4781 - 19s - loss: 0.1349 - categorical_accuracy: 0.9624 - val_loss: 0.1153 - val_categorical_accuracy: 0.9681\n",
            "Epoch 6/100\n",
            "4781/4781 - 19s - loss: 0.1287 - categorical_accuracy: 0.9643 - val_loss: 0.1143 - val_categorical_accuracy: 0.9690\n",
            "Epoch 7/100\n",
            "4781/4781 - 18s - loss: 0.1247 - categorical_accuracy: 0.9653 - val_loss: 0.1106 - val_categorical_accuracy: 0.9699\n",
            "Epoch 8/100\n",
            "4781/4781 - 19s - loss: 0.1225 - categorical_accuracy: 0.9659 - val_loss: 0.1194 - val_categorical_accuracy: 0.9690\n",
            "Epoch 9/100\n",
            "4781/4781 - 19s - loss: 0.1196 - categorical_accuracy: 0.9665 - val_loss: 0.1194 - val_categorical_accuracy: 0.9669\n",
            "Epoch 10/100\n",
            "4781/4781 - 19s - loss: 0.1187 - categorical_accuracy: 0.9670 - val_loss: 0.1091 - val_categorical_accuracy: 0.9715\n",
            "Epoch 11/100\n",
            "4781/4781 - 19s - loss: 0.1166 - categorical_accuracy: 0.9676 - val_loss: 0.1161 - val_categorical_accuracy: 0.9694\n",
            "Epoch 12/100\n",
            "4781/4781 - 19s - loss: 0.1137 - categorical_accuracy: 0.9686 - val_loss: 0.1087 - val_categorical_accuracy: 0.9713\n",
            "Epoch 13/100\n",
            "4781/4781 - 19s - loss: 0.1132 - categorical_accuracy: 0.9684 - val_loss: 0.1206 - val_categorical_accuracy: 0.9680\n",
            "Epoch 14/100\n",
            "4781/4781 - 19s - loss: 0.1129 - categorical_accuracy: 0.9684 - val_loss: 0.1103 - val_categorical_accuracy: 0.9711\n",
            "Epoch 15/100\n",
            "4781/4781 - 19s - loss: 0.1105 - categorical_accuracy: 0.9695 - val_loss: 0.1217 - val_categorical_accuracy: 0.9710\n",
            "Epoch 16/100\n",
            "4781/4781 - 19s - loss: 0.1117 - categorical_accuracy: 0.9691 - val_loss: 0.1150 - val_categorical_accuracy: 0.9715\n",
            "Epoch 17/100\n",
            "4781/4781 - 19s - loss: 0.1094 - categorical_accuracy: 0.9697 - val_loss: 0.1221 - val_categorical_accuracy: 0.9686\n",
            "Epoch 18/100\n",
            "4781/4781 - 19s - loss: 0.1097 - categorical_accuracy: 0.9697 - val_loss: 0.1202 - val_categorical_accuracy: 0.9693\n",
            "Epoch 19/100\n",
            "4781/4781 - 18s - loss: 0.1081 - categorical_accuracy: 0.9700 - val_loss: 0.1335 - val_categorical_accuracy: 0.9637\n",
            "Epoch 20/100\n",
            "4781/4781 - 18s - loss: 0.1088 - categorical_accuracy: 0.9699 - val_loss: 0.1264 - val_categorical_accuracy: 0.9703\n",
            "Epoch 21/100\n",
            "4781/4781 - 19s - loss: 0.1059 - categorical_accuracy: 0.9707 - val_loss: 0.1285 - val_categorical_accuracy: 0.9662\n",
            "Epoch 22/100\n",
            "4781/4781 - 19s - loss: 0.1072 - categorical_accuracy: 0.9704 - val_loss: 0.1223 - val_categorical_accuracy: 0.9701\n"
          ],
          "name": "stdout"
        },
        {
          "output_type": "execute_result",
          "data": {
            "text/plain": [
              "<tensorflow.python.keras.callbacks.History at 0x7f0e1c2d7748>"
            ]
          },
          "metadata": {
            "tags": []
          },
          "execution_count": 12
        }
      ]
    },
    {
      "cell_type": "code",
      "metadata": {
        "id": "NK0SeGUsIWie",
        "colab_type": "code",
        "outputId": "1fa43988-0648-4e5b-a4f8-b788c09ff766",
        "colab": {
          "base_uri": "https://localhost:8080/",
          "height": 105
        }
      },
      "source": [
        "_, acc = model.evaluate(x_test1, y_test1)\n",
        "print(f'Accuracy = {acc:.5f}')\n",
        "_, acc = model.evaluate(x_test, y_test)\n",
        "print(f'Accuracy = {acc:.5f}')"
      ],
      "execution_count": 0,
      "outputs": [
        {
          "output_type": "stream",
          "text": [
            "313/313 [==============================] - 1s 2ms/step - loss: 49.9188 - categorical_accuracy: 0.2609\n",
            "Accuracy = 0.26090\n",
            "814/814 [==============================] - 2s 2ms/step - loss: 0.2932 - categorical_accuracy: 0.9264\n",
            "Accuracy = 0.92644\n"
          ],
          "name": "stdout"
        }
      ]
    },
    {
      "cell_type": "code",
      "metadata": {
        "id": "ddb7DeonK7Z8",
        "colab_type": "code",
        "outputId": "f4ef4b1d-d05a-4426-f765-182cd38d0d0c",
        "colab": {
          "base_uri": "https://localhost:8080/",
          "height": 34
        }
      },
      "source": [
        "import tensorflow as tf\n",
        "tf.test.gpu_device_name()"
      ],
      "execution_count": 0,
      "outputs": [
        {
          "output_type": "execute_result",
          "data": {
            "text/plain": [
              "'/device:GPU:0'"
            ]
          },
          "metadata": {
            "tags": []
          },
          "execution_count": 16
        }
      ]
    }
  ]
}